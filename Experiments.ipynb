{
  "nbformat": 4,
  "nbformat_minor": 0,
  "metadata": {
    "colab": {
      "provenance": [],
      "authorship_tag": "ABX9TyNAnBHSovapyD5g9cWS+Q6f",
      "include_colab_link": true
    },
    "kernelspec": {
      "name": "python3",
      "display_name": "Python 3"
    },
    "language_info": {
      "name": "python"
    }
  },
  "cells": [
    {
      "cell_type": "markdown",
      "metadata": {
        "id": "view-in-github",
        "colab_type": "text"
      },
      "source": [
        "<a href=\"https://colab.research.google.com/github/strzelnat/Charts_exercisers/blob/main/Experiments.ipynb\" target=\"_parent\"><img src=\"https://colab.research.google.com/assets/colab-badge.svg\" alt=\"Open In Colab\"/></a>"
      ]
    },
    {
      "cell_type": "code",
      "execution_count": null,
      "metadata": {
        "colab": {
          "base_uri": "https://localhost:8080/"
        },
        "id": "gIZdxz0BvS4I",
        "outputId": "d62348ae-c720-4d89-d19c-d4604e1e3dd5"
      },
      "outputs": [
        {
          "output_type": "stream",
          "name": "stdout",
          "text": [
            "Collecting chart_studio\n",
            "  Downloading chart_studio-1.1.0-py3-none-any.whl.metadata (1.3 kB)\n",
            "Requirement already satisfied: plotly in /usr/local/lib/python3.11/dist-packages (from chart_studio) (5.24.1)\n",
            "Requirement already satisfied: requests in /usr/local/lib/python3.11/dist-packages (from chart_studio) (2.32.3)\n",
            "Collecting retrying>=1.3.3 (from chart_studio)\n",
            "  Downloading retrying-1.4.0-py3-none-any.whl.metadata (7.5 kB)\n",
            "Requirement already satisfied: six in /usr/local/lib/python3.11/dist-packages (from chart_studio) (1.17.0)\n",
            "Requirement already satisfied: tenacity>=6.2.0 in /usr/local/lib/python3.11/dist-packages (from plotly->chart_studio) (8.5.0)\n",
            "Requirement already satisfied: packaging in /usr/local/lib/python3.11/dist-packages (from plotly->chart_studio) (24.2)\n",
            "Requirement already satisfied: charset-normalizer<4,>=2 in /usr/local/lib/python3.11/dist-packages (from requests->chart_studio) (3.4.2)\n",
            "Requirement already satisfied: idna<4,>=2.5 in /usr/local/lib/python3.11/dist-packages (from requests->chart_studio) (3.10)\n",
            "Requirement already satisfied: urllib3<3,>=1.21.1 in /usr/local/lib/python3.11/dist-packages (from requests->chart_studio) (2.4.0)\n",
            "Requirement already satisfied: certifi>=2017.4.17 in /usr/local/lib/python3.11/dist-packages (from requests->chart_studio) (2025.6.15)\n",
            "Downloading chart_studio-1.1.0-py3-none-any.whl (64 kB)\n",
            "\u001b[2K   \u001b[90m━━━━━━━━━━━━━━━━━━━━━━━━━━━━━━━━━━━━━━━━\u001b[0m \u001b[32m64.4/64.4 kB\u001b[0m \u001b[31m4.4 MB/s\u001b[0m eta \u001b[36m0:00:00\u001b[0m\n",
            "\u001b[?25hDownloading retrying-1.4.0-py3-none-any.whl (11 kB)\n",
            "Installing collected packages: retrying, chart_studio\n",
            "Successfully installed chart_studio-1.1.0 retrying-1.4.0\n"
          ]
        }
      ],
      "source": [
        "!pip install chart_studio"
      ]
    },
    {
      "cell_type": "code",
      "source": [
        "!pip install --upgarde plotly"
      ],
      "metadata": {
        "colab": {
          "base_uri": "https://localhost:8080/"
        },
        "id": "ODtsAETvvcew",
        "outputId": "4d0c66d6-57c5-4229-a47b-066e473bdfe6"
      },
      "execution_count": null,
      "outputs": [
        {
          "output_type": "stream",
          "name": "stdout",
          "text": [
            "\n",
            "Usage:   \n",
            "  pip3 install [options] <requirement specifier> [package-index-options] ...\n",
            "  pip3 install [options] -r <requirements file> [package-index-options] ...\n",
            "  pip3 install [options] [-e] <vcs project url> ...\n",
            "  pip3 install [options] [-e] <local project path> ...\n",
            "  pip3 install [options] <archive url/path> ...\n",
            "\n",
            "no such option: --upgarde\n"
          ]
        }
      ]
    },
    {
      "cell_type": "code",
      "source": [
        "import chart_studio.tools as tl\n",
        "import plotly.express as px\n",
        "import chart_studio.plotly as pl\n",
        "import plotly.io as pio\n",
        "import pandas as pd\n",
        "import numpy as np"
      ],
      "metadata": {
        "id": "koIIogfUveiV"
      },
      "execution_count": null,
      "outputs": []
    },
    {
      "cell_type": "code",
      "source": [
        "df = px.data.experiment()\n",
        "df.head()"
      ],
      "metadata": {
        "colab": {
          "base_uri": "https://localhost:8080/",
          "height": 206
        },
        "id": "hohaWvzhvigw",
        "outputId": "0cf1debc-7481-4557-c858-17c7d5d769cf"
      },
      "execution_count": null,
      "outputs": [
        {
          "output_type": "execute_result",
          "data": {
            "text/plain": [
              "   experiment_1  experiment_2  experiment_3  gender      group\n",
              "0     96.876065     93.417942     73.033193    male    control\n",
              "1     87.301336    129.603395     66.056554  female    control\n",
              "2     97.691312    106.187916    103.422709    male  treatment\n",
              "3    102.978152     93.814682     56.995870  female  treatment\n",
              "4     87.106993    107.019985     72.140292    male    control"
            ],
            "text/html": [
              "\n",
              "  <div id=\"df-742edca4-98d3-4906-ac0d-dbfefd408c7f\" class=\"colab-df-container\">\n",
              "    <div>\n",
              "<style scoped>\n",
              "    .dataframe tbody tr th:only-of-type {\n",
              "        vertical-align: middle;\n",
              "    }\n",
              "\n",
              "    .dataframe tbody tr th {\n",
              "        vertical-align: top;\n",
              "    }\n",
              "\n",
              "    .dataframe thead th {\n",
              "        text-align: right;\n",
              "    }\n",
              "</style>\n",
              "<table border=\"1\" class=\"dataframe\">\n",
              "  <thead>\n",
              "    <tr style=\"text-align: right;\">\n",
              "      <th></th>\n",
              "      <th>experiment_1</th>\n",
              "      <th>experiment_2</th>\n",
              "      <th>experiment_3</th>\n",
              "      <th>gender</th>\n",
              "      <th>group</th>\n",
              "    </tr>\n",
              "  </thead>\n",
              "  <tbody>\n",
              "    <tr>\n",
              "      <th>0</th>\n",
              "      <td>96.876065</td>\n",
              "      <td>93.417942</td>\n",
              "      <td>73.033193</td>\n",
              "      <td>male</td>\n",
              "      <td>control</td>\n",
              "    </tr>\n",
              "    <tr>\n",
              "      <th>1</th>\n",
              "      <td>87.301336</td>\n",
              "      <td>129.603395</td>\n",
              "      <td>66.056554</td>\n",
              "      <td>female</td>\n",
              "      <td>control</td>\n",
              "    </tr>\n",
              "    <tr>\n",
              "      <th>2</th>\n",
              "      <td>97.691312</td>\n",
              "      <td>106.187916</td>\n",
              "      <td>103.422709</td>\n",
              "      <td>male</td>\n",
              "      <td>treatment</td>\n",
              "    </tr>\n",
              "    <tr>\n",
              "      <th>3</th>\n",
              "      <td>102.978152</td>\n",
              "      <td>93.814682</td>\n",
              "      <td>56.995870</td>\n",
              "      <td>female</td>\n",
              "      <td>treatment</td>\n",
              "    </tr>\n",
              "    <tr>\n",
              "      <th>4</th>\n",
              "      <td>87.106993</td>\n",
              "      <td>107.019985</td>\n",
              "      <td>72.140292</td>\n",
              "      <td>male</td>\n",
              "      <td>control</td>\n",
              "    </tr>\n",
              "  </tbody>\n",
              "</table>\n",
              "</div>\n",
              "    <div class=\"colab-df-buttons\">\n",
              "\n",
              "  <div class=\"colab-df-container\">\n",
              "    <button class=\"colab-df-convert\" onclick=\"convertToInteractive('df-742edca4-98d3-4906-ac0d-dbfefd408c7f')\"\n",
              "            title=\"Convert this dataframe to an interactive table.\"\n",
              "            style=\"display:none;\">\n",
              "\n",
              "  <svg xmlns=\"http://www.w3.org/2000/svg\" height=\"24px\" viewBox=\"0 -960 960 960\">\n",
              "    <path d=\"M120-120v-720h720v720H120Zm60-500h600v-160H180v160Zm220 220h160v-160H400v160Zm0 220h160v-160H400v160ZM180-400h160v-160H180v160Zm440 0h160v-160H620v160ZM180-180h160v-160H180v160Zm440 0h160v-160H620v160Z\"/>\n",
              "  </svg>\n",
              "    </button>\n",
              "\n",
              "  <style>\n",
              "    .colab-df-container {\n",
              "      display:flex;\n",
              "      gap: 12px;\n",
              "    }\n",
              "\n",
              "    .colab-df-convert {\n",
              "      background-color: #E8F0FE;\n",
              "      border: none;\n",
              "      border-radius: 50%;\n",
              "      cursor: pointer;\n",
              "      display: none;\n",
              "      fill: #1967D2;\n",
              "      height: 32px;\n",
              "      padding: 0 0 0 0;\n",
              "      width: 32px;\n",
              "    }\n",
              "\n",
              "    .colab-df-convert:hover {\n",
              "      background-color: #E2EBFA;\n",
              "      box-shadow: 0px 1px 2px rgba(60, 64, 67, 0.3), 0px 1px 3px 1px rgba(60, 64, 67, 0.15);\n",
              "      fill: #174EA6;\n",
              "    }\n",
              "\n",
              "    .colab-df-buttons div {\n",
              "      margin-bottom: 4px;\n",
              "    }\n",
              "\n",
              "    [theme=dark] .colab-df-convert {\n",
              "      background-color: #3B4455;\n",
              "      fill: #D2E3FC;\n",
              "    }\n",
              "\n",
              "    [theme=dark] .colab-df-convert:hover {\n",
              "      background-color: #434B5C;\n",
              "      box-shadow: 0px 1px 3px 1px rgba(0, 0, 0, 0.15);\n",
              "      filter: drop-shadow(0px 1px 2px rgba(0, 0, 0, 0.3));\n",
              "      fill: #FFFFFF;\n",
              "    }\n",
              "  </style>\n",
              "\n",
              "    <script>\n",
              "      const buttonEl =\n",
              "        document.querySelector('#df-742edca4-98d3-4906-ac0d-dbfefd408c7f button.colab-df-convert');\n",
              "      buttonEl.style.display =\n",
              "        google.colab.kernel.accessAllowed ? 'block' : 'none';\n",
              "\n",
              "      async function convertToInteractive(key) {\n",
              "        const element = document.querySelector('#df-742edca4-98d3-4906-ac0d-dbfefd408c7f');\n",
              "        const dataTable =\n",
              "          await google.colab.kernel.invokeFunction('convertToInteractive',\n",
              "                                                    [key], {});\n",
              "        if (!dataTable) return;\n",
              "\n",
              "        const docLinkHtml = 'Like what you see? Visit the ' +\n",
              "          '<a target=\"_blank\" href=https://colab.research.google.com/notebooks/data_table.ipynb>data table notebook</a>'\n",
              "          + ' to learn more about interactive tables.';\n",
              "        element.innerHTML = '';\n",
              "        dataTable['output_type'] = 'display_data';\n",
              "        await google.colab.output.renderOutput(dataTable, element);\n",
              "        const docLink = document.createElement('div');\n",
              "        docLink.innerHTML = docLinkHtml;\n",
              "        element.appendChild(docLink);\n",
              "      }\n",
              "    </script>\n",
              "  </div>\n",
              "\n",
              "\n",
              "    <div id=\"df-9d7a85e5-62f9-4321-9fff-feaf505fe831\">\n",
              "      <button class=\"colab-df-quickchart\" onclick=\"quickchart('df-9d7a85e5-62f9-4321-9fff-feaf505fe831')\"\n",
              "                title=\"Suggest charts\"\n",
              "                style=\"display:none;\">\n",
              "\n",
              "<svg xmlns=\"http://www.w3.org/2000/svg\" height=\"24px\"viewBox=\"0 0 24 24\"\n",
              "     width=\"24px\">\n",
              "    <g>\n",
              "        <path d=\"M19 3H5c-1.1 0-2 .9-2 2v14c0 1.1.9 2 2 2h14c1.1 0 2-.9 2-2V5c0-1.1-.9-2-2-2zM9 17H7v-7h2v7zm4 0h-2V7h2v10zm4 0h-2v-4h2v4z\"/>\n",
              "    </g>\n",
              "</svg>\n",
              "      </button>\n",
              "\n",
              "<style>\n",
              "  .colab-df-quickchart {\n",
              "      --bg-color: #E8F0FE;\n",
              "      --fill-color: #1967D2;\n",
              "      --hover-bg-color: #E2EBFA;\n",
              "      --hover-fill-color: #174EA6;\n",
              "      --disabled-fill-color: #AAA;\n",
              "      --disabled-bg-color: #DDD;\n",
              "  }\n",
              "\n",
              "  [theme=dark] .colab-df-quickchart {\n",
              "      --bg-color: #3B4455;\n",
              "      --fill-color: #D2E3FC;\n",
              "      --hover-bg-color: #434B5C;\n",
              "      --hover-fill-color: #FFFFFF;\n",
              "      --disabled-bg-color: #3B4455;\n",
              "      --disabled-fill-color: #666;\n",
              "  }\n",
              "\n",
              "  .colab-df-quickchart {\n",
              "    background-color: var(--bg-color);\n",
              "    border: none;\n",
              "    border-radius: 50%;\n",
              "    cursor: pointer;\n",
              "    display: none;\n",
              "    fill: var(--fill-color);\n",
              "    height: 32px;\n",
              "    padding: 0;\n",
              "    width: 32px;\n",
              "  }\n",
              "\n",
              "  .colab-df-quickchart:hover {\n",
              "    background-color: var(--hover-bg-color);\n",
              "    box-shadow: 0 1px 2px rgba(60, 64, 67, 0.3), 0 1px 3px 1px rgba(60, 64, 67, 0.15);\n",
              "    fill: var(--button-hover-fill-color);\n",
              "  }\n",
              "\n",
              "  .colab-df-quickchart-complete:disabled,\n",
              "  .colab-df-quickchart-complete:disabled:hover {\n",
              "    background-color: var(--disabled-bg-color);\n",
              "    fill: var(--disabled-fill-color);\n",
              "    box-shadow: none;\n",
              "  }\n",
              "\n",
              "  .colab-df-spinner {\n",
              "    border: 2px solid var(--fill-color);\n",
              "    border-color: transparent;\n",
              "    border-bottom-color: var(--fill-color);\n",
              "    animation:\n",
              "      spin 1s steps(1) infinite;\n",
              "  }\n",
              "\n",
              "  @keyframes spin {\n",
              "    0% {\n",
              "      border-color: transparent;\n",
              "      border-bottom-color: var(--fill-color);\n",
              "      border-left-color: var(--fill-color);\n",
              "    }\n",
              "    20% {\n",
              "      border-color: transparent;\n",
              "      border-left-color: var(--fill-color);\n",
              "      border-top-color: var(--fill-color);\n",
              "    }\n",
              "    30% {\n",
              "      border-color: transparent;\n",
              "      border-left-color: var(--fill-color);\n",
              "      border-top-color: var(--fill-color);\n",
              "      border-right-color: var(--fill-color);\n",
              "    }\n",
              "    40% {\n",
              "      border-color: transparent;\n",
              "      border-right-color: var(--fill-color);\n",
              "      border-top-color: var(--fill-color);\n",
              "    }\n",
              "    60% {\n",
              "      border-color: transparent;\n",
              "      border-right-color: var(--fill-color);\n",
              "    }\n",
              "    80% {\n",
              "      border-color: transparent;\n",
              "      border-right-color: var(--fill-color);\n",
              "      border-bottom-color: var(--fill-color);\n",
              "    }\n",
              "    90% {\n",
              "      border-color: transparent;\n",
              "      border-bottom-color: var(--fill-color);\n",
              "    }\n",
              "  }\n",
              "</style>\n",
              "\n",
              "      <script>\n",
              "        async function quickchart(key) {\n",
              "          const quickchartButtonEl =\n",
              "            document.querySelector('#' + key + ' button');\n",
              "          quickchartButtonEl.disabled = true;  // To prevent multiple clicks.\n",
              "          quickchartButtonEl.classList.add('colab-df-spinner');\n",
              "          try {\n",
              "            const charts = await google.colab.kernel.invokeFunction(\n",
              "                'suggestCharts', [key], {});\n",
              "          } catch (error) {\n",
              "            console.error('Error during call to suggestCharts:', error);\n",
              "          }\n",
              "          quickchartButtonEl.classList.remove('colab-df-spinner');\n",
              "          quickchartButtonEl.classList.add('colab-df-quickchart-complete');\n",
              "        }\n",
              "        (() => {\n",
              "          let quickchartButtonEl =\n",
              "            document.querySelector('#df-9d7a85e5-62f9-4321-9fff-feaf505fe831 button');\n",
              "          quickchartButtonEl.style.display =\n",
              "            google.colab.kernel.accessAllowed ? 'block' : 'none';\n",
              "        })();\n",
              "      </script>\n",
              "    </div>\n",
              "\n",
              "    </div>\n",
              "  </div>\n"
            ],
            "application/vnd.google.colaboratory.intrinsic+json": {
              "type": "dataframe",
              "variable_name": "df",
              "summary": "{\n  \"name\": \"df\",\n  \"rows\": 100,\n  \"fields\": [\n    {\n      \"column\": \"experiment_1\",\n      \"properties\": {\n        \"dtype\": \"number\",\n        \"std\": 9.425540393467358,\n        \"min\": 79.42957481543229,\n        \"max\": 125.5204245339222,\n        \"num_unique_values\": 100,\n        \"samples\": [\n          105.41326143638526,\n          88.86870748537869,\n          83.8308994934392\n        ],\n        \"semantic_type\": \"\",\n        \"description\": \"\"\n      }\n    },\n    {\n      \"column\": \"experiment_2\",\n      \"properties\": {\n        \"dtype\": \"number\",\n        \"std\": 13.482655071902116,\n        \"min\": 82.48071301855163,\n        \"max\": 143.68589169199117,\n        \"num_unique_values\": 100,\n        \"samples\": [\n          86.92391691963303,\n          99.895240748729,\n          100.35633403365804\n        ],\n        \"semantic_type\": \"\",\n        \"description\": \"\"\n      }\n    },\n    {\n      \"column\": \"experiment_3\",\n      \"properties\": {\n        \"dtype\": \"number\",\n        \"std\": 19.000266962168194,\n        \"min\": 25.528902727455872,\n        \"max\": 143.84643208361138,\n        \"num_unique_values\": 100,\n        \"samples\": [\n          91.16612042676972,\n          95.86144929579538,\n          93.73716887483364\n        ],\n        \"semantic_type\": \"\",\n        \"description\": \"\"\n      }\n    },\n    {\n      \"column\": \"gender\",\n      \"properties\": {\n        \"dtype\": \"category\",\n        \"num_unique_values\": 2,\n        \"samples\": [\n          \"female\",\n          \"male\"\n        ],\n        \"semantic_type\": \"\",\n        \"description\": \"\"\n      }\n    },\n    {\n      \"column\": \"group\",\n      \"properties\": {\n        \"dtype\": \"category\",\n        \"num_unique_values\": 2,\n        \"samples\": [\n          \"treatment\",\n          \"control\"\n        ],\n        \"semantic_type\": \"\",\n        \"description\": \"\"\n      }\n    }\n  ]\n}"
            }
          },
          "metadata": {},
          "execution_count": 6
        }
      ]
    },
    {
      "cell_type": "code",
      "source": [
        "fig1 = px.scatter_matrix(\n",
        "    df,\n",
        "    dimensions = ['experiment_1','experiment_2','experiment_3'],\n",
        "    symbol = 'gender',\n",
        "    color =  'gender',\n",
        "    template = 'plotly_dark',\n",
        "\n",
        ")\n",
        "\n",
        "fig1.update_layout(title = 'Scatter matrix for expermients  [except diagonal]', dragmode = 'select',    hovermode = 'x')\n",
        "fig1.update_traces(diagonal_visible = False)"
      ],
      "metadata": {
        "colab": {
          "base_uri": "https://localhost:8080/",
          "height": 542
        },
        "id": "2u2VLSwsvjV6",
        "outputId": "e64feaa0-daa7-4eac-93e0-6d5b93033512"
      },
      "execution_count": null,
      "outputs": [
        {
          "output_type": "display_data",
          "data": {
            "text/html": [
              "<html>\n",
              "<head><meta charset=\"utf-8\" /></head>\n",
              "<body>\n",
              "    <div>            <script src=\"https://cdnjs.cloudflare.com/ajax/libs/mathjax/2.7.5/MathJax.js?config=TeX-AMS-MML_SVG\"></script><script type=\"text/javascript\">if (window.MathJax && window.MathJax.Hub && window.MathJax.Hub.Config) {window.MathJax.Hub.Config({SVG: {font: \"STIX-Web\"}});}</script>                <script type=\"text/javascript\">window.PlotlyConfig = {MathJaxConfig: 'local'};</script>\n",
              "        <script charset=\"utf-8\" src=\"https://cdn.plot.ly/plotly-2.35.2.min.js\"></script>                <div id=\"02434143-675b-43c2-ae72-98a483eef910\" class=\"plotly-graph-div\" style=\"height:525px; width:100%;\"></div>            <script type=\"text/javascript\">                                    window.PLOTLYENV=window.PLOTLYENV || {};                                    if (document.getElementById(\"02434143-675b-43c2-ae72-98a483eef910\")) {                    Plotly.newPlot(                        \"02434143-675b-43c2-ae72-98a483eef910\",                        [{\"dimensions\":[{\"axis\":{\"matches\":true},\"label\":\"experiment_1\",\"values\":[96.87606524104424,97.69131206443264,87.10699272862477,101.96789610675285,115.41235439928084,99.6172541280035,103.73322930003812,97.41300576349734,92.99825424103256,122.45771222849216,108.59703912851718,108.22082997242558,106.68567646477835,91.77160903135388,99.36447339671628,104.22003927060842,93.0952189075527,112.79439507221171,105.60548763385378,101.58409349079014,115.1745293454008,94.98263666330396,90.53505148745876,102.07570100045706,99.16252467399494,101.20197149116704,104.84390950771105,106.99313326342283,79.91007596007512,106.50911841835378,105.86488743479735,82.45375160201769,111.57539596013696,125.5204245339222,110.8333387158032,83.8308994934392,95.34256875179256,88.39280684001895,94.49978699806825,88.02583256666699,103.97741353721,94.75344491514376,89.98571694680537,106.45557892554882,100.58494014361828,100.17749269798531,101.3205252320304,102.77062539939328,91.73999230125186,106.36240592567884]},{\"axis\":{\"matches\":true},\"label\":\"experiment_2\",\"values\":[93.41794186205836,106.18791583747864,107.01998547962673,95.08891880671696,105.13793762581705,106.19263647197582,103.64300947168036,133.81460507676135,119.11313771972604,125.57402071454852,114.55578187212689,111.2655464432314,125.53691833259457,106.11835373702648,128.98211960060868,98.53000797317672,117.4908416284272,108.65787818177574,100.31935141294606,106.43997407520592,101.21513001268984,121.1716702929984,106.4738708421859,110.42502823706356,115.87027487805348,88.65923075825724,92.46744327013312,94.9336684921247,93.61647573375812,109.31644644934065,91.33176428280692,119.99866553631976,121.36550691186274,82.48071301855163,117.96705726440037,100.35633403365804,106.71264388984817,118.37686641258448,112.74449166670784,124.43908197971108,136.6736157228351,137.7421034460475,115.87117118675488,100.02567617575396,120.93374474771228,104.67370034744938,105.71129083938632,129.00227367829714,111.1253771258949,115.52238227700173]},{\"axis\":{\"matches\":true},\"label\":\"experiment_3\",\"values\":[73.03319261806172,103.42270945298878,72.14029211350231,111.81685216636848,96.28039576038483,97.9614052031477,92.6733901151631,85.86631202379608,85.53334112377719,110.15293673867568,74.57665002405716,96.23192720552623,93.42960247255095,84.86622957834284,93.68353539266592,84.78250808783284,75.317582722818,80.0527938687015,98.61238234207067,69.8017451924211,43.801175752611606,99.41949730696815,81.38217435797954,82.10664726913008,56.94730371262592,84.19773610407385,143.84643208361138,126.23854648453153,25.528902727455872,78.05352942296578,55.15574459592456,81.84612840166531,81.13130127077808,73.5436296499183,112.34804577447116,93.73716887483364,89.65914020129773,92.9848024432388,122.96692500755688,92.4851775911426,119.81130284877877,94.41014090268736,91.76224286416664,115.64157104921004,88.39586580661535,73.25099641056534,73.73084439286063,52.11112167838937,64.26099304241377,123.46968854252772]}],\"hovertemplate\":\"gender=male\\u003cbr\\u003e%{xaxis.title.text}=%{x}\\u003cbr\\u003e%{yaxis.title.text}=%{y}\\u003cextra\\u003e\\u003c\\u002fextra\\u003e\",\"legendgroup\":\"male\",\"marker\":{\"color\":\"#636efa\",\"symbol\":\"circle\"},\"name\":\"male\",\"showlegend\":true,\"type\":\"splom\",\"diagonal\":{\"visible\":false}},{\"dimensions\":[{\"axis\":{\"matches\":true},\"label\":\"experiment_1\",\"values\":[87.30133583529452,102.97815237236064,106.650988962703,117.78402141130046,107.3273448045416,100.90801801849013,96.82862968379752,111.71546116211962,103.0370263885008,111.72093843245534,86.00067917492646,107.02254986229214,98.33722206969595,114.0102260806097,102.0848651185468,90.8419388241776,120.28494035137344,97.38937970522906,106.3602628726801,79.627960848754,106.53182376731462,96.78131630120166,97.3724477688896,113.34644089441548,115.19093327622592,102.15438485258844,88.86870748537869,79.42957481543229,102.75674518465028,116.57613978851472,101.6406509148884,103.47113336815175,90.52597523832,90.21247438443784,103.86151675950492,104.89507698266064,101.3127213745742,100.51923728271925,115.28544529751144,108.21594141266117,93.02648850216076,105.41326143638526,99.19797691786115,106.53740176869354,100.28481061716067,108.15167224711271,99.17755784625103,108.1569641420406,95.41034685726756,94.2692372873789]},{\"axis\":{\"matches\":true},\"label\":\"experiment_2\",\"values\":[129.60339543098098,93.8146817305033,94.01726233779416,115.39140402812605,134.4989267139621,98.49773453074349,118.28851360684462,143.68589169199117,113.49030757386136,97.29321087218584,102.8148302845022,107.32317041909052,120.66187625946849,113.19411909266884,96.76265139283652,129.77868819843576,128.10347266036626,93.97915042860836,99.20417350710404,126.39982636138508,107.28672680975174,127.24938650893672,103.45396742654022,114.28422515239596,102.76053814688797,112.09850718335584,99.895240748729,102.10062558140578,115.6401933040668,106.18926547435316,120.14042960264156,106.97465225615018,98.71650364377432,90.0325909853458,110.80555993405694,103.2406397128152,112.40253823162678,89.408981677046,113.71706929679968,133.07129566591016,108.40115937104376,86.92391691963303,130.11109471859805,102.49887098636997,99.53759126542052,137.99435901344117,88.57072941909104,105.97154070236674,84.44832175269606,104.6510642690364]},{\"axis\":{\"matches\":true},\"label\":\"experiment_3\",\"values\":[66.05655384860344,56.99587018931086,76.62440110809008,98.64938286937958,86.43129372481046,81.57649628140524,69.04800214309412,98.9968522988364,99.17539628161732,99.82865111091688,93.4909918341224,68.64741021134407,68.27452225629308,83.2783694811895,109.4336405768756,103.4072175445103,115.58696867308667,106.2872379688312,70.37381577213912,85.41912263305407,60.81179285463617,81.067194207433,64.5680823183638,114.0800090383604,76.81854612272282,96.88296557581286,95.86144929579538,105.39919358542934,85.0183158666797,89.43052556366084,103.6598229404085,99.3315284278933,105.87651496636612,94.68164053424204,103.02493792432377,113.1460990824864,103.5323883381708,91.39393639000464,103.10058008500462,110.2178377106918,87.60512026902201,91.16612042676972,83.04163191003826,89.8283252286509,116.9537068983502,105.05479181425382,78.65504095998203,64.52402923016913,75.50599064359672,92.38748987804956]}],\"hovertemplate\":\"gender=female\\u003cbr\\u003e%{xaxis.title.text}=%{x}\\u003cbr\\u003e%{yaxis.title.text}=%{y}\\u003cextra\\u003e\\u003c\\u002fextra\\u003e\",\"legendgroup\":\"female\",\"marker\":{\"color\":\"#EF553B\",\"symbol\":\"diamond\"},\"name\":\"female\",\"showlegend\":true,\"type\":\"splom\",\"diagonal\":{\"visible\":false}}],                        {\"template\":{\"data\":{\"barpolar\":[{\"marker\":{\"line\":{\"color\":\"rgb(17,17,17)\",\"width\":0.5},\"pattern\":{\"fillmode\":\"overlay\",\"size\":10,\"solidity\":0.2}},\"type\":\"barpolar\"}],\"bar\":[{\"error_x\":{\"color\":\"#f2f5fa\"},\"error_y\":{\"color\":\"#f2f5fa\"},\"marker\":{\"line\":{\"color\":\"rgb(17,17,17)\",\"width\":0.5},\"pattern\":{\"fillmode\":\"overlay\",\"size\":10,\"solidity\":0.2}},\"type\":\"bar\"}],\"carpet\":[{\"aaxis\":{\"endlinecolor\":\"#A2B1C6\",\"gridcolor\":\"#506784\",\"linecolor\":\"#506784\",\"minorgridcolor\":\"#506784\",\"startlinecolor\":\"#A2B1C6\"},\"baxis\":{\"endlinecolor\":\"#A2B1C6\",\"gridcolor\":\"#506784\",\"linecolor\":\"#506784\",\"minorgridcolor\":\"#506784\",\"startlinecolor\":\"#A2B1C6\"},\"type\":\"carpet\"}],\"choropleth\":[{\"colorbar\":{\"outlinewidth\":0,\"ticks\":\"\"},\"type\":\"choropleth\"}],\"contourcarpet\":[{\"colorbar\":{\"outlinewidth\":0,\"ticks\":\"\"},\"type\":\"contourcarpet\"}],\"contour\":[{\"colorbar\":{\"outlinewidth\":0,\"ticks\":\"\"},\"colorscale\":[[0.0,\"#0d0887\"],[0.1111111111111111,\"#46039f\"],[0.2222222222222222,\"#7201a8\"],[0.3333333333333333,\"#9c179e\"],[0.4444444444444444,\"#bd3786\"],[0.5555555555555556,\"#d8576b\"],[0.6666666666666666,\"#ed7953\"],[0.7777777777777778,\"#fb9f3a\"],[0.8888888888888888,\"#fdca26\"],[1.0,\"#f0f921\"]],\"type\":\"contour\"}],\"heatmapgl\":[{\"colorbar\":{\"outlinewidth\":0,\"ticks\":\"\"},\"colorscale\":[[0.0,\"#0d0887\"],[0.1111111111111111,\"#46039f\"],[0.2222222222222222,\"#7201a8\"],[0.3333333333333333,\"#9c179e\"],[0.4444444444444444,\"#bd3786\"],[0.5555555555555556,\"#d8576b\"],[0.6666666666666666,\"#ed7953\"],[0.7777777777777778,\"#fb9f3a\"],[0.8888888888888888,\"#fdca26\"],[1.0,\"#f0f921\"]],\"type\":\"heatmapgl\"}],\"heatmap\":[{\"colorbar\":{\"outlinewidth\":0,\"ticks\":\"\"},\"colorscale\":[[0.0,\"#0d0887\"],[0.1111111111111111,\"#46039f\"],[0.2222222222222222,\"#7201a8\"],[0.3333333333333333,\"#9c179e\"],[0.4444444444444444,\"#bd3786\"],[0.5555555555555556,\"#d8576b\"],[0.6666666666666666,\"#ed7953\"],[0.7777777777777778,\"#fb9f3a\"],[0.8888888888888888,\"#fdca26\"],[1.0,\"#f0f921\"]],\"type\":\"heatmap\"}],\"histogram2dcontour\":[{\"colorbar\":{\"outlinewidth\":0,\"ticks\":\"\"},\"colorscale\":[[0.0,\"#0d0887\"],[0.1111111111111111,\"#46039f\"],[0.2222222222222222,\"#7201a8\"],[0.3333333333333333,\"#9c179e\"],[0.4444444444444444,\"#bd3786\"],[0.5555555555555556,\"#d8576b\"],[0.6666666666666666,\"#ed7953\"],[0.7777777777777778,\"#fb9f3a\"],[0.8888888888888888,\"#fdca26\"],[1.0,\"#f0f921\"]],\"type\":\"histogram2dcontour\"}],\"histogram2d\":[{\"colorbar\":{\"outlinewidth\":0,\"ticks\":\"\"},\"colorscale\":[[0.0,\"#0d0887\"],[0.1111111111111111,\"#46039f\"],[0.2222222222222222,\"#7201a8\"],[0.3333333333333333,\"#9c179e\"],[0.4444444444444444,\"#bd3786\"],[0.5555555555555556,\"#d8576b\"],[0.6666666666666666,\"#ed7953\"],[0.7777777777777778,\"#fb9f3a\"],[0.8888888888888888,\"#fdca26\"],[1.0,\"#f0f921\"]],\"type\":\"histogram2d\"}],\"histogram\":[{\"marker\":{\"pattern\":{\"fillmode\":\"overlay\",\"size\":10,\"solidity\":0.2}},\"type\":\"histogram\"}],\"mesh3d\":[{\"colorbar\":{\"outlinewidth\":0,\"ticks\":\"\"},\"type\":\"mesh3d\"}],\"parcoords\":[{\"line\":{\"colorbar\":{\"outlinewidth\":0,\"ticks\":\"\"}},\"type\":\"parcoords\"}],\"pie\":[{\"automargin\":true,\"type\":\"pie\"}],\"scatter3d\":[{\"line\":{\"colorbar\":{\"outlinewidth\":0,\"ticks\":\"\"}},\"marker\":{\"colorbar\":{\"outlinewidth\":0,\"ticks\":\"\"}},\"type\":\"scatter3d\"}],\"scattercarpet\":[{\"marker\":{\"colorbar\":{\"outlinewidth\":0,\"ticks\":\"\"}},\"type\":\"scattercarpet\"}],\"scattergeo\":[{\"marker\":{\"colorbar\":{\"outlinewidth\":0,\"ticks\":\"\"}},\"type\":\"scattergeo\"}],\"scattergl\":[{\"marker\":{\"line\":{\"color\":\"#283442\"}},\"type\":\"scattergl\"}],\"scattermapbox\":[{\"marker\":{\"colorbar\":{\"outlinewidth\":0,\"ticks\":\"\"}},\"type\":\"scattermapbox\"}],\"scatterpolargl\":[{\"marker\":{\"colorbar\":{\"outlinewidth\":0,\"ticks\":\"\"}},\"type\":\"scatterpolargl\"}],\"scatterpolar\":[{\"marker\":{\"colorbar\":{\"outlinewidth\":0,\"ticks\":\"\"}},\"type\":\"scatterpolar\"}],\"scatter\":[{\"marker\":{\"line\":{\"color\":\"#283442\"}},\"type\":\"scatter\"}],\"scatterternary\":[{\"marker\":{\"colorbar\":{\"outlinewidth\":0,\"ticks\":\"\"}},\"type\":\"scatterternary\"}],\"surface\":[{\"colorbar\":{\"outlinewidth\":0,\"ticks\":\"\"},\"colorscale\":[[0.0,\"#0d0887\"],[0.1111111111111111,\"#46039f\"],[0.2222222222222222,\"#7201a8\"],[0.3333333333333333,\"#9c179e\"],[0.4444444444444444,\"#bd3786\"],[0.5555555555555556,\"#d8576b\"],[0.6666666666666666,\"#ed7953\"],[0.7777777777777778,\"#fb9f3a\"],[0.8888888888888888,\"#fdca26\"],[1.0,\"#f0f921\"]],\"type\":\"surface\"}],\"table\":[{\"cells\":{\"fill\":{\"color\":\"#506784\"},\"line\":{\"color\":\"rgb(17,17,17)\"}},\"header\":{\"fill\":{\"color\":\"#2a3f5f\"},\"line\":{\"color\":\"rgb(17,17,17)\"}},\"type\":\"table\"}]},\"layout\":{\"annotationdefaults\":{\"arrowcolor\":\"#f2f5fa\",\"arrowhead\":0,\"arrowwidth\":1},\"autotypenumbers\":\"strict\",\"coloraxis\":{\"colorbar\":{\"outlinewidth\":0,\"ticks\":\"\"}},\"colorscale\":{\"diverging\":[[0,\"#8e0152\"],[0.1,\"#c51b7d\"],[0.2,\"#de77ae\"],[0.3,\"#f1b6da\"],[0.4,\"#fde0ef\"],[0.5,\"#f7f7f7\"],[0.6,\"#e6f5d0\"],[0.7,\"#b8e186\"],[0.8,\"#7fbc41\"],[0.9,\"#4d9221\"],[1,\"#276419\"]],\"sequential\":[[0.0,\"#0d0887\"],[0.1111111111111111,\"#46039f\"],[0.2222222222222222,\"#7201a8\"],[0.3333333333333333,\"#9c179e\"],[0.4444444444444444,\"#bd3786\"],[0.5555555555555556,\"#d8576b\"],[0.6666666666666666,\"#ed7953\"],[0.7777777777777778,\"#fb9f3a\"],[0.8888888888888888,\"#fdca26\"],[1.0,\"#f0f921\"]],\"sequentialminus\":[[0.0,\"#0d0887\"],[0.1111111111111111,\"#46039f\"],[0.2222222222222222,\"#7201a8\"],[0.3333333333333333,\"#9c179e\"],[0.4444444444444444,\"#bd3786\"],[0.5555555555555556,\"#d8576b\"],[0.6666666666666666,\"#ed7953\"],[0.7777777777777778,\"#fb9f3a\"],[0.8888888888888888,\"#fdca26\"],[1.0,\"#f0f921\"]]},\"colorway\":[\"#636efa\",\"#EF553B\",\"#00cc96\",\"#ab63fa\",\"#FFA15A\",\"#19d3f3\",\"#FF6692\",\"#B6E880\",\"#FF97FF\",\"#FECB52\"],\"font\":{\"color\":\"#f2f5fa\"},\"geo\":{\"bgcolor\":\"rgb(17,17,17)\",\"lakecolor\":\"rgb(17,17,17)\",\"landcolor\":\"rgb(17,17,17)\",\"showlakes\":true,\"showland\":true,\"subunitcolor\":\"#506784\"},\"hoverlabel\":{\"align\":\"left\"},\"hovermode\":\"closest\",\"mapbox\":{\"style\":\"dark\"},\"paper_bgcolor\":\"rgb(17,17,17)\",\"plot_bgcolor\":\"rgb(17,17,17)\",\"polar\":{\"angularaxis\":{\"gridcolor\":\"#506784\",\"linecolor\":\"#506784\",\"ticks\":\"\"},\"bgcolor\":\"rgb(17,17,17)\",\"radialaxis\":{\"gridcolor\":\"#506784\",\"linecolor\":\"#506784\",\"ticks\":\"\"}},\"scene\":{\"xaxis\":{\"backgroundcolor\":\"rgb(17,17,17)\",\"gridcolor\":\"#506784\",\"gridwidth\":2,\"linecolor\":\"#506784\",\"showbackground\":true,\"ticks\":\"\",\"zerolinecolor\":\"#C8D4E3\"},\"yaxis\":{\"backgroundcolor\":\"rgb(17,17,17)\",\"gridcolor\":\"#506784\",\"gridwidth\":2,\"linecolor\":\"#506784\",\"showbackground\":true,\"ticks\":\"\",\"zerolinecolor\":\"#C8D4E3\"},\"zaxis\":{\"backgroundcolor\":\"rgb(17,17,17)\",\"gridcolor\":\"#506784\",\"gridwidth\":2,\"linecolor\":\"#506784\",\"showbackground\":true,\"ticks\":\"\",\"zerolinecolor\":\"#C8D4E3\"}},\"shapedefaults\":{\"line\":{\"color\":\"#f2f5fa\"}},\"sliderdefaults\":{\"bgcolor\":\"#C8D4E3\",\"bordercolor\":\"rgb(17,17,17)\",\"borderwidth\":1,\"tickwidth\":0},\"ternary\":{\"aaxis\":{\"gridcolor\":\"#506784\",\"linecolor\":\"#506784\",\"ticks\":\"\"},\"baxis\":{\"gridcolor\":\"#506784\",\"linecolor\":\"#506784\",\"ticks\":\"\"},\"bgcolor\":\"rgb(17,17,17)\",\"caxis\":{\"gridcolor\":\"#506784\",\"linecolor\":\"#506784\",\"ticks\":\"\"}},\"title\":{\"x\":0.05},\"updatemenudefaults\":{\"bgcolor\":\"#506784\",\"borderwidth\":0},\"xaxis\":{\"automargin\":true,\"gridcolor\":\"#283442\",\"linecolor\":\"#506784\",\"ticks\":\"\",\"title\":{\"standoff\":15},\"zerolinecolor\":\"#283442\",\"zerolinewidth\":2},\"yaxis\":{\"automargin\":true,\"gridcolor\":\"#283442\",\"linecolor\":\"#506784\",\"ticks\":\"\",\"title\":{\"standoff\":15},\"zerolinecolor\":\"#283442\",\"zerolinewidth\":2}}},\"legend\":{\"title\":{\"text\":\"gender\"},\"tracegroupgap\":0},\"margin\":{\"t\":60},\"dragmode\":\"select\",\"title\":{\"text\":\"Scatter matrix for expermients  [except diagonal]\"},\"hovermode\":\"x\"},                        {\"responsive\": true}                    ).then(function(){\n",
              "                            \n",
              "var gd = document.getElementById('02434143-675b-43c2-ae72-98a483eef910');\n",
              "var x = new MutationObserver(function (mutations, observer) {{\n",
              "        var display = window.getComputedStyle(gd).display;\n",
              "        if (!display || display === 'none') {{\n",
              "            console.log([gd, 'removed!']);\n",
              "            Plotly.purge(gd);\n",
              "            observer.disconnect();\n",
              "        }}\n",
              "}});\n",
              "\n",
              "// Listen for the removal of the full notebook cells\n",
              "var notebookContainer = gd.closest('#notebook-container');\n",
              "if (notebookContainer) {{\n",
              "    x.observe(notebookContainer, {childList: true});\n",
              "}}\n",
              "\n",
              "// Listen for the clearing of the current output cell\n",
              "var outputEl = gd.closest('.output');\n",
              "if (outputEl) {{\n",
              "    x.observe(outputEl, {childList: true});\n",
              "}}\n",
              "\n",
              "                        })                };                            </script>        </div>\n",
              "</body>\n",
              "</html>"
            ]
          },
          "metadata": {}
        }
      ]
    },
    {
      "cell_type": "code",
      "source": [
        "labels = {'experiment_1':'exp_1', 'experiment_2': 'exp_2', 'experiment_3': 'exp_3',}\n",
        "\n",
        "fig2 = px.parallel_coordinates(df, labels = labels, template='plotly_dark', color_continuous_scale='Viridis', color = 'experiment_3')\n",
        "\n",
        "fig2.show()"
      ],
      "metadata": {
        "colab": {
          "base_uri": "https://localhost:8080/",
          "height": 542
        },
        "id": "9YtUzVTTyrX2",
        "outputId": "b19d3f40-1d49-468f-8955-fe98b2e95bac"
      },
      "execution_count": null,
      "outputs": [
        {
          "output_type": "display_data",
          "data": {
            "text/html": [
              "<html>\n",
              "<head><meta charset=\"utf-8\" /></head>\n",
              "<body>\n",
              "    <div>            <script src=\"https://cdnjs.cloudflare.com/ajax/libs/mathjax/2.7.5/MathJax.js?config=TeX-AMS-MML_SVG\"></script><script type=\"text/javascript\">if (window.MathJax && window.MathJax.Hub && window.MathJax.Hub.Config) {window.MathJax.Hub.Config({SVG: {font: \"STIX-Web\"}});}</script>                <script type=\"text/javascript\">window.PlotlyConfig = {MathJaxConfig: 'local'};</script>\n",
              "        <script charset=\"utf-8\" src=\"https://cdn.plot.ly/plotly-2.35.2.min.js\"></script>                <div id=\"ff1a4d2e-eb5f-4eb7-83fe-c4b2b0f850e4\" class=\"plotly-graph-div\" style=\"height:525px; width:100%;\"></div>            <script type=\"text/javascript\">                                    window.PLOTLYENV=window.PLOTLYENV || {};                                    if (document.getElementById(\"ff1a4d2e-eb5f-4eb7-83fe-c4b2b0f850e4\")) {                    Plotly.newPlot(                        \"ff1a4d2e-eb5f-4eb7-83fe-c4b2b0f850e4\",                        [{\"dimensions\":[{\"label\":\"exp_1\",\"values\":[96.87606524104424,87.30133583529452,97.69131206443264,102.97815237236064,87.10699272862477,106.650988962703,101.96789610675285,117.78402141130046,115.41235439928084,107.3273448045416,99.6172541280035,100.90801801849013,103.73322930003812,96.82862968379752,97.41300576349734,111.71546116211962,92.99825424103256,103.0370263885008,122.45771222849216,111.72093843245534,108.59703912851718,86.00067917492646,108.22082997242558,107.02254986229214,106.68567646477835,98.33722206969595,91.77160903135388,114.0102260806097,99.36447339671628,102.0848651185468,104.22003927060842,90.8419388241776,93.0952189075527,120.28494035137344,112.79439507221171,97.38937970522906,105.60548763385378,106.3602628726801,101.58409349079014,79.627960848754,115.1745293454008,106.53182376731462,94.98263666330396,96.78131630120166,90.53505148745876,97.3724477688896,102.07570100045706,113.34644089441548,99.16252467399494,115.19093327622592,101.20197149116704,102.15438485258844,104.84390950771105,88.86870748537869,106.99313326342283,79.42957481543229,79.91007596007512,102.75674518465028,106.50911841835378,116.57613978851472,105.86488743479735,101.6406509148884,82.45375160201769,103.47113336815175,111.57539596013696,90.52597523832,125.5204245339222,90.21247438443784,110.8333387158032,103.86151675950492,83.8308994934392,104.89507698266064,95.34256875179256,101.3127213745742,88.39280684001895,100.51923728271925,94.49978699806825,115.28544529751144,88.02583256666699,108.21594141266117,103.97741353721,93.02648850216076,94.75344491514376,105.41326143638526,89.98571694680537,99.19797691786115,106.45557892554882,106.53740176869354,100.58494014361828,100.28481061716067,100.17749269798531,108.15167224711271,101.3205252320304,99.17755784625103,102.77062539939328,108.1569641420406,91.73999230125186,95.41034685726756,106.36240592567884,94.2692372873789]},{\"label\":\"exp_2\",\"values\":[93.41794186205836,129.60339543098098,106.18791583747864,93.8146817305033,107.01998547962673,94.01726233779416,95.08891880671696,115.39140402812605,105.13793762581705,134.4989267139621,106.19263647197582,98.49773453074349,103.64300947168036,118.28851360684462,133.81460507676135,143.68589169199117,119.11313771972604,113.49030757386136,125.57402071454852,97.29321087218584,114.55578187212689,102.8148302845022,111.2655464432314,107.32317041909052,125.53691833259457,120.66187625946849,106.11835373702648,113.19411909266884,128.98211960060868,96.76265139283652,98.53000797317672,129.77868819843576,117.4908416284272,128.10347266036626,108.65787818177574,93.97915042860836,100.31935141294606,99.20417350710404,106.43997407520592,126.39982636138508,101.21513001268984,107.28672680975174,121.1716702929984,127.24938650893672,106.4738708421859,103.45396742654022,110.42502823706356,114.28422515239596,115.87027487805348,102.76053814688797,88.65923075825724,112.09850718335584,92.46744327013312,99.895240748729,94.9336684921247,102.10062558140578,93.61647573375812,115.6401933040668,109.31644644934065,106.18926547435316,91.33176428280692,120.14042960264156,119.99866553631976,106.97465225615018,121.36550691186274,98.71650364377432,82.48071301855163,90.0325909853458,117.96705726440037,110.80555993405694,100.35633403365804,103.2406397128152,106.71264388984817,112.40253823162678,118.37686641258448,89.408981677046,112.74449166670784,113.71706929679968,124.43908197971108,133.07129566591016,136.6736157228351,108.40115937104376,137.7421034460475,86.92391691963303,115.87117118675488,130.11109471859805,100.02567617575396,102.49887098636997,120.93374474771228,99.53759126542052,104.67370034744938,137.99435901344117,105.71129083938632,88.57072941909104,129.00227367829714,105.97154070236674,111.1253771258949,84.44832175269606,115.52238227700173,104.6510642690364]},{\"label\":\"exp_3\",\"values\":[73.03319261806172,66.05655384860344,103.42270945298878,56.99587018931086,72.14029211350231,76.62440110809008,111.81685216636848,98.64938286937958,96.28039576038483,86.43129372481046,97.9614052031477,81.57649628140524,92.6733901151631,69.04800214309412,85.86631202379608,98.9968522988364,85.53334112377719,99.17539628161732,110.15293673867568,99.82865111091688,74.57665002405716,93.4909918341224,96.23192720552623,68.64741021134407,93.42960247255095,68.27452225629308,84.86622957834284,83.2783694811895,93.68353539266592,109.4336405768756,84.78250808783284,103.4072175445103,75.317582722818,115.58696867308667,80.0527938687015,106.2872379688312,98.61238234207067,70.37381577213912,69.8017451924211,85.41912263305407,43.801175752611606,60.81179285463617,99.41949730696815,81.067194207433,81.38217435797954,64.5680823183638,82.10664726913008,114.0800090383604,56.94730371262592,76.81854612272282,84.19773610407385,96.88296557581286,143.84643208361138,95.86144929579538,126.23854648453153,105.39919358542934,25.528902727455872,85.0183158666797,78.05352942296578,89.43052556366084,55.15574459592456,103.6598229404085,81.84612840166531,99.3315284278933,81.13130127077808,105.87651496636612,73.5436296499183,94.68164053424204,112.34804577447116,103.02493792432377,93.73716887483364,113.1460990824864,89.65914020129773,103.5323883381708,92.9848024432388,91.39393639000464,122.96692500755688,103.10058008500462,92.4851775911426,110.2178377106918,119.81130284877877,87.60512026902201,94.41014090268736,91.16612042676972,91.76224286416664,83.04163191003826,115.64157104921004,89.8283252286509,88.39586580661535,116.9537068983502,73.25099641056534,105.05479181425382,73.73084439286063,78.65504095998203,52.11112167838937,64.52402923016913,64.26099304241377,75.50599064359672,123.46968854252772,92.38748987804956]}],\"domain\":{\"x\":[0.0,1.0],\"y\":[0.0,1.0]},\"line\":{\"color\":[73.03319261806172,66.05655384860344,103.42270945298878,56.99587018931086,72.14029211350231,76.62440110809008,111.81685216636848,98.64938286937958,96.28039576038483,86.43129372481046,97.9614052031477,81.57649628140524,92.6733901151631,69.04800214309412,85.86631202379608,98.9968522988364,85.53334112377719,99.17539628161732,110.15293673867568,99.82865111091688,74.57665002405716,93.4909918341224,96.23192720552623,68.64741021134407,93.42960247255095,68.27452225629308,84.86622957834284,83.2783694811895,93.68353539266592,109.4336405768756,84.78250808783284,103.4072175445103,75.317582722818,115.58696867308667,80.0527938687015,106.2872379688312,98.61238234207067,70.37381577213912,69.8017451924211,85.41912263305407,43.801175752611606,60.81179285463617,99.41949730696815,81.067194207433,81.38217435797954,64.5680823183638,82.10664726913008,114.0800090383604,56.94730371262592,76.81854612272282,84.19773610407385,96.88296557581286,143.84643208361138,95.86144929579538,126.23854648453153,105.39919358542934,25.528902727455872,85.0183158666797,78.05352942296578,89.43052556366084,55.15574459592456,103.6598229404085,81.84612840166531,99.3315284278933,81.13130127077808,105.87651496636612,73.5436296499183,94.68164053424204,112.34804577447116,103.02493792432377,93.73716887483364,113.1460990824864,89.65914020129773,103.5323883381708,92.9848024432388,91.39393639000464,122.96692500755688,103.10058008500462,92.4851775911426,110.2178377106918,119.81130284877877,87.60512026902201,94.41014090268736,91.16612042676972,91.76224286416664,83.04163191003826,115.64157104921004,89.8283252286509,88.39586580661535,116.9537068983502,73.25099641056534,105.05479181425382,73.73084439286063,78.65504095998203,52.11112167838937,64.52402923016913,64.26099304241377,75.50599064359672,123.46968854252772,92.38748987804956],\"coloraxis\":\"coloraxis\"},\"name\":\"\",\"type\":\"parcoords\"}],                        {\"template\":{\"data\":{\"barpolar\":[{\"marker\":{\"line\":{\"color\":\"rgb(17,17,17)\",\"width\":0.5},\"pattern\":{\"fillmode\":\"overlay\",\"size\":10,\"solidity\":0.2}},\"type\":\"barpolar\"}],\"bar\":[{\"error_x\":{\"color\":\"#f2f5fa\"},\"error_y\":{\"color\":\"#f2f5fa\"},\"marker\":{\"line\":{\"color\":\"rgb(17,17,17)\",\"width\":0.5},\"pattern\":{\"fillmode\":\"overlay\",\"size\":10,\"solidity\":0.2}},\"type\":\"bar\"}],\"carpet\":[{\"aaxis\":{\"endlinecolor\":\"#A2B1C6\",\"gridcolor\":\"#506784\",\"linecolor\":\"#506784\",\"minorgridcolor\":\"#506784\",\"startlinecolor\":\"#A2B1C6\"},\"baxis\":{\"endlinecolor\":\"#A2B1C6\",\"gridcolor\":\"#506784\",\"linecolor\":\"#506784\",\"minorgridcolor\":\"#506784\",\"startlinecolor\":\"#A2B1C6\"},\"type\":\"carpet\"}],\"choropleth\":[{\"colorbar\":{\"outlinewidth\":0,\"ticks\":\"\"},\"type\":\"choropleth\"}],\"contourcarpet\":[{\"colorbar\":{\"outlinewidth\":0,\"ticks\":\"\"},\"type\":\"contourcarpet\"}],\"contour\":[{\"colorbar\":{\"outlinewidth\":0,\"ticks\":\"\"},\"colorscale\":[[0.0,\"#0d0887\"],[0.1111111111111111,\"#46039f\"],[0.2222222222222222,\"#7201a8\"],[0.3333333333333333,\"#9c179e\"],[0.4444444444444444,\"#bd3786\"],[0.5555555555555556,\"#d8576b\"],[0.6666666666666666,\"#ed7953\"],[0.7777777777777778,\"#fb9f3a\"],[0.8888888888888888,\"#fdca26\"],[1.0,\"#f0f921\"]],\"type\":\"contour\"}],\"heatmapgl\":[{\"colorbar\":{\"outlinewidth\":0,\"ticks\":\"\"},\"colorscale\":[[0.0,\"#0d0887\"],[0.1111111111111111,\"#46039f\"],[0.2222222222222222,\"#7201a8\"],[0.3333333333333333,\"#9c179e\"],[0.4444444444444444,\"#bd3786\"],[0.5555555555555556,\"#d8576b\"],[0.6666666666666666,\"#ed7953\"],[0.7777777777777778,\"#fb9f3a\"],[0.8888888888888888,\"#fdca26\"],[1.0,\"#f0f921\"]],\"type\":\"heatmapgl\"}],\"heatmap\":[{\"colorbar\":{\"outlinewidth\":0,\"ticks\":\"\"},\"colorscale\":[[0.0,\"#0d0887\"],[0.1111111111111111,\"#46039f\"],[0.2222222222222222,\"#7201a8\"],[0.3333333333333333,\"#9c179e\"],[0.4444444444444444,\"#bd3786\"],[0.5555555555555556,\"#d8576b\"],[0.6666666666666666,\"#ed7953\"],[0.7777777777777778,\"#fb9f3a\"],[0.8888888888888888,\"#fdca26\"],[1.0,\"#f0f921\"]],\"type\":\"heatmap\"}],\"histogram2dcontour\":[{\"colorbar\":{\"outlinewidth\":0,\"ticks\":\"\"},\"colorscale\":[[0.0,\"#0d0887\"],[0.1111111111111111,\"#46039f\"],[0.2222222222222222,\"#7201a8\"],[0.3333333333333333,\"#9c179e\"],[0.4444444444444444,\"#bd3786\"],[0.5555555555555556,\"#d8576b\"],[0.6666666666666666,\"#ed7953\"],[0.7777777777777778,\"#fb9f3a\"],[0.8888888888888888,\"#fdca26\"],[1.0,\"#f0f921\"]],\"type\":\"histogram2dcontour\"}],\"histogram2d\":[{\"colorbar\":{\"outlinewidth\":0,\"ticks\":\"\"},\"colorscale\":[[0.0,\"#0d0887\"],[0.1111111111111111,\"#46039f\"],[0.2222222222222222,\"#7201a8\"],[0.3333333333333333,\"#9c179e\"],[0.4444444444444444,\"#bd3786\"],[0.5555555555555556,\"#d8576b\"],[0.6666666666666666,\"#ed7953\"],[0.7777777777777778,\"#fb9f3a\"],[0.8888888888888888,\"#fdca26\"],[1.0,\"#f0f921\"]],\"type\":\"histogram2d\"}],\"histogram\":[{\"marker\":{\"pattern\":{\"fillmode\":\"overlay\",\"size\":10,\"solidity\":0.2}},\"type\":\"histogram\"}],\"mesh3d\":[{\"colorbar\":{\"outlinewidth\":0,\"ticks\":\"\"},\"type\":\"mesh3d\"}],\"parcoords\":[{\"line\":{\"colorbar\":{\"outlinewidth\":0,\"ticks\":\"\"}},\"type\":\"parcoords\"}],\"pie\":[{\"automargin\":true,\"type\":\"pie\"}],\"scatter3d\":[{\"line\":{\"colorbar\":{\"outlinewidth\":0,\"ticks\":\"\"}},\"marker\":{\"colorbar\":{\"outlinewidth\":0,\"ticks\":\"\"}},\"type\":\"scatter3d\"}],\"scattercarpet\":[{\"marker\":{\"colorbar\":{\"outlinewidth\":0,\"ticks\":\"\"}},\"type\":\"scattercarpet\"}],\"scattergeo\":[{\"marker\":{\"colorbar\":{\"outlinewidth\":0,\"ticks\":\"\"}},\"type\":\"scattergeo\"}],\"scattergl\":[{\"marker\":{\"line\":{\"color\":\"#283442\"}},\"type\":\"scattergl\"}],\"scattermapbox\":[{\"marker\":{\"colorbar\":{\"outlinewidth\":0,\"ticks\":\"\"}},\"type\":\"scattermapbox\"}],\"scatterpolargl\":[{\"marker\":{\"colorbar\":{\"outlinewidth\":0,\"ticks\":\"\"}},\"type\":\"scatterpolargl\"}],\"scatterpolar\":[{\"marker\":{\"colorbar\":{\"outlinewidth\":0,\"ticks\":\"\"}},\"type\":\"scatterpolar\"}],\"scatter\":[{\"marker\":{\"line\":{\"color\":\"#283442\"}},\"type\":\"scatter\"}],\"scatterternary\":[{\"marker\":{\"colorbar\":{\"outlinewidth\":0,\"ticks\":\"\"}},\"type\":\"scatterternary\"}],\"surface\":[{\"colorbar\":{\"outlinewidth\":0,\"ticks\":\"\"},\"colorscale\":[[0.0,\"#0d0887\"],[0.1111111111111111,\"#46039f\"],[0.2222222222222222,\"#7201a8\"],[0.3333333333333333,\"#9c179e\"],[0.4444444444444444,\"#bd3786\"],[0.5555555555555556,\"#d8576b\"],[0.6666666666666666,\"#ed7953\"],[0.7777777777777778,\"#fb9f3a\"],[0.8888888888888888,\"#fdca26\"],[1.0,\"#f0f921\"]],\"type\":\"surface\"}],\"table\":[{\"cells\":{\"fill\":{\"color\":\"#506784\"},\"line\":{\"color\":\"rgb(17,17,17)\"}},\"header\":{\"fill\":{\"color\":\"#2a3f5f\"},\"line\":{\"color\":\"rgb(17,17,17)\"}},\"type\":\"table\"}]},\"layout\":{\"annotationdefaults\":{\"arrowcolor\":\"#f2f5fa\",\"arrowhead\":0,\"arrowwidth\":1},\"autotypenumbers\":\"strict\",\"coloraxis\":{\"colorbar\":{\"outlinewidth\":0,\"ticks\":\"\"}},\"colorscale\":{\"diverging\":[[0,\"#8e0152\"],[0.1,\"#c51b7d\"],[0.2,\"#de77ae\"],[0.3,\"#f1b6da\"],[0.4,\"#fde0ef\"],[0.5,\"#f7f7f7\"],[0.6,\"#e6f5d0\"],[0.7,\"#b8e186\"],[0.8,\"#7fbc41\"],[0.9,\"#4d9221\"],[1,\"#276419\"]],\"sequential\":[[0.0,\"#0d0887\"],[0.1111111111111111,\"#46039f\"],[0.2222222222222222,\"#7201a8\"],[0.3333333333333333,\"#9c179e\"],[0.4444444444444444,\"#bd3786\"],[0.5555555555555556,\"#d8576b\"],[0.6666666666666666,\"#ed7953\"],[0.7777777777777778,\"#fb9f3a\"],[0.8888888888888888,\"#fdca26\"],[1.0,\"#f0f921\"]],\"sequentialminus\":[[0.0,\"#0d0887\"],[0.1111111111111111,\"#46039f\"],[0.2222222222222222,\"#7201a8\"],[0.3333333333333333,\"#9c179e\"],[0.4444444444444444,\"#bd3786\"],[0.5555555555555556,\"#d8576b\"],[0.6666666666666666,\"#ed7953\"],[0.7777777777777778,\"#fb9f3a\"],[0.8888888888888888,\"#fdca26\"],[1.0,\"#f0f921\"]]},\"colorway\":[\"#636efa\",\"#EF553B\",\"#00cc96\",\"#ab63fa\",\"#FFA15A\",\"#19d3f3\",\"#FF6692\",\"#B6E880\",\"#FF97FF\",\"#FECB52\"],\"font\":{\"color\":\"#f2f5fa\"},\"geo\":{\"bgcolor\":\"rgb(17,17,17)\",\"lakecolor\":\"rgb(17,17,17)\",\"landcolor\":\"rgb(17,17,17)\",\"showlakes\":true,\"showland\":true,\"subunitcolor\":\"#506784\"},\"hoverlabel\":{\"align\":\"left\"},\"hovermode\":\"closest\",\"mapbox\":{\"style\":\"dark\"},\"paper_bgcolor\":\"rgb(17,17,17)\",\"plot_bgcolor\":\"rgb(17,17,17)\",\"polar\":{\"angularaxis\":{\"gridcolor\":\"#506784\",\"linecolor\":\"#506784\",\"ticks\":\"\"},\"bgcolor\":\"rgb(17,17,17)\",\"radialaxis\":{\"gridcolor\":\"#506784\",\"linecolor\":\"#506784\",\"ticks\":\"\"}},\"scene\":{\"xaxis\":{\"backgroundcolor\":\"rgb(17,17,17)\",\"gridcolor\":\"#506784\",\"gridwidth\":2,\"linecolor\":\"#506784\",\"showbackground\":true,\"ticks\":\"\",\"zerolinecolor\":\"#C8D4E3\"},\"yaxis\":{\"backgroundcolor\":\"rgb(17,17,17)\",\"gridcolor\":\"#506784\",\"gridwidth\":2,\"linecolor\":\"#506784\",\"showbackground\":true,\"ticks\":\"\",\"zerolinecolor\":\"#C8D4E3\"},\"zaxis\":{\"backgroundcolor\":\"rgb(17,17,17)\",\"gridcolor\":\"#506784\",\"gridwidth\":2,\"linecolor\":\"#506784\",\"showbackground\":true,\"ticks\":\"\",\"zerolinecolor\":\"#C8D4E3\"}},\"shapedefaults\":{\"line\":{\"color\":\"#f2f5fa\"}},\"sliderdefaults\":{\"bgcolor\":\"#C8D4E3\",\"bordercolor\":\"rgb(17,17,17)\",\"borderwidth\":1,\"tickwidth\":0},\"ternary\":{\"aaxis\":{\"gridcolor\":\"#506784\",\"linecolor\":\"#506784\",\"ticks\":\"\"},\"baxis\":{\"gridcolor\":\"#506784\",\"linecolor\":\"#506784\",\"ticks\":\"\"},\"bgcolor\":\"rgb(17,17,17)\",\"caxis\":{\"gridcolor\":\"#506784\",\"linecolor\":\"#506784\",\"ticks\":\"\"}},\"title\":{\"x\":0.05},\"updatemenudefaults\":{\"bgcolor\":\"#506784\",\"borderwidth\":0},\"xaxis\":{\"automargin\":true,\"gridcolor\":\"#283442\",\"linecolor\":\"#506784\",\"ticks\":\"\",\"title\":{\"standoff\":15},\"zerolinecolor\":\"#283442\",\"zerolinewidth\":2},\"yaxis\":{\"automargin\":true,\"gridcolor\":\"#283442\",\"linecolor\":\"#506784\",\"ticks\":\"\",\"title\":{\"standoff\":15},\"zerolinecolor\":\"#283442\",\"zerolinewidth\":2}}},\"coloraxis\":{\"colorbar\":{\"title\":{\"text\":\"exp_3\"}},\"colorscale\":[[0.0,\"#440154\"],[0.1111111111111111,\"#482878\"],[0.2222222222222222,\"#3e4989\"],[0.3333333333333333,\"#31688e\"],[0.4444444444444444,\"#26828e\"],[0.5555555555555556,\"#1f9e89\"],[0.6666666666666666,\"#35b779\"],[0.7777777777777778,\"#6ece58\"],[0.8888888888888888,\"#b5de2b\"],[1.0,\"#fde725\"]]},\"legend\":{\"tracegroupgap\":0},\"margin\":{\"t\":60}},                        {\"responsive\": true}                    ).then(function(){\n",
              "                            \n",
              "var gd = document.getElementById('ff1a4d2e-eb5f-4eb7-83fe-c4b2b0f850e4');\n",
              "var x = new MutationObserver(function (mutations, observer) {{\n",
              "        var display = window.getComputedStyle(gd).display;\n",
              "        if (!display || display === 'none') {{\n",
              "            console.log([gd, 'removed!']);\n",
              "            Plotly.purge(gd);\n",
              "            observer.disconnect();\n",
              "        }}\n",
              "}});\n",
              "\n",
              "// Listen for the removal of the full notebook cells\n",
              "var notebookContainer = gd.closest('#notebook-container');\n",
              "if (notebookContainer) {{\n",
              "    x.observe(notebookContainer, {childList: true});\n",
              "}}\n",
              "\n",
              "// Listen for the clearing of the current output cell\n",
              "var outputEl = gd.closest('.output');\n",
              "if (outputEl) {{\n",
              "    x.observe(outputEl, {childList: true});\n",
              "}}\n",
              "\n",
              "                        })                };                            </script>        </div>\n",
              "</body>\n",
              "</html>"
            ]
          },
          "metadata": {}
        }
      ]
    },
    {
      "cell_type": "code",
      "source": [
        "fig3 = px.scatter(\n",
        "    df,\n",
        "    x = 'experiment_1',\n",
        "    y = 'experiment_2',\n",
        "    color = 'group',\n",
        "    template = 'plotly_dark',\n",
        "    facet_col = 'gender',\n",
        "    title = 'Scatter plot exp1 and exp2',\n",
        "    trendline='ols',\n",
        "    marginal_x = 'box',\n",
        "    facet_col_spacing=0.2\n",
        ")\n",
        "\n",
        "fig3.show()"
      ],
      "metadata": {
        "colab": {
          "base_uri": "https://localhost:8080/",
          "height": 542
        },
        "id": "-Nlne3QS0tIS",
        "outputId": "547826ea-d550-450f-f910-a3224f50625b"
      },
      "execution_count": null,
      "outputs": [
        {
          "output_type": "display_data",
          "data": {
            "text/html": [
              "<html>\n",
              "<head><meta charset=\"utf-8\" /></head>\n",
              "<body>\n",
              "    <div>            <script src=\"https://cdnjs.cloudflare.com/ajax/libs/mathjax/2.7.5/MathJax.js?config=TeX-AMS-MML_SVG\"></script><script type=\"text/javascript\">if (window.MathJax && window.MathJax.Hub && window.MathJax.Hub.Config) {window.MathJax.Hub.Config({SVG: {font: \"STIX-Web\"}});}</script>                <script type=\"text/javascript\">window.PlotlyConfig = {MathJaxConfig: 'local'};</script>\n",
              "        <script charset=\"utf-8\" src=\"https://cdn.plot.ly/plotly-2.35.2.min.js\"></script>                <div id=\"1041193d-88ff-4082-8192-757fde6435e5\" class=\"plotly-graph-div\" style=\"height:525px; width:100%;\"></div>            <script type=\"text/javascript\">                                    window.PLOTLYENV=window.PLOTLYENV || {};                                    if (document.getElementById(\"1041193d-88ff-4082-8192-757fde6435e5\")) {                    Plotly.newPlot(                        \"1041193d-88ff-4082-8192-757fde6435e5\",                        [{\"hovertemplate\":\"group=control\\u003cbr\\u003egender=male\\u003cbr\\u003eexperiment_1=%{x}\\u003cbr\\u003eexperiment_2=%{y}\\u003cextra\\u003e\\u003c\\u002fextra\\u003e\",\"legendgroup\":\"control\",\"marker\":{\"color\":\"#636efa\",\"symbol\":\"circle\"},\"mode\":\"markers\",\"name\":\"control\",\"orientation\":\"v\",\"showlegend\":true,\"x\":[96.87606524104424,87.10699272862477,115.41235439928084,103.73322930003812,92.99825424103256,108.59703912851718,106.68567646477835,99.36447339671628,93.0952189075527,105.60548763385378,115.1745293454008,90.53505148745876,99.16252467399494,104.84390950771105,79.91007596007512,105.86488743479735,111.57539596013696,110.8333387158032,95.34256875179256,94.49978699806825,103.97741353721,89.98571694680537,100.58494014361828,101.3205252320304,91.73999230125186],\"xaxis\":\"x\",\"y\":[93.41794186205836,107.01998547962673,105.13793762581705,103.64300947168036,119.11313771972604,114.55578187212689,125.53691833259457,128.98211960060868,117.4908416284272,100.31935141294606,101.21513001268984,106.4738708421859,115.87027487805348,92.46744327013312,93.61647573375812,91.33176428280692,121.36550691186274,117.96705726440037,106.71264388984817,112.74449166670784,136.6736157228351,115.87117118675488,120.93374474771228,105.71129083938632,111.1253771258949],\"yaxis\":\"y\",\"type\":\"scatter\"},{\"alignmentgroup\":\"True\",\"hovertemplate\":\"group=control\\u003cbr\\u003egender=male\\u003cbr\\u003eexperiment_1=%{x}\\u003cextra\\u003e\\u003c\\u002fextra\\u003e\",\"legendgroup\":\"control\",\"marker\":{\"color\":\"#636efa\",\"symbol\":\"circle\"},\"name\":\"control\",\"notched\":true,\"offsetgroup\":\"control\",\"showlegend\":false,\"x\":[96.87606524104424,87.10699272862477,115.41235439928084,103.73322930003812,92.99825424103256,108.59703912851718,106.68567646477835,99.36447339671628,93.0952189075527,105.60548763385378,115.1745293454008,90.53505148745876,99.16252467399494,104.84390950771105,79.91007596007512,105.86488743479735,111.57539596013696,110.8333387158032,95.34256875179256,94.49978699806825,103.97741353721,89.98571694680537,100.58494014361828,101.3205252320304,91.73999230125186],\"xaxis\":\"x3\",\"yaxis\":\"y3\",\"type\":\"box\"},{\"hovertemplate\":\"\\u003cb\\u003eOLS trendline\\u003c\\u002fb\\u003e\\u003cbr\\u003eexperiment_2 = 0.121561 * experiment_1 + 98.4323\\u003cbr\\u003eR\\u003csup\\u003e2\\u003c\\u002fsup\\u003e=0.008611\\u003cbr\\u003e\\u003cbr\\u003egroup=control\\u003cbr\\u003egender=male\\u003cbr\\u003eexperiment_1=%{x}\\u003cbr\\u003eexperiment_2=%{y} \\u003cb\\u003e(trend)\\u003c\\u002fb\\u003e\\u003cextra\\u003e\\u003c\\u002fextra\\u003e\",\"legendgroup\":\"control\",\"marker\":{\"color\":\"#636efa\",\"symbol\":\"circle\"},\"mode\":\"lines\",\"name\":\"control\",\"showlegend\":false,\"x\":[79.91007596007512,87.10699272862477,89.98571694680537,90.53505148745876,91.73999230125186,92.99825424103256,93.0952189075527,94.49978699806825,95.34256875179256,96.87606524104424,99.16252467399494,99.36447339671628,100.58494014361828,101.3205252320304,103.73322930003812,103.97741353721,104.84390950771105,105.60548763385378,105.86488743479735,106.68567646477835,108.59703912851718,110.8333387158032,111.57539596013696,115.1745293454008,115.41235439928084],\"xaxis\":\"x\",\"y\":[108.14625488456161,109.02112132090059,109.37106273038975,109.43784054197144,109.58431469328707,109.73727062909106,109.7490577783631,109.9197988775675,110.0222485088755,110.20866230965096,110.48660725194634,110.51115639778925,110.65951790145405,110.74893656858876,111.04222797069899,111.07191131986849,111.17724368179424,111.26982209594567,111.30135506856948,111.40113123616165,111.63347893392633,111.90532638102547,111.99553181173808,112.43304708389385,112.4619574025833],\"yaxis\":\"y\",\"type\":\"scatter\"},{\"hovertemplate\":\"group=control\\u003cbr\\u003egender=female\\u003cbr\\u003eexperiment_1=%{x}\\u003cbr\\u003eexperiment_2=%{y}\\u003cextra\\u003e\\u003c\\u002fextra\\u003e\",\"legendgroup\":\"control\",\"marker\":{\"color\":\"#636efa\",\"symbol\":\"circle\"},\"mode\":\"markers\",\"name\":\"control\",\"orientation\":\"v\",\"showlegend\":false,\"x\":[87.30133583529452,106.650988962703,107.3273448045416,96.82862968379752,103.0370263885008,86.00067917492646,98.33722206969595,102.0848651185468,120.28494035137344,106.3602628726801,106.53182376731462,97.3724477688896,115.19093327622592,88.86870748537869,102.75674518465028,101.6406509148884,90.52597523832,103.86151675950492,101.3127213745742,115.28544529751144,93.02648850216076,99.19797691786115,100.28481061716067,99.17755784625103,95.41034685726756],\"xaxis\":\"x2\",\"y\":[129.60339543098098,94.01726233779416,134.4989267139621,118.28851360684462,113.49030757386136,102.8148302845022,120.66187625946849,96.76265139283652,128.10347266036626,99.20417350710404,107.28672680975174,103.45396742654022,102.76053814688797,99.895240748729,115.6401933040668,120.14042960264156,98.71650364377432,110.80555993405694,112.40253823162678,113.71706929679968,108.40115937104376,130.11109471859805,99.53759126542052,88.57072941909104,84.44832175269606],\"yaxis\":\"y2\",\"type\":\"scatter\"},{\"alignmentgroup\":\"True\",\"hovertemplate\":\"group=control\\u003cbr\\u003egender=female\\u003cbr\\u003eexperiment_1=%{x}\\u003cextra\\u003e\\u003c\\u002fextra\\u003e\",\"legendgroup\":\"control\",\"marker\":{\"color\":\"#636efa\",\"symbol\":\"circle\"},\"name\":\"control\",\"notched\":true,\"offsetgroup\":\"control\",\"showlegend\":false,\"x\":[87.30133583529452,106.650988962703,107.3273448045416,96.82862968379752,103.0370263885008,86.00067917492646,98.33722206969595,102.0848651185468,120.28494035137344,106.3602628726801,106.53182376731462,97.3724477688896,115.19093327622592,88.86870748537869,102.75674518465028,101.6406509148884,90.52597523832,103.86151675950492,101.3127213745742,115.28544529751144,93.02648850216076,99.19797691786115,100.28481061716067,99.17755784625103,95.41034685726756],\"xaxis\":\"x4\",\"yaxis\":\"y4\",\"type\":\"box\"},{\"hovertemplate\":\"\\u003cb\\u003eOLS trendline\\u003c\\u002fb\\u003e\\u003cbr\\u003eexperiment_2 = 0.293942 * experiment_1 + 79.6492\\u003cbr\\u003eR\\u003csup\\u003e2\\u003c\\u002fsup\\u003e=0.035604\\u003cbr\\u003e\\u003cbr\\u003egroup=control\\u003cbr\\u003egender=female\\u003cbr\\u003eexperiment_1=%{x}\\u003cbr\\u003eexperiment_2=%{y} \\u003cb\\u003e(trend)\\u003c\\u002fb\\u003e\\u003cextra\\u003e\\u003c\\u002fextra\\u003e\",\"legendgroup\":\"control\",\"marker\":{\"color\":\"#636efa\",\"symbol\":\"circle\"},\"mode\":\"lines\",\"name\":\"control\",\"showlegend\":false,\"x\":[86.00067917492646,87.30133583529452,88.86870748537869,90.52597523832,93.02648850216076,95.41034685726756,96.82862968379752,97.3724477688896,98.33722206969595,99.17755784625103,99.19797691786115,100.28481061716067,101.3127213745742,101.6406509148884,102.0848651185468,102.75674518465028,103.0370263885008,103.86151675950492,106.3602628726801,106.53182376731462,106.650988962703,107.3273448045416,115.19093327622592,115.28544529751144,120.28494035137344],\"xaxis\":\"x2\",\"y\":[104.92842438093128,105.31074164248739,105.77145756803479,106.25859770906976,106.99360288964202,107.69431832518531,108.11121082485354,108.27106165052669,108.55464907212927,108.80165881933591,108.80766083645494,109.12712660812562,109.42927246865364,109.52566464320398,109.656237732215,109.8537313174123,109.93611765777936,110.1784697791551,110.9129555204135,110.96338442561606,110.99841204863287,111.19722125106762,113.50865800613548,113.53643903264543,115.0059992297346],\"yaxis\":\"y2\",\"type\":\"scatter\"},{\"hovertemplate\":\"group=treatment\\u003cbr\\u003egender=male\\u003cbr\\u003eexperiment_1=%{x}\\u003cbr\\u003eexperiment_2=%{y}\\u003cextra\\u003e\\u003c\\u002fextra\\u003e\",\"legendgroup\":\"treatment\",\"marker\":{\"color\":\"#EF553B\",\"symbol\":\"circle\"},\"mode\":\"markers\",\"name\":\"treatment\",\"orientation\":\"v\",\"showlegend\":true,\"x\":[97.69131206443264,101.96789610675285,99.6172541280035,97.41300576349734,122.45771222849216,108.22082997242558,91.77160903135388,104.22003927060842,112.79439507221171,101.58409349079014,94.98263666330396,102.07570100045706,101.20197149116704,106.99313326342283,106.50911841835378,82.45375160201769,125.5204245339222,83.8308994934392,88.39280684001895,88.02583256666699,94.75344491514376,106.45557892554882,100.17749269798531,102.77062539939328,106.36240592567884],\"xaxis\":\"x\",\"y\":[106.18791583747864,95.08891880671696,106.19263647197582,133.81460507676135,125.57402071454852,111.2655464432314,106.11835373702648,98.53000797317672,108.65787818177574,106.43997407520592,121.1716702929984,110.42502823706356,88.65923075825724,94.9336684921247,109.31644644934065,119.99866553631976,82.48071301855163,100.35633403365804,118.37686641258448,124.43908197971108,137.7421034460475,100.02567617575396,104.67370034744938,129.00227367829714,115.52238227700173],\"yaxis\":\"y\",\"type\":\"scatter\"},{\"alignmentgroup\":\"True\",\"hovertemplate\":\"group=treatment\\u003cbr\\u003egender=male\\u003cbr\\u003eexperiment_1=%{x}\\u003cextra\\u003e\\u003c\\u002fextra\\u003e\",\"legendgroup\":\"treatment\",\"marker\":{\"color\":\"#EF553B\",\"symbol\":\"circle\"},\"name\":\"treatment\",\"notched\":true,\"offsetgroup\":\"treatment\",\"showlegend\":false,\"x\":[97.69131206443264,101.96789610675285,99.6172541280035,97.41300576349734,122.45771222849216,108.22082997242558,91.77160903135388,104.22003927060842,112.79439507221171,101.58409349079014,94.98263666330396,102.07570100045706,101.20197149116704,106.99313326342283,106.50911841835378,82.45375160201769,125.5204245339222,83.8308994934392,88.39280684001895,88.02583256666699,94.75344491514376,106.45557892554882,100.17749269798531,102.77062539939328,106.36240592567884],\"xaxis\":\"x3\",\"yaxis\":\"y3\",\"type\":\"box\"},{\"hovertemplate\":\"\\u003cb\\u003eOLS trendline\\u003c\\u002fb\\u003e\\u003cbr\\u003eexperiment_2 = -0.420695 * experiment_1 + 152.745\\u003cbr\\u003eR\\u003csup\\u003e2\\u003c\\u002fsup\\u003e=0.099066\\u003cbr\\u003e\\u003cbr\\u003egroup=treatment\\u003cbr\\u003egender=male\\u003cbr\\u003eexperiment_1=%{x}\\u003cbr\\u003eexperiment_2=%{y} \\u003cb\\u003e(trend)\\u003c\\u002fb\\u003e\\u003cextra\\u003e\\u003c\\u002fextra\\u003e\",\"legendgroup\":\"treatment\",\"marker\":{\"color\":\"#EF553B\",\"symbol\":\"circle\"},\"mode\":\"lines\",\"name\":\"treatment\",\"showlegend\":false,\"x\":[82.45375160201769,83.8308994934392,88.02583256666699,88.39280684001895,91.77160903135388,94.75344491514376,94.98263666330396,97.41300576349734,97.69131206443264,99.6172541280035,100.17749269798531,101.20197149116704,101.58409349079014,101.96789610675285,102.07570100045706,102.77062539939328,104.22003927060842,106.36240592567884,106.45557892554882,106.50911841835378,106.99313326342283,108.22082997242558,112.79439507221171,122.45771222849216,125.5204245339222],\"xaxis\":\"x\",\"y\":[118.0566490774467,117.47728997234586,115.71250299020518,115.5581187821411,114.13667390604725,112.88223073407471,112.78581093273186,111.7633670283961,111.64628498480573,110.83605096609426,110.60036145259357,110.16936844123305,110.00861166186314,109.84714785575733,109.80179488594847,109.50944373006436,108.89968269526281,107.99839995300172,107.95920254641925,107.9366787544342,107.73305617385189,107.21657042014763,105.29249487253347,101.22718655318559,99.9387190824743],\"yaxis\":\"y\",\"type\":\"scatter\"},{\"hovertemplate\":\"group=treatment\\u003cbr\\u003egender=female\\u003cbr\\u003eexperiment_1=%{x}\\u003cbr\\u003eexperiment_2=%{y}\\u003cextra\\u003e\\u003c\\u002fextra\\u003e\",\"legendgroup\":\"treatment\",\"marker\":{\"color\":\"#EF553B\",\"symbol\":\"circle\"},\"mode\":\"markers\",\"name\":\"treatment\",\"orientation\":\"v\",\"showlegend\":false,\"x\":[102.97815237236064,117.78402141130046,100.90801801849013,111.71546116211962,111.72093843245534,107.02254986229214,114.0102260806097,90.8419388241776,97.38937970522906,79.627960848754,96.78131630120166,113.34644089441548,102.15438485258844,79.42957481543229,116.57613978851472,103.47113336815175,90.21247438443784,104.89507698266064,100.51923728271925,108.21594141266117,105.41326143638526,106.53740176869354,108.15167224711271,108.1569641420406,94.2692372873789],\"xaxis\":\"x2\",\"y\":[93.8146817305033,115.39140402812605,98.49773453074349,143.68589169199117,97.29321087218584,107.32317041909052,113.19411909266884,129.77868819843576,93.97915042860836,126.39982636138508,127.24938650893672,114.28422515239596,112.09850718335584,102.10062558140578,106.18926547435316,106.97465225615018,90.0325909853458,103.2406397128152,89.408981677046,133.07129566591016,86.92391691963303,102.49887098636997,137.99435901344117,105.97154070236674,104.6510642690364],\"yaxis\":\"y2\",\"type\":\"scatter\"},{\"alignmentgroup\":\"True\",\"hovertemplate\":\"group=treatment\\u003cbr\\u003egender=female\\u003cbr\\u003eexperiment_1=%{x}\\u003cextra\\u003e\\u003c\\u002fextra\\u003e\",\"legendgroup\":\"treatment\",\"marker\":{\"color\":\"#EF553B\",\"symbol\":\"circle\"},\"name\":\"treatment\",\"notched\":true,\"offsetgroup\":\"treatment\",\"showlegend\":false,\"x\":[102.97815237236064,117.78402141130046,100.90801801849013,111.71546116211962,111.72093843245534,107.02254986229214,114.0102260806097,90.8419388241776,97.38937970522906,79.627960848754,96.78131630120166,113.34644089441548,102.15438485258844,79.42957481543229,116.57613978851472,103.47113336815175,90.21247438443784,104.89507698266064,100.51923728271925,108.21594141266117,105.41326143638526,106.53740176869354,108.15167224711271,108.1569641420406,94.2692372873789],\"xaxis\":\"x4\",\"yaxis\":\"y4\",\"type\":\"box\"},{\"hovertemplate\":\"\\u003cb\\u003eOLS trendline\\u003c\\u002fb\\u003e\\u003cbr\\u003eexperiment_2 = 0.140227 * experiment_1 + 95.2547\\u003cbr\\u003eR\\u003csup\\u003e2\\u003c\\u002fsup\\u003e=0.008274\\u003cbr\\u003e\\u003cbr\\u003egroup=treatment\\u003cbr\\u003egender=female\\u003cbr\\u003eexperiment_1=%{x}\\u003cbr\\u003eexperiment_2=%{y} \\u003cb\\u003e(trend)\\u003c\\u002fb\\u003e\\u003cextra\\u003e\\u003c\\u002fextra\\u003e\",\"legendgroup\":\"treatment\",\"marker\":{\"color\":\"#EF553B\",\"symbol\":\"circle\"},\"mode\":\"lines\",\"name\":\"treatment\",\"showlegend\":false,\"x\":[79.42957481543229,79.627960848754,90.21247438443784,90.8419388241776,94.2692372873789,96.78131630120166,97.38937970522906,100.51923728271925,100.90801801849013,102.15438485258844,102.97815237236064,103.47113336815175,104.89507698266064,105.41326143638526,106.53740176869354,107.02254986229214,108.15167224711271,108.1569641420406,108.21594141266117,111.71546116211962,111.72093843245534,113.34644089441548,114.0102260806097,116.57613978851472,117.78402141130046],\"xaxis\":\"x2\",\"y\":[106.3928117749698,106.42063080589399,107.90486285810292,107.99313061779144,108.4737295810239,108.82599028506355,108.91125704682734,109.35014683800183,109.40466430140411,109.57943828584301,109.69495253713973,109.76408166552304,109.96375666674696,110.03641999440784,110.19405455236534,110.26208529824322,110.42041847328876,110.42116053857522,110.42943073021999,110.92015705051553,110.92092511039505,111.1488640559925,111.241944502799,111.60175427163112,111.77113159953275],\"yaxis\":\"y2\",\"type\":\"scatter\"}],                        {\"template\":{\"data\":{\"barpolar\":[{\"marker\":{\"line\":{\"color\":\"rgb(17,17,17)\",\"width\":0.5},\"pattern\":{\"fillmode\":\"overlay\",\"size\":10,\"solidity\":0.2}},\"type\":\"barpolar\"}],\"bar\":[{\"error_x\":{\"color\":\"#f2f5fa\"},\"error_y\":{\"color\":\"#f2f5fa\"},\"marker\":{\"line\":{\"color\":\"rgb(17,17,17)\",\"width\":0.5},\"pattern\":{\"fillmode\":\"overlay\",\"size\":10,\"solidity\":0.2}},\"type\":\"bar\"}],\"carpet\":[{\"aaxis\":{\"endlinecolor\":\"#A2B1C6\",\"gridcolor\":\"#506784\",\"linecolor\":\"#506784\",\"minorgridcolor\":\"#506784\",\"startlinecolor\":\"#A2B1C6\"},\"baxis\":{\"endlinecolor\":\"#A2B1C6\",\"gridcolor\":\"#506784\",\"linecolor\":\"#506784\",\"minorgridcolor\":\"#506784\",\"startlinecolor\":\"#A2B1C6\"},\"type\":\"carpet\"}],\"choropleth\":[{\"colorbar\":{\"outlinewidth\":0,\"ticks\":\"\"},\"type\":\"choropleth\"}],\"contourcarpet\":[{\"colorbar\":{\"outlinewidth\":0,\"ticks\":\"\"},\"type\":\"contourcarpet\"}],\"contour\":[{\"colorbar\":{\"outlinewidth\":0,\"ticks\":\"\"},\"colorscale\":[[0.0,\"#0d0887\"],[0.1111111111111111,\"#46039f\"],[0.2222222222222222,\"#7201a8\"],[0.3333333333333333,\"#9c179e\"],[0.4444444444444444,\"#bd3786\"],[0.5555555555555556,\"#d8576b\"],[0.6666666666666666,\"#ed7953\"],[0.7777777777777778,\"#fb9f3a\"],[0.8888888888888888,\"#fdca26\"],[1.0,\"#f0f921\"]],\"type\":\"contour\"}],\"heatmapgl\":[{\"colorbar\":{\"outlinewidth\":0,\"ticks\":\"\"},\"colorscale\":[[0.0,\"#0d0887\"],[0.1111111111111111,\"#46039f\"],[0.2222222222222222,\"#7201a8\"],[0.3333333333333333,\"#9c179e\"],[0.4444444444444444,\"#bd3786\"],[0.5555555555555556,\"#d8576b\"],[0.6666666666666666,\"#ed7953\"],[0.7777777777777778,\"#fb9f3a\"],[0.8888888888888888,\"#fdca26\"],[1.0,\"#f0f921\"]],\"type\":\"heatmapgl\"}],\"heatmap\":[{\"colorbar\":{\"outlinewidth\":0,\"ticks\":\"\"},\"colorscale\":[[0.0,\"#0d0887\"],[0.1111111111111111,\"#46039f\"],[0.2222222222222222,\"#7201a8\"],[0.3333333333333333,\"#9c179e\"],[0.4444444444444444,\"#bd3786\"],[0.5555555555555556,\"#d8576b\"],[0.6666666666666666,\"#ed7953\"],[0.7777777777777778,\"#fb9f3a\"],[0.8888888888888888,\"#fdca26\"],[1.0,\"#f0f921\"]],\"type\":\"heatmap\"}],\"histogram2dcontour\":[{\"colorbar\":{\"outlinewidth\":0,\"ticks\":\"\"},\"colorscale\":[[0.0,\"#0d0887\"],[0.1111111111111111,\"#46039f\"],[0.2222222222222222,\"#7201a8\"],[0.3333333333333333,\"#9c179e\"],[0.4444444444444444,\"#bd3786\"],[0.5555555555555556,\"#d8576b\"],[0.6666666666666666,\"#ed7953\"],[0.7777777777777778,\"#fb9f3a\"],[0.8888888888888888,\"#fdca26\"],[1.0,\"#f0f921\"]],\"type\":\"histogram2dcontour\"}],\"histogram2d\":[{\"colorbar\":{\"outlinewidth\":0,\"ticks\":\"\"},\"colorscale\":[[0.0,\"#0d0887\"],[0.1111111111111111,\"#46039f\"],[0.2222222222222222,\"#7201a8\"],[0.3333333333333333,\"#9c179e\"],[0.4444444444444444,\"#bd3786\"],[0.5555555555555556,\"#d8576b\"],[0.6666666666666666,\"#ed7953\"],[0.7777777777777778,\"#fb9f3a\"],[0.8888888888888888,\"#fdca26\"],[1.0,\"#f0f921\"]],\"type\":\"histogram2d\"}],\"histogram\":[{\"marker\":{\"pattern\":{\"fillmode\":\"overlay\",\"size\":10,\"solidity\":0.2}},\"type\":\"histogram\"}],\"mesh3d\":[{\"colorbar\":{\"outlinewidth\":0,\"ticks\":\"\"},\"type\":\"mesh3d\"}],\"parcoords\":[{\"line\":{\"colorbar\":{\"outlinewidth\":0,\"ticks\":\"\"}},\"type\":\"parcoords\"}],\"pie\":[{\"automargin\":true,\"type\":\"pie\"}],\"scatter3d\":[{\"line\":{\"colorbar\":{\"outlinewidth\":0,\"ticks\":\"\"}},\"marker\":{\"colorbar\":{\"outlinewidth\":0,\"ticks\":\"\"}},\"type\":\"scatter3d\"}],\"scattercarpet\":[{\"marker\":{\"colorbar\":{\"outlinewidth\":0,\"ticks\":\"\"}},\"type\":\"scattercarpet\"}],\"scattergeo\":[{\"marker\":{\"colorbar\":{\"outlinewidth\":0,\"ticks\":\"\"}},\"type\":\"scattergeo\"}],\"scattergl\":[{\"marker\":{\"line\":{\"color\":\"#283442\"}},\"type\":\"scattergl\"}],\"scattermapbox\":[{\"marker\":{\"colorbar\":{\"outlinewidth\":0,\"ticks\":\"\"}},\"type\":\"scattermapbox\"}],\"scatterpolargl\":[{\"marker\":{\"colorbar\":{\"outlinewidth\":0,\"ticks\":\"\"}},\"type\":\"scatterpolargl\"}],\"scatterpolar\":[{\"marker\":{\"colorbar\":{\"outlinewidth\":0,\"ticks\":\"\"}},\"type\":\"scatterpolar\"}],\"scatter\":[{\"marker\":{\"line\":{\"color\":\"#283442\"}},\"type\":\"scatter\"}],\"scatterternary\":[{\"marker\":{\"colorbar\":{\"outlinewidth\":0,\"ticks\":\"\"}},\"type\":\"scatterternary\"}],\"surface\":[{\"colorbar\":{\"outlinewidth\":0,\"ticks\":\"\"},\"colorscale\":[[0.0,\"#0d0887\"],[0.1111111111111111,\"#46039f\"],[0.2222222222222222,\"#7201a8\"],[0.3333333333333333,\"#9c179e\"],[0.4444444444444444,\"#bd3786\"],[0.5555555555555556,\"#d8576b\"],[0.6666666666666666,\"#ed7953\"],[0.7777777777777778,\"#fb9f3a\"],[0.8888888888888888,\"#fdca26\"],[1.0,\"#f0f921\"]],\"type\":\"surface\"}],\"table\":[{\"cells\":{\"fill\":{\"color\":\"#506784\"},\"line\":{\"color\":\"rgb(17,17,17)\"}},\"header\":{\"fill\":{\"color\":\"#2a3f5f\"},\"line\":{\"color\":\"rgb(17,17,17)\"}},\"type\":\"table\"}]},\"layout\":{\"annotationdefaults\":{\"arrowcolor\":\"#f2f5fa\",\"arrowhead\":0,\"arrowwidth\":1},\"autotypenumbers\":\"strict\",\"coloraxis\":{\"colorbar\":{\"outlinewidth\":0,\"ticks\":\"\"}},\"colorscale\":{\"diverging\":[[0,\"#8e0152\"],[0.1,\"#c51b7d\"],[0.2,\"#de77ae\"],[0.3,\"#f1b6da\"],[0.4,\"#fde0ef\"],[0.5,\"#f7f7f7\"],[0.6,\"#e6f5d0\"],[0.7,\"#b8e186\"],[0.8,\"#7fbc41\"],[0.9,\"#4d9221\"],[1,\"#276419\"]],\"sequential\":[[0.0,\"#0d0887\"],[0.1111111111111111,\"#46039f\"],[0.2222222222222222,\"#7201a8\"],[0.3333333333333333,\"#9c179e\"],[0.4444444444444444,\"#bd3786\"],[0.5555555555555556,\"#d8576b\"],[0.6666666666666666,\"#ed7953\"],[0.7777777777777778,\"#fb9f3a\"],[0.8888888888888888,\"#fdca26\"],[1.0,\"#f0f921\"]],\"sequentialminus\":[[0.0,\"#0d0887\"],[0.1111111111111111,\"#46039f\"],[0.2222222222222222,\"#7201a8\"],[0.3333333333333333,\"#9c179e\"],[0.4444444444444444,\"#bd3786\"],[0.5555555555555556,\"#d8576b\"],[0.6666666666666666,\"#ed7953\"],[0.7777777777777778,\"#fb9f3a\"],[0.8888888888888888,\"#fdca26\"],[1.0,\"#f0f921\"]]},\"colorway\":[\"#636efa\",\"#EF553B\",\"#00cc96\",\"#ab63fa\",\"#FFA15A\",\"#19d3f3\",\"#FF6692\",\"#B6E880\",\"#FF97FF\",\"#FECB52\"],\"font\":{\"color\":\"#f2f5fa\"},\"geo\":{\"bgcolor\":\"rgb(17,17,17)\",\"lakecolor\":\"rgb(17,17,17)\",\"landcolor\":\"rgb(17,17,17)\",\"showlakes\":true,\"showland\":true,\"subunitcolor\":\"#506784\"},\"hoverlabel\":{\"align\":\"left\"},\"hovermode\":\"closest\",\"mapbox\":{\"style\":\"dark\"},\"paper_bgcolor\":\"rgb(17,17,17)\",\"plot_bgcolor\":\"rgb(17,17,17)\",\"polar\":{\"angularaxis\":{\"gridcolor\":\"#506784\",\"linecolor\":\"#506784\",\"ticks\":\"\"},\"bgcolor\":\"rgb(17,17,17)\",\"radialaxis\":{\"gridcolor\":\"#506784\",\"linecolor\":\"#506784\",\"ticks\":\"\"}},\"scene\":{\"xaxis\":{\"backgroundcolor\":\"rgb(17,17,17)\",\"gridcolor\":\"#506784\",\"gridwidth\":2,\"linecolor\":\"#506784\",\"showbackground\":true,\"ticks\":\"\",\"zerolinecolor\":\"#C8D4E3\"},\"yaxis\":{\"backgroundcolor\":\"rgb(17,17,17)\",\"gridcolor\":\"#506784\",\"gridwidth\":2,\"linecolor\":\"#506784\",\"showbackground\":true,\"ticks\":\"\",\"zerolinecolor\":\"#C8D4E3\"},\"zaxis\":{\"backgroundcolor\":\"rgb(17,17,17)\",\"gridcolor\":\"#506784\",\"gridwidth\":2,\"linecolor\":\"#506784\",\"showbackground\":true,\"ticks\":\"\",\"zerolinecolor\":\"#C8D4E3\"}},\"shapedefaults\":{\"line\":{\"color\":\"#f2f5fa\"}},\"sliderdefaults\":{\"bgcolor\":\"#C8D4E3\",\"bordercolor\":\"rgb(17,17,17)\",\"borderwidth\":1,\"tickwidth\":0},\"ternary\":{\"aaxis\":{\"gridcolor\":\"#506784\",\"linecolor\":\"#506784\",\"ticks\":\"\"},\"baxis\":{\"gridcolor\":\"#506784\",\"linecolor\":\"#506784\",\"ticks\":\"\"},\"bgcolor\":\"rgb(17,17,17)\",\"caxis\":{\"gridcolor\":\"#506784\",\"linecolor\":\"#506784\",\"ticks\":\"\"}},\"title\":{\"x\":0.05},\"updatemenudefaults\":{\"bgcolor\":\"#506784\",\"borderwidth\":0},\"xaxis\":{\"automargin\":true,\"gridcolor\":\"#283442\",\"linecolor\":\"#506784\",\"ticks\":\"\",\"title\":{\"standoff\":15},\"zerolinecolor\":\"#283442\",\"zerolinewidth\":2},\"yaxis\":{\"automargin\":true,\"gridcolor\":\"#283442\",\"linecolor\":\"#506784\",\"ticks\":\"\",\"title\":{\"standoff\":15},\"zerolinecolor\":\"#283442\",\"zerolinewidth\":2}}},\"xaxis\":{\"anchor\":\"y\",\"domain\":[0.0,0.4],\"title\":{\"text\":\"experiment_1\"}},\"yaxis\":{\"anchor\":\"x\",\"domain\":[0.0,0.7326],\"title\":{\"text\":\"experiment_2\"}},\"xaxis2\":{\"anchor\":\"y2\",\"domain\":[0.6000000000000001,1.0],\"matches\":\"x\",\"title\":{\"text\":\"experiment_1\"}},\"yaxis2\":{\"anchor\":\"x2\",\"domain\":[0.0,0.7326],\"matches\":\"y\",\"showticklabels\":false},\"xaxis3\":{\"anchor\":\"y3\",\"domain\":[0.0,0.4],\"matches\":\"x\",\"showticklabels\":false,\"showgrid\":true},\"yaxis3\":{\"anchor\":\"x3\",\"domain\":[0.7426,1.0],\"matches\":\"y3\",\"showticklabels\":false,\"showline\":false,\"ticks\":\"\",\"showgrid\":false},\"xaxis4\":{\"anchor\":\"y4\",\"domain\":[0.6000000000000001,1.0],\"matches\":\"x\",\"showticklabels\":false,\"showgrid\":true},\"yaxis4\":{\"anchor\":\"x4\",\"domain\":[0.7426,1.0],\"matches\":\"y3\",\"showticklabels\":false,\"showline\":false,\"ticks\":\"\",\"showgrid\":false},\"annotations\":[{\"font\":{},\"showarrow\":false,\"text\":\"gender=male\",\"x\":0.2,\"xanchor\":\"center\",\"xref\":\"paper\",\"y\":1.0,\"yanchor\":\"bottom\",\"yref\":\"paper\"},{\"font\":{},\"showarrow\":false,\"text\":\"gender=female\",\"x\":0.8,\"xanchor\":\"center\",\"xref\":\"paper\",\"y\":1.0,\"yanchor\":\"bottom\",\"yref\":\"paper\"}],\"legend\":{\"title\":{\"text\":\"group\"},\"tracegroupgap\":0},\"title\":{\"text\":\"Scatter plot exp1 and exp2\"}},                        {\"responsive\": true}                    ).then(function(){\n",
              "                            \n",
              "var gd = document.getElementById('1041193d-88ff-4082-8192-757fde6435e5');\n",
              "var x = new MutationObserver(function (mutations, observer) {{\n",
              "        var display = window.getComputedStyle(gd).display;\n",
              "        if (!display || display === 'none') {{\n",
              "            console.log([gd, 'removed!']);\n",
              "            Plotly.purge(gd);\n",
              "            observer.disconnect();\n",
              "        }}\n",
              "}});\n",
              "\n",
              "// Listen for the removal of the full notebook cells\n",
              "var notebookContainer = gd.closest('#notebook-container');\n",
              "if (notebookContainer) {{\n",
              "    x.observe(notebookContainer, {childList: true});\n",
              "}}\n",
              "\n",
              "// Listen for the clearing of the current output cell\n",
              "var outputEl = gd.closest('.output');\n",
              "if (outputEl) {{\n",
              "    x.observe(outputEl, {childList: true});\n",
              "}}\n",
              "\n",
              "                        })                };                            </script>        </div>\n",
              "</body>\n",
              "</html>"
            ]
          },
          "metadata": {}
        }
      ]
    },
    {
      "cell_type": "code",
      "source": [
        "import chart_studio.plotly as py  # NIE 'pl'\n",
        "py.plot(fig3, filename='Two scatters exp', auto_open=True)\n"
      ],
      "metadata": {
        "colab": {
          "base_uri": "https://localhost:8080/",
          "height": 36
        },
        "id": "ge5AK_ZN12Wg",
        "outputId": "fe3674da-7241-4139-8445-fd0c96369e9d"
      },
      "execution_count": null,
      "outputs": [
        {
          "output_type": "execute_result",
          "data": {
            "text/plain": [
              "'https://chart-studio.plotly.com/~Strzelczykk_nat/17/'"
            ],
            "application/vnd.google.colaboratory.intrinsic+json": {
              "type": "string"
            }
          },
          "metadata": {},
          "execution_count": 73
        }
      ]
    },
    {
      "cell_type": "code",
      "source": [
        "import plotly.graph_objects as go\n",
        "from plotly.subplots import make_subplots"
      ],
      "metadata": {
        "id": "QjHq4UE34zZx"
      },
      "execution_count": null,
      "outputs": []
    },
    {
      "cell_type": "code",
      "source": [
        "from re import template\n",
        "fig = make_subplots(rows=1, cols=3, shared_yaxes=True, subplot_titles=['experiments 1', 'experiments 2', 'experiments 3'])\n",
        "\n",
        "fig.update_layout(template = 'plotly_dark', title = 'Violin charts for experiments')\n",
        "\n",
        "fig.add_trace(\n",
        "    go.Violin(\n",
        "        x=df['gender'],\n",
        "        y=df['experiment_1'],\n",
        "        name='experiment_1',\n",
        "        box_visible=True,\n",
        "        points='all',\n",
        "        line_color='white'\n",
        "    ),\n",
        "    row=1, col=1\n",
        ")\n",
        "\n",
        "fig.add_trace(\n",
        "    go.Violin(\n",
        "        x=df['gender'],\n",
        "        y=df['experiment_2'],\n",
        "        name='experiment_2',\n",
        "        box_visible=True,\n",
        "        points='all',\n",
        "        line_color='red'\n",
        "    ),\n",
        "    row=1, col=2\n",
        ")\n",
        "\n",
        "fig.add_trace(\n",
        "    go.Violin(\n",
        "        x=df['gender'],\n",
        "        y=df['experiment_3'],\n",
        "        name='experiment_3',\n",
        "        box_visible=True,\n",
        "        points='all',\n",
        "        line_color='blue'\n",
        "    ),\n",
        "    row=1, col=3\n",
        ")\n"
      ],
      "metadata": {
        "colab": {
          "base_uri": "https://localhost:8080/",
          "height": 542
        },
        "id": "yQPTs9sM5iEp",
        "outputId": "6b04a8c2-e80d-47c9-d18c-cd43f35c8f3f"
      },
      "execution_count": null,
      "outputs": [
        {
          "output_type": "display_data",
          "data": {
            "text/html": [
              "<html>\n",
              "<head><meta charset=\"utf-8\" /></head>\n",
              "<body>\n",
              "    <div>            <script src=\"https://cdnjs.cloudflare.com/ajax/libs/mathjax/2.7.5/MathJax.js?config=TeX-AMS-MML_SVG\"></script><script type=\"text/javascript\">if (window.MathJax && window.MathJax.Hub && window.MathJax.Hub.Config) {window.MathJax.Hub.Config({SVG: {font: \"STIX-Web\"}});}</script>                <script type=\"text/javascript\">window.PlotlyConfig = {MathJaxConfig: 'local'};</script>\n",
              "        <script charset=\"utf-8\" src=\"https://cdn.plot.ly/plotly-2.35.2.min.js\"></script>                <div id=\"0858cb8c-a782-4084-a93d-f01783145f1c\" class=\"plotly-graph-div\" style=\"height:525px; width:100%;\"></div>            <script type=\"text/javascript\">                                    window.PLOTLYENV=window.PLOTLYENV || {};                                    if (document.getElementById(\"0858cb8c-a782-4084-a93d-f01783145f1c\")) {                    Plotly.newPlot(                        \"0858cb8c-a782-4084-a93d-f01783145f1c\",                        [{\"box\":{\"visible\":true},\"line\":{\"color\":\"white\"},\"name\":\"experiment_1\",\"points\":\"all\",\"x\":[\"male\",\"female\",\"male\",\"female\",\"male\",\"female\",\"male\",\"female\",\"male\",\"female\",\"male\",\"female\",\"male\",\"female\",\"male\",\"female\",\"male\",\"female\",\"male\",\"female\",\"male\",\"female\",\"male\",\"female\",\"male\",\"female\",\"male\",\"female\",\"male\",\"female\",\"male\",\"female\",\"male\",\"female\",\"male\",\"female\",\"male\",\"female\",\"male\",\"female\",\"male\",\"female\",\"male\",\"female\",\"male\",\"female\",\"male\",\"female\",\"male\",\"female\",\"male\",\"female\",\"male\",\"female\",\"male\",\"female\",\"male\",\"female\",\"male\",\"female\",\"male\",\"female\",\"male\",\"female\",\"male\",\"female\",\"male\",\"female\",\"male\",\"female\",\"male\",\"female\",\"male\",\"female\",\"male\",\"female\",\"male\",\"female\",\"male\",\"female\",\"male\",\"female\",\"male\",\"female\",\"male\",\"female\",\"male\",\"female\",\"male\",\"female\",\"male\",\"female\",\"male\",\"female\",\"male\",\"female\",\"male\",\"female\",\"male\",\"female\"],\"y\":[96.87606524104424,87.30133583529452,97.69131206443264,102.97815237236064,87.10699272862477,106.650988962703,101.96789610675285,117.78402141130046,115.41235439928084,107.3273448045416,99.6172541280035,100.90801801849013,103.73322930003812,96.82862968379752,97.41300576349734,111.71546116211962,92.99825424103256,103.0370263885008,122.45771222849216,111.72093843245534,108.59703912851718,86.00067917492646,108.22082997242558,107.02254986229214,106.68567646477835,98.33722206969595,91.77160903135388,114.0102260806097,99.36447339671628,102.0848651185468,104.22003927060842,90.8419388241776,93.0952189075527,120.28494035137344,112.79439507221171,97.38937970522906,105.60548763385378,106.3602628726801,101.58409349079014,79.627960848754,115.1745293454008,106.53182376731462,94.98263666330396,96.78131630120166,90.53505148745876,97.3724477688896,102.07570100045706,113.34644089441548,99.16252467399494,115.19093327622592,101.20197149116704,102.15438485258844,104.84390950771105,88.86870748537869,106.99313326342283,79.42957481543229,79.91007596007512,102.75674518465028,106.50911841835378,116.57613978851472,105.86488743479735,101.6406509148884,82.45375160201769,103.47113336815175,111.57539596013696,90.52597523832,125.5204245339222,90.21247438443784,110.8333387158032,103.86151675950492,83.8308994934392,104.89507698266064,95.34256875179256,101.3127213745742,88.39280684001895,100.51923728271925,94.49978699806825,115.28544529751144,88.02583256666699,108.21594141266117,103.97741353721,93.02648850216076,94.75344491514376,105.41326143638526,89.98571694680537,99.19797691786115,106.45557892554882,106.53740176869354,100.58494014361828,100.28481061716067,100.17749269798531,108.15167224711271,101.3205252320304,99.17755784625103,102.77062539939328,108.1569641420406,91.73999230125186,95.41034685726756,106.36240592567884,94.2692372873789],\"type\":\"violin\",\"xaxis\":\"x\",\"yaxis\":\"y\"},{\"box\":{\"visible\":true},\"line\":{\"color\":\"red\"},\"name\":\"experiment_2\",\"points\":\"all\",\"x\":[\"male\",\"female\",\"male\",\"female\",\"male\",\"female\",\"male\",\"female\",\"male\",\"female\",\"male\",\"female\",\"male\",\"female\",\"male\",\"female\",\"male\",\"female\",\"male\",\"female\",\"male\",\"female\",\"male\",\"female\",\"male\",\"female\",\"male\",\"female\",\"male\",\"female\",\"male\",\"female\",\"male\",\"female\",\"male\",\"female\",\"male\",\"female\",\"male\",\"female\",\"male\",\"female\",\"male\",\"female\",\"male\",\"female\",\"male\",\"female\",\"male\",\"female\",\"male\",\"female\",\"male\",\"female\",\"male\",\"female\",\"male\",\"female\",\"male\",\"female\",\"male\",\"female\",\"male\",\"female\",\"male\",\"female\",\"male\",\"female\",\"male\",\"female\",\"male\",\"female\",\"male\",\"female\",\"male\",\"female\",\"male\",\"female\",\"male\",\"female\",\"male\",\"female\",\"male\",\"female\",\"male\",\"female\",\"male\",\"female\",\"male\",\"female\",\"male\",\"female\",\"male\",\"female\",\"male\",\"female\",\"male\",\"female\",\"male\",\"female\"],\"y\":[93.41794186205836,129.60339543098098,106.18791583747864,93.8146817305033,107.01998547962673,94.01726233779416,95.08891880671696,115.39140402812605,105.13793762581705,134.4989267139621,106.19263647197582,98.49773453074349,103.64300947168036,118.28851360684462,133.81460507676135,143.68589169199117,119.11313771972604,113.49030757386136,125.57402071454852,97.29321087218584,114.55578187212689,102.8148302845022,111.2655464432314,107.32317041909052,125.53691833259457,120.66187625946849,106.11835373702648,113.19411909266884,128.98211960060868,96.76265139283652,98.53000797317672,129.77868819843576,117.4908416284272,128.10347266036626,108.65787818177574,93.97915042860836,100.31935141294606,99.20417350710404,106.43997407520592,126.39982636138508,101.21513001268984,107.28672680975174,121.1716702929984,127.24938650893672,106.4738708421859,103.45396742654022,110.42502823706356,114.28422515239596,115.87027487805348,102.76053814688797,88.65923075825724,112.09850718335584,92.46744327013312,99.895240748729,94.9336684921247,102.10062558140578,93.61647573375812,115.6401933040668,109.31644644934065,106.18926547435316,91.33176428280692,120.14042960264156,119.99866553631976,106.97465225615018,121.36550691186274,98.71650364377432,82.48071301855163,90.0325909853458,117.96705726440037,110.80555993405694,100.35633403365804,103.2406397128152,106.71264388984817,112.40253823162678,118.37686641258448,89.408981677046,112.74449166670784,113.71706929679968,124.43908197971108,133.07129566591016,136.6736157228351,108.40115937104376,137.7421034460475,86.92391691963303,115.87117118675488,130.11109471859805,100.02567617575396,102.49887098636997,120.93374474771228,99.53759126542052,104.67370034744938,137.99435901344117,105.71129083938632,88.57072941909104,129.00227367829714,105.97154070236674,111.1253771258949,84.44832175269606,115.52238227700173,104.6510642690364],\"type\":\"violin\",\"xaxis\":\"x2\",\"yaxis\":\"y2\"},{\"box\":{\"visible\":true},\"line\":{\"color\":\"blue\"},\"name\":\"experiment_3\",\"points\":\"all\",\"x\":[\"male\",\"female\",\"male\",\"female\",\"male\",\"female\",\"male\",\"female\",\"male\",\"female\",\"male\",\"female\",\"male\",\"female\",\"male\",\"female\",\"male\",\"female\",\"male\",\"female\",\"male\",\"female\",\"male\",\"female\",\"male\",\"female\",\"male\",\"female\",\"male\",\"female\",\"male\",\"female\",\"male\",\"female\",\"male\",\"female\",\"male\",\"female\",\"male\",\"female\",\"male\",\"female\",\"male\",\"female\",\"male\",\"female\",\"male\",\"female\",\"male\",\"female\",\"male\",\"female\",\"male\",\"female\",\"male\",\"female\",\"male\",\"female\",\"male\",\"female\",\"male\",\"female\",\"male\",\"female\",\"male\",\"female\",\"male\",\"female\",\"male\",\"female\",\"male\",\"female\",\"male\",\"female\",\"male\",\"female\",\"male\",\"female\",\"male\",\"female\",\"male\",\"female\",\"male\",\"female\",\"male\",\"female\",\"male\",\"female\",\"male\",\"female\",\"male\",\"female\",\"male\",\"female\",\"male\",\"female\",\"male\",\"female\",\"male\",\"female\"],\"y\":[73.03319261806172,66.05655384860344,103.42270945298878,56.99587018931086,72.14029211350231,76.62440110809008,111.81685216636848,98.64938286937958,96.28039576038483,86.43129372481046,97.9614052031477,81.57649628140524,92.6733901151631,69.04800214309412,85.86631202379608,98.9968522988364,85.53334112377719,99.17539628161732,110.15293673867568,99.82865111091688,74.57665002405716,93.4909918341224,96.23192720552623,68.64741021134407,93.42960247255095,68.27452225629308,84.86622957834284,83.2783694811895,93.68353539266592,109.4336405768756,84.78250808783284,103.4072175445103,75.317582722818,115.58696867308667,80.0527938687015,106.2872379688312,98.61238234207067,70.37381577213912,69.8017451924211,85.41912263305407,43.801175752611606,60.81179285463617,99.41949730696815,81.067194207433,81.38217435797954,64.5680823183638,82.10664726913008,114.0800090383604,56.94730371262592,76.81854612272282,84.19773610407385,96.88296557581286,143.84643208361138,95.86144929579538,126.23854648453153,105.39919358542934,25.528902727455872,85.0183158666797,78.05352942296578,89.43052556366084,55.15574459592456,103.6598229404085,81.84612840166531,99.3315284278933,81.13130127077808,105.87651496636612,73.5436296499183,94.68164053424204,112.34804577447116,103.02493792432377,93.73716887483364,113.1460990824864,89.65914020129773,103.5323883381708,92.9848024432388,91.39393639000464,122.96692500755688,103.10058008500462,92.4851775911426,110.2178377106918,119.81130284877877,87.60512026902201,94.41014090268736,91.16612042676972,91.76224286416664,83.04163191003826,115.64157104921004,89.8283252286509,88.39586580661535,116.9537068983502,73.25099641056534,105.05479181425382,73.73084439286063,78.65504095998203,52.11112167838937,64.52402923016913,64.26099304241377,75.50599064359672,123.46968854252772,92.38748987804956],\"type\":\"violin\",\"xaxis\":\"x3\",\"yaxis\":\"y3\"}],                        {\"template\":{\"data\":{\"barpolar\":[{\"marker\":{\"line\":{\"color\":\"rgb(17,17,17)\",\"width\":0.5},\"pattern\":{\"fillmode\":\"overlay\",\"size\":10,\"solidity\":0.2}},\"type\":\"barpolar\"}],\"bar\":[{\"error_x\":{\"color\":\"#f2f5fa\"},\"error_y\":{\"color\":\"#f2f5fa\"},\"marker\":{\"line\":{\"color\":\"rgb(17,17,17)\",\"width\":0.5},\"pattern\":{\"fillmode\":\"overlay\",\"size\":10,\"solidity\":0.2}},\"type\":\"bar\"}],\"carpet\":[{\"aaxis\":{\"endlinecolor\":\"#A2B1C6\",\"gridcolor\":\"#506784\",\"linecolor\":\"#506784\",\"minorgridcolor\":\"#506784\",\"startlinecolor\":\"#A2B1C6\"},\"baxis\":{\"endlinecolor\":\"#A2B1C6\",\"gridcolor\":\"#506784\",\"linecolor\":\"#506784\",\"minorgridcolor\":\"#506784\",\"startlinecolor\":\"#A2B1C6\"},\"type\":\"carpet\"}],\"choropleth\":[{\"colorbar\":{\"outlinewidth\":0,\"ticks\":\"\"},\"type\":\"choropleth\"}],\"contourcarpet\":[{\"colorbar\":{\"outlinewidth\":0,\"ticks\":\"\"},\"type\":\"contourcarpet\"}],\"contour\":[{\"colorbar\":{\"outlinewidth\":0,\"ticks\":\"\"},\"colorscale\":[[0.0,\"#0d0887\"],[0.1111111111111111,\"#46039f\"],[0.2222222222222222,\"#7201a8\"],[0.3333333333333333,\"#9c179e\"],[0.4444444444444444,\"#bd3786\"],[0.5555555555555556,\"#d8576b\"],[0.6666666666666666,\"#ed7953\"],[0.7777777777777778,\"#fb9f3a\"],[0.8888888888888888,\"#fdca26\"],[1.0,\"#f0f921\"]],\"type\":\"contour\"}],\"heatmapgl\":[{\"colorbar\":{\"outlinewidth\":0,\"ticks\":\"\"},\"colorscale\":[[0.0,\"#0d0887\"],[0.1111111111111111,\"#46039f\"],[0.2222222222222222,\"#7201a8\"],[0.3333333333333333,\"#9c179e\"],[0.4444444444444444,\"#bd3786\"],[0.5555555555555556,\"#d8576b\"],[0.6666666666666666,\"#ed7953\"],[0.7777777777777778,\"#fb9f3a\"],[0.8888888888888888,\"#fdca26\"],[1.0,\"#f0f921\"]],\"type\":\"heatmapgl\"}],\"heatmap\":[{\"colorbar\":{\"outlinewidth\":0,\"ticks\":\"\"},\"colorscale\":[[0.0,\"#0d0887\"],[0.1111111111111111,\"#46039f\"],[0.2222222222222222,\"#7201a8\"],[0.3333333333333333,\"#9c179e\"],[0.4444444444444444,\"#bd3786\"],[0.5555555555555556,\"#d8576b\"],[0.6666666666666666,\"#ed7953\"],[0.7777777777777778,\"#fb9f3a\"],[0.8888888888888888,\"#fdca26\"],[1.0,\"#f0f921\"]],\"type\":\"heatmap\"}],\"histogram2dcontour\":[{\"colorbar\":{\"outlinewidth\":0,\"ticks\":\"\"},\"colorscale\":[[0.0,\"#0d0887\"],[0.1111111111111111,\"#46039f\"],[0.2222222222222222,\"#7201a8\"],[0.3333333333333333,\"#9c179e\"],[0.4444444444444444,\"#bd3786\"],[0.5555555555555556,\"#d8576b\"],[0.6666666666666666,\"#ed7953\"],[0.7777777777777778,\"#fb9f3a\"],[0.8888888888888888,\"#fdca26\"],[1.0,\"#f0f921\"]],\"type\":\"histogram2dcontour\"}],\"histogram2d\":[{\"colorbar\":{\"outlinewidth\":0,\"ticks\":\"\"},\"colorscale\":[[0.0,\"#0d0887\"],[0.1111111111111111,\"#46039f\"],[0.2222222222222222,\"#7201a8\"],[0.3333333333333333,\"#9c179e\"],[0.4444444444444444,\"#bd3786\"],[0.5555555555555556,\"#d8576b\"],[0.6666666666666666,\"#ed7953\"],[0.7777777777777778,\"#fb9f3a\"],[0.8888888888888888,\"#fdca26\"],[1.0,\"#f0f921\"]],\"type\":\"histogram2d\"}],\"histogram\":[{\"marker\":{\"pattern\":{\"fillmode\":\"overlay\",\"size\":10,\"solidity\":0.2}},\"type\":\"histogram\"}],\"mesh3d\":[{\"colorbar\":{\"outlinewidth\":0,\"ticks\":\"\"},\"type\":\"mesh3d\"}],\"parcoords\":[{\"line\":{\"colorbar\":{\"outlinewidth\":0,\"ticks\":\"\"}},\"type\":\"parcoords\"}],\"pie\":[{\"automargin\":true,\"type\":\"pie\"}],\"scatter3d\":[{\"line\":{\"colorbar\":{\"outlinewidth\":0,\"ticks\":\"\"}},\"marker\":{\"colorbar\":{\"outlinewidth\":0,\"ticks\":\"\"}},\"type\":\"scatter3d\"}],\"scattercarpet\":[{\"marker\":{\"colorbar\":{\"outlinewidth\":0,\"ticks\":\"\"}},\"type\":\"scattercarpet\"}],\"scattergeo\":[{\"marker\":{\"colorbar\":{\"outlinewidth\":0,\"ticks\":\"\"}},\"type\":\"scattergeo\"}],\"scattergl\":[{\"marker\":{\"line\":{\"color\":\"#283442\"}},\"type\":\"scattergl\"}],\"scattermapbox\":[{\"marker\":{\"colorbar\":{\"outlinewidth\":0,\"ticks\":\"\"}},\"type\":\"scattermapbox\"}],\"scatterpolargl\":[{\"marker\":{\"colorbar\":{\"outlinewidth\":0,\"ticks\":\"\"}},\"type\":\"scatterpolargl\"}],\"scatterpolar\":[{\"marker\":{\"colorbar\":{\"outlinewidth\":0,\"ticks\":\"\"}},\"type\":\"scatterpolar\"}],\"scatter\":[{\"marker\":{\"line\":{\"color\":\"#283442\"}},\"type\":\"scatter\"}],\"scatterternary\":[{\"marker\":{\"colorbar\":{\"outlinewidth\":0,\"ticks\":\"\"}},\"type\":\"scatterternary\"}],\"surface\":[{\"colorbar\":{\"outlinewidth\":0,\"ticks\":\"\"},\"colorscale\":[[0.0,\"#0d0887\"],[0.1111111111111111,\"#46039f\"],[0.2222222222222222,\"#7201a8\"],[0.3333333333333333,\"#9c179e\"],[0.4444444444444444,\"#bd3786\"],[0.5555555555555556,\"#d8576b\"],[0.6666666666666666,\"#ed7953\"],[0.7777777777777778,\"#fb9f3a\"],[0.8888888888888888,\"#fdca26\"],[1.0,\"#f0f921\"]],\"type\":\"surface\"}],\"table\":[{\"cells\":{\"fill\":{\"color\":\"#506784\"},\"line\":{\"color\":\"rgb(17,17,17)\"}},\"header\":{\"fill\":{\"color\":\"#2a3f5f\"},\"line\":{\"color\":\"rgb(17,17,17)\"}},\"type\":\"table\"}]},\"layout\":{\"annotationdefaults\":{\"arrowcolor\":\"#f2f5fa\",\"arrowhead\":0,\"arrowwidth\":1},\"autotypenumbers\":\"strict\",\"coloraxis\":{\"colorbar\":{\"outlinewidth\":0,\"ticks\":\"\"}},\"colorscale\":{\"diverging\":[[0,\"#8e0152\"],[0.1,\"#c51b7d\"],[0.2,\"#de77ae\"],[0.3,\"#f1b6da\"],[0.4,\"#fde0ef\"],[0.5,\"#f7f7f7\"],[0.6,\"#e6f5d0\"],[0.7,\"#b8e186\"],[0.8,\"#7fbc41\"],[0.9,\"#4d9221\"],[1,\"#276419\"]],\"sequential\":[[0.0,\"#0d0887\"],[0.1111111111111111,\"#46039f\"],[0.2222222222222222,\"#7201a8\"],[0.3333333333333333,\"#9c179e\"],[0.4444444444444444,\"#bd3786\"],[0.5555555555555556,\"#d8576b\"],[0.6666666666666666,\"#ed7953\"],[0.7777777777777778,\"#fb9f3a\"],[0.8888888888888888,\"#fdca26\"],[1.0,\"#f0f921\"]],\"sequentialminus\":[[0.0,\"#0d0887\"],[0.1111111111111111,\"#46039f\"],[0.2222222222222222,\"#7201a8\"],[0.3333333333333333,\"#9c179e\"],[0.4444444444444444,\"#bd3786\"],[0.5555555555555556,\"#d8576b\"],[0.6666666666666666,\"#ed7953\"],[0.7777777777777778,\"#fb9f3a\"],[0.8888888888888888,\"#fdca26\"],[1.0,\"#f0f921\"]]},\"colorway\":[\"#636efa\",\"#EF553B\",\"#00cc96\",\"#ab63fa\",\"#FFA15A\",\"#19d3f3\",\"#FF6692\",\"#B6E880\",\"#FF97FF\",\"#FECB52\"],\"font\":{\"color\":\"#f2f5fa\"},\"geo\":{\"bgcolor\":\"rgb(17,17,17)\",\"lakecolor\":\"rgb(17,17,17)\",\"landcolor\":\"rgb(17,17,17)\",\"showlakes\":true,\"showland\":true,\"subunitcolor\":\"#506784\"},\"hoverlabel\":{\"align\":\"left\"},\"hovermode\":\"closest\",\"mapbox\":{\"style\":\"dark\"},\"paper_bgcolor\":\"rgb(17,17,17)\",\"plot_bgcolor\":\"rgb(17,17,17)\",\"polar\":{\"angularaxis\":{\"gridcolor\":\"#506784\",\"linecolor\":\"#506784\",\"ticks\":\"\"},\"bgcolor\":\"rgb(17,17,17)\",\"radialaxis\":{\"gridcolor\":\"#506784\",\"linecolor\":\"#506784\",\"ticks\":\"\"}},\"scene\":{\"xaxis\":{\"backgroundcolor\":\"rgb(17,17,17)\",\"gridcolor\":\"#506784\",\"gridwidth\":2,\"linecolor\":\"#506784\",\"showbackground\":true,\"ticks\":\"\",\"zerolinecolor\":\"#C8D4E3\"},\"yaxis\":{\"backgroundcolor\":\"rgb(17,17,17)\",\"gridcolor\":\"#506784\",\"gridwidth\":2,\"linecolor\":\"#506784\",\"showbackground\":true,\"ticks\":\"\",\"zerolinecolor\":\"#C8D4E3\"},\"zaxis\":{\"backgroundcolor\":\"rgb(17,17,17)\",\"gridcolor\":\"#506784\",\"gridwidth\":2,\"linecolor\":\"#506784\",\"showbackground\":true,\"ticks\":\"\",\"zerolinecolor\":\"#C8D4E3\"}},\"shapedefaults\":{\"line\":{\"color\":\"#f2f5fa\"}},\"sliderdefaults\":{\"bgcolor\":\"#C8D4E3\",\"bordercolor\":\"rgb(17,17,17)\",\"borderwidth\":1,\"tickwidth\":0},\"ternary\":{\"aaxis\":{\"gridcolor\":\"#506784\",\"linecolor\":\"#506784\",\"ticks\":\"\"},\"baxis\":{\"gridcolor\":\"#506784\",\"linecolor\":\"#506784\",\"ticks\":\"\"},\"bgcolor\":\"rgb(17,17,17)\",\"caxis\":{\"gridcolor\":\"#506784\",\"linecolor\":\"#506784\",\"ticks\":\"\"}},\"title\":{\"x\":0.05},\"updatemenudefaults\":{\"bgcolor\":\"#506784\",\"borderwidth\":0},\"xaxis\":{\"automargin\":true,\"gridcolor\":\"#283442\",\"linecolor\":\"#506784\",\"ticks\":\"\",\"title\":{\"standoff\":15},\"zerolinecolor\":\"#283442\",\"zerolinewidth\":2},\"yaxis\":{\"automargin\":true,\"gridcolor\":\"#283442\",\"linecolor\":\"#506784\",\"ticks\":\"\",\"title\":{\"standoff\":15},\"zerolinecolor\":\"#283442\",\"zerolinewidth\":2}}},\"xaxis\":{\"anchor\":\"y\",\"domain\":[0.0,0.2888888888888889]},\"yaxis\":{\"anchor\":\"x\",\"domain\":[0.0,1.0]},\"xaxis2\":{\"anchor\":\"y2\",\"domain\":[0.35555555555555557,0.6444444444444445]},\"yaxis2\":{\"anchor\":\"x2\",\"domain\":[0.0,1.0],\"matches\":\"y\",\"showticklabels\":false},\"xaxis3\":{\"anchor\":\"y3\",\"domain\":[0.7111111111111111,1.0]},\"yaxis3\":{\"anchor\":\"x3\",\"domain\":[0.0,1.0],\"matches\":\"y\",\"showticklabels\":false},\"annotations\":[{\"font\":{\"size\":16},\"showarrow\":false,\"text\":\"experiments 1\",\"x\":0.14444444444444446,\"xanchor\":\"center\",\"xref\":\"paper\",\"y\":1.0,\"yanchor\":\"bottom\",\"yref\":\"paper\"},{\"font\":{\"size\":16},\"showarrow\":false,\"text\":\"experiments 2\",\"x\":0.5,\"xanchor\":\"center\",\"xref\":\"paper\",\"y\":1.0,\"yanchor\":\"bottom\",\"yref\":\"paper\"},{\"font\":{\"size\":16},\"showarrow\":false,\"text\":\"experiments 3\",\"x\":0.8555555555555556,\"xanchor\":\"center\",\"xref\":\"paper\",\"y\":1.0,\"yanchor\":\"bottom\",\"yref\":\"paper\"}],\"title\":{\"text\":\"Violin charts for experiments\"}},                        {\"responsive\": true}                    ).then(function(){\n",
              "                            \n",
              "var gd = document.getElementById('0858cb8c-a782-4084-a93d-f01783145f1c');\n",
              "var x = new MutationObserver(function (mutations, observer) {{\n",
              "        var display = window.getComputedStyle(gd).display;\n",
              "        if (!display || display === 'none') {{\n",
              "            console.log([gd, 'removed!']);\n",
              "            Plotly.purge(gd);\n",
              "            observer.disconnect();\n",
              "        }}\n",
              "}});\n",
              "\n",
              "// Listen for the removal of the full notebook cells\n",
              "var notebookContainer = gd.closest('#notebook-container');\n",
              "if (notebookContainer) {{\n",
              "    x.observe(notebookContainer, {childList: true});\n",
              "}}\n",
              "\n",
              "// Listen for the clearing of the current output cell\n",
              "var outputEl = gd.closest('.output');\n",
              "if (outputEl) {{\n",
              "    x.observe(outputEl, {childList: true});\n",
              "}}\n",
              "\n",
              "                        })                };                            </script>        </div>\n",
              "</body>\n",
              "</html>"
            ]
          },
          "metadata": {}
        }
      ]
    },
    {
      "cell_type": "code",
      "source": [
        "import chart_studio.plotly as py  # nie pyplot!\n",
        "py.plot(fig, filename='Violin charts for experiments', auto_open=True)"
      ],
      "metadata": {
        "colab": {
          "base_uri": "https://localhost:8080/",
          "height": 36
        },
        "id": "SikNl4Cf9qDs",
        "outputId": "4907c67a-edd7-414f-8821-83b505c91c21"
      },
      "execution_count": null,
      "outputs": [
        {
          "output_type": "execute_result",
          "data": {
            "text/plain": [
              "'https://chart-studio.plotly.com/~Strzelczykk_nat/22/'"
            ],
            "application/vnd.google.colaboratory.intrinsic+json": {
              "type": "string"
            }
          },
          "metadata": {},
          "execution_count": 101
        }
      ]
    },
    {
      "cell_type": "code",
      "source": [
        "fig = make_subplots()\n",
        "fig.update_layout(title = 'Histogram for each experiments',  xaxis_title='Experiment 1 Score', yaxis_title='Count',template='plotly_dark')\n",
        "\n",
        "fig.add_trace(\n",
        "    go.Histogram(y=df['experiment_1'], nbinsy=20),\n",
        ")\n",
        "\n",
        "fig.add_trace(\n",
        "    go.Histogram(y=df['experiment_2'], nbinsy=20),\n",
        ")\n",
        "fig.add_trace(\n",
        "    go.Histogram(y=df['experiment_3'], nbinsy=20),\n",
        ")\n",
        "\n",
        "\n",
        "fig.show()"
      ],
      "metadata": {
        "colab": {
          "base_uri": "https://localhost:8080/",
          "height": 542
        },
        "id": "eBbX1eih97Eb",
        "outputId": "be5a7644-41fa-4e17-d925-e6250f58f33b"
      },
      "execution_count": 127,
      "outputs": [
        {
          "output_type": "display_data",
          "data": {
            "text/html": [
              "<html>\n",
              "<head><meta charset=\"utf-8\" /></head>\n",
              "<body>\n",
              "    <div>            <script src=\"https://cdnjs.cloudflare.com/ajax/libs/mathjax/2.7.5/MathJax.js?config=TeX-AMS-MML_SVG\"></script><script type=\"text/javascript\">if (window.MathJax && window.MathJax.Hub && window.MathJax.Hub.Config) {window.MathJax.Hub.Config({SVG: {font: \"STIX-Web\"}});}</script>                <script type=\"text/javascript\">window.PlotlyConfig = {MathJaxConfig: 'local'};</script>\n",
              "        <script charset=\"utf-8\" src=\"https://cdn.plot.ly/plotly-2.35.2.min.js\"></script>                <div id=\"37cf2f29-4995-4384-82b9-d164b093658e\" class=\"plotly-graph-div\" style=\"height:525px; width:100%;\"></div>            <script type=\"text/javascript\">                                    window.PLOTLYENV=window.PLOTLYENV || {};                                    if (document.getElementById(\"37cf2f29-4995-4384-82b9-d164b093658e\")) {                    Plotly.newPlot(                        \"37cf2f29-4995-4384-82b9-d164b093658e\",                        [{\"nbinsy\":20,\"y\":[96.87606524104424,87.30133583529452,97.69131206443264,102.97815237236064,87.10699272862477,106.650988962703,101.96789610675285,117.78402141130046,115.41235439928084,107.3273448045416,99.6172541280035,100.90801801849013,103.73322930003812,96.82862968379752,97.41300576349734,111.71546116211962,92.99825424103256,103.0370263885008,122.45771222849216,111.72093843245534,108.59703912851718,86.00067917492646,108.22082997242558,107.02254986229214,106.68567646477835,98.33722206969595,91.77160903135388,114.0102260806097,99.36447339671628,102.0848651185468,104.22003927060842,90.8419388241776,93.0952189075527,120.28494035137344,112.79439507221171,97.38937970522906,105.60548763385378,106.3602628726801,101.58409349079014,79.627960848754,115.1745293454008,106.53182376731462,94.98263666330396,96.78131630120166,90.53505148745876,97.3724477688896,102.07570100045706,113.34644089441548,99.16252467399494,115.19093327622592,101.20197149116704,102.15438485258844,104.84390950771105,88.86870748537869,106.99313326342283,79.42957481543229,79.91007596007512,102.75674518465028,106.50911841835378,116.57613978851472,105.86488743479735,101.6406509148884,82.45375160201769,103.47113336815175,111.57539596013696,90.52597523832,125.5204245339222,90.21247438443784,110.8333387158032,103.86151675950492,83.8308994934392,104.89507698266064,95.34256875179256,101.3127213745742,88.39280684001895,100.51923728271925,94.49978699806825,115.28544529751144,88.02583256666699,108.21594141266117,103.97741353721,93.02648850216076,94.75344491514376,105.41326143638526,89.98571694680537,99.19797691786115,106.45557892554882,106.53740176869354,100.58494014361828,100.28481061716067,100.17749269798531,108.15167224711271,101.3205252320304,99.17755784625103,102.77062539939328,108.1569641420406,91.73999230125186,95.41034685726756,106.36240592567884,94.2692372873789],\"type\":\"histogram\"},{\"nbinsy\":20,\"y\":[93.41794186205836,129.60339543098098,106.18791583747864,93.8146817305033,107.01998547962673,94.01726233779416,95.08891880671696,115.39140402812605,105.13793762581705,134.4989267139621,106.19263647197582,98.49773453074349,103.64300947168036,118.28851360684462,133.81460507676135,143.68589169199117,119.11313771972604,113.49030757386136,125.57402071454852,97.29321087218584,114.55578187212689,102.8148302845022,111.2655464432314,107.32317041909052,125.53691833259457,120.66187625946849,106.11835373702648,113.19411909266884,128.98211960060868,96.76265139283652,98.53000797317672,129.77868819843576,117.4908416284272,128.10347266036626,108.65787818177574,93.97915042860836,100.31935141294606,99.20417350710404,106.43997407520592,126.39982636138508,101.21513001268984,107.28672680975174,121.1716702929984,127.24938650893672,106.4738708421859,103.45396742654022,110.42502823706356,114.28422515239596,115.87027487805348,102.76053814688797,88.65923075825724,112.09850718335584,92.46744327013312,99.895240748729,94.9336684921247,102.10062558140578,93.61647573375812,115.6401933040668,109.31644644934065,106.18926547435316,91.33176428280692,120.14042960264156,119.99866553631976,106.97465225615018,121.36550691186274,98.71650364377432,82.48071301855163,90.0325909853458,117.96705726440037,110.80555993405694,100.35633403365804,103.2406397128152,106.71264388984817,112.40253823162678,118.37686641258448,89.408981677046,112.74449166670784,113.71706929679968,124.43908197971108,133.07129566591016,136.6736157228351,108.40115937104376,137.7421034460475,86.92391691963303,115.87117118675488,130.11109471859805,100.02567617575396,102.49887098636997,120.93374474771228,99.53759126542052,104.67370034744938,137.99435901344117,105.71129083938632,88.57072941909104,129.00227367829714,105.97154070236674,111.1253771258949,84.44832175269606,115.52238227700173,104.6510642690364],\"type\":\"histogram\"},{\"nbinsy\":20,\"y\":[73.03319261806172,66.05655384860344,103.42270945298878,56.99587018931086,72.14029211350231,76.62440110809008,111.81685216636848,98.64938286937958,96.28039576038483,86.43129372481046,97.9614052031477,81.57649628140524,92.6733901151631,69.04800214309412,85.86631202379608,98.9968522988364,85.53334112377719,99.17539628161732,110.15293673867568,99.82865111091688,74.57665002405716,93.4909918341224,96.23192720552623,68.64741021134407,93.42960247255095,68.27452225629308,84.86622957834284,83.2783694811895,93.68353539266592,109.4336405768756,84.78250808783284,103.4072175445103,75.317582722818,115.58696867308667,80.0527938687015,106.2872379688312,98.61238234207067,70.37381577213912,69.8017451924211,85.41912263305407,43.801175752611606,60.81179285463617,99.41949730696815,81.067194207433,81.38217435797954,64.5680823183638,82.10664726913008,114.0800090383604,56.94730371262592,76.81854612272282,84.19773610407385,96.88296557581286,143.84643208361138,95.86144929579538,126.23854648453153,105.39919358542934,25.528902727455872,85.0183158666797,78.05352942296578,89.43052556366084,55.15574459592456,103.6598229404085,81.84612840166531,99.3315284278933,81.13130127077808,105.87651496636612,73.5436296499183,94.68164053424204,112.34804577447116,103.02493792432377,93.73716887483364,113.1460990824864,89.65914020129773,103.5323883381708,92.9848024432388,91.39393639000464,122.96692500755688,103.10058008500462,92.4851775911426,110.2178377106918,119.81130284877877,87.60512026902201,94.41014090268736,91.16612042676972,91.76224286416664,83.04163191003826,115.64157104921004,89.8283252286509,88.39586580661535,116.9537068983502,73.25099641056534,105.05479181425382,73.73084439286063,78.65504095998203,52.11112167838937,64.52402923016913,64.26099304241377,75.50599064359672,123.46968854252772,92.38748987804956],\"type\":\"histogram\"}],                        {\"template\":{\"data\":{\"barpolar\":[{\"marker\":{\"line\":{\"color\":\"rgb(17,17,17)\",\"width\":0.5},\"pattern\":{\"fillmode\":\"overlay\",\"size\":10,\"solidity\":0.2}},\"type\":\"barpolar\"}],\"bar\":[{\"error_x\":{\"color\":\"#f2f5fa\"},\"error_y\":{\"color\":\"#f2f5fa\"},\"marker\":{\"line\":{\"color\":\"rgb(17,17,17)\",\"width\":0.5},\"pattern\":{\"fillmode\":\"overlay\",\"size\":10,\"solidity\":0.2}},\"type\":\"bar\"}],\"carpet\":[{\"aaxis\":{\"endlinecolor\":\"#A2B1C6\",\"gridcolor\":\"#506784\",\"linecolor\":\"#506784\",\"minorgridcolor\":\"#506784\",\"startlinecolor\":\"#A2B1C6\"},\"baxis\":{\"endlinecolor\":\"#A2B1C6\",\"gridcolor\":\"#506784\",\"linecolor\":\"#506784\",\"minorgridcolor\":\"#506784\",\"startlinecolor\":\"#A2B1C6\"},\"type\":\"carpet\"}],\"choropleth\":[{\"colorbar\":{\"outlinewidth\":0,\"ticks\":\"\"},\"type\":\"choropleth\"}],\"contourcarpet\":[{\"colorbar\":{\"outlinewidth\":0,\"ticks\":\"\"},\"type\":\"contourcarpet\"}],\"contour\":[{\"colorbar\":{\"outlinewidth\":0,\"ticks\":\"\"},\"colorscale\":[[0.0,\"#0d0887\"],[0.1111111111111111,\"#46039f\"],[0.2222222222222222,\"#7201a8\"],[0.3333333333333333,\"#9c179e\"],[0.4444444444444444,\"#bd3786\"],[0.5555555555555556,\"#d8576b\"],[0.6666666666666666,\"#ed7953\"],[0.7777777777777778,\"#fb9f3a\"],[0.8888888888888888,\"#fdca26\"],[1.0,\"#f0f921\"]],\"type\":\"contour\"}],\"heatmapgl\":[{\"colorbar\":{\"outlinewidth\":0,\"ticks\":\"\"},\"colorscale\":[[0.0,\"#0d0887\"],[0.1111111111111111,\"#46039f\"],[0.2222222222222222,\"#7201a8\"],[0.3333333333333333,\"#9c179e\"],[0.4444444444444444,\"#bd3786\"],[0.5555555555555556,\"#d8576b\"],[0.6666666666666666,\"#ed7953\"],[0.7777777777777778,\"#fb9f3a\"],[0.8888888888888888,\"#fdca26\"],[1.0,\"#f0f921\"]],\"type\":\"heatmapgl\"}],\"heatmap\":[{\"colorbar\":{\"outlinewidth\":0,\"ticks\":\"\"},\"colorscale\":[[0.0,\"#0d0887\"],[0.1111111111111111,\"#46039f\"],[0.2222222222222222,\"#7201a8\"],[0.3333333333333333,\"#9c179e\"],[0.4444444444444444,\"#bd3786\"],[0.5555555555555556,\"#d8576b\"],[0.6666666666666666,\"#ed7953\"],[0.7777777777777778,\"#fb9f3a\"],[0.8888888888888888,\"#fdca26\"],[1.0,\"#f0f921\"]],\"type\":\"heatmap\"}],\"histogram2dcontour\":[{\"colorbar\":{\"outlinewidth\":0,\"ticks\":\"\"},\"colorscale\":[[0.0,\"#0d0887\"],[0.1111111111111111,\"#46039f\"],[0.2222222222222222,\"#7201a8\"],[0.3333333333333333,\"#9c179e\"],[0.4444444444444444,\"#bd3786\"],[0.5555555555555556,\"#d8576b\"],[0.6666666666666666,\"#ed7953\"],[0.7777777777777778,\"#fb9f3a\"],[0.8888888888888888,\"#fdca26\"],[1.0,\"#f0f921\"]],\"type\":\"histogram2dcontour\"}],\"histogram2d\":[{\"colorbar\":{\"outlinewidth\":0,\"ticks\":\"\"},\"colorscale\":[[0.0,\"#0d0887\"],[0.1111111111111111,\"#46039f\"],[0.2222222222222222,\"#7201a8\"],[0.3333333333333333,\"#9c179e\"],[0.4444444444444444,\"#bd3786\"],[0.5555555555555556,\"#d8576b\"],[0.6666666666666666,\"#ed7953\"],[0.7777777777777778,\"#fb9f3a\"],[0.8888888888888888,\"#fdca26\"],[1.0,\"#f0f921\"]],\"type\":\"histogram2d\"}],\"histogram\":[{\"marker\":{\"pattern\":{\"fillmode\":\"overlay\",\"size\":10,\"solidity\":0.2}},\"type\":\"histogram\"}],\"mesh3d\":[{\"colorbar\":{\"outlinewidth\":0,\"ticks\":\"\"},\"type\":\"mesh3d\"}],\"parcoords\":[{\"line\":{\"colorbar\":{\"outlinewidth\":0,\"ticks\":\"\"}},\"type\":\"parcoords\"}],\"pie\":[{\"automargin\":true,\"type\":\"pie\"}],\"scatter3d\":[{\"line\":{\"colorbar\":{\"outlinewidth\":0,\"ticks\":\"\"}},\"marker\":{\"colorbar\":{\"outlinewidth\":0,\"ticks\":\"\"}},\"type\":\"scatter3d\"}],\"scattercarpet\":[{\"marker\":{\"colorbar\":{\"outlinewidth\":0,\"ticks\":\"\"}},\"type\":\"scattercarpet\"}],\"scattergeo\":[{\"marker\":{\"colorbar\":{\"outlinewidth\":0,\"ticks\":\"\"}},\"type\":\"scattergeo\"}],\"scattergl\":[{\"marker\":{\"line\":{\"color\":\"#283442\"}},\"type\":\"scattergl\"}],\"scattermapbox\":[{\"marker\":{\"colorbar\":{\"outlinewidth\":0,\"ticks\":\"\"}},\"type\":\"scattermapbox\"}],\"scatterpolargl\":[{\"marker\":{\"colorbar\":{\"outlinewidth\":0,\"ticks\":\"\"}},\"type\":\"scatterpolargl\"}],\"scatterpolar\":[{\"marker\":{\"colorbar\":{\"outlinewidth\":0,\"ticks\":\"\"}},\"type\":\"scatterpolar\"}],\"scatter\":[{\"marker\":{\"line\":{\"color\":\"#283442\"}},\"type\":\"scatter\"}],\"scatterternary\":[{\"marker\":{\"colorbar\":{\"outlinewidth\":0,\"ticks\":\"\"}},\"type\":\"scatterternary\"}],\"surface\":[{\"colorbar\":{\"outlinewidth\":0,\"ticks\":\"\"},\"colorscale\":[[0.0,\"#0d0887\"],[0.1111111111111111,\"#46039f\"],[0.2222222222222222,\"#7201a8\"],[0.3333333333333333,\"#9c179e\"],[0.4444444444444444,\"#bd3786\"],[0.5555555555555556,\"#d8576b\"],[0.6666666666666666,\"#ed7953\"],[0.7777777777777778,\"#fb9f3a\"],[0.8888888888888888,\"#fdca26\"],[1.0,\"#f0f921\"]],\"type\":\"surface\"}],\"table\":[{\"cells\":{\"fill\":{\"color\":\"#506784\"},\"line\":{\"color\":\"rgb(17,17,17)\"}},\"header\":{\"fill\":{\"color\":\"#2a3f5f\"},\"line\":{\"color\":\"rgb(17,17,17)\"}},\"type\":\"table\"}]},\"layout\":{\"annotationdefaults\":{\"arrowcolor\":\"#f2f5fa\",\"arrowhead\":0,\"arrowwidth\":1},\"autotypenumbers\":\"strict\",\"coloraxis\":{\"colorbar\":{\"outlinewidth\":0,\"ticks\":\"\"}},\"colorscale\":{\"diverging\":[[0,\"#8e0152\"],[0.1,\"#c51b7d\"],[0.2,\"#de77ae\"],[0.3,\"#f1b6da\"],[0.4,\"#fde0ef\"],[0.5,\"#f7f7f7\"],[0.6,\"#e6f5d0\"],[0.7,\"#b8e186\"],[0.8,\"#7fbc41\"],[0.9,\"#4d9221\"],[1,\"#276419\"]],\"sequential\":[[0.0,\"#0d0887\"],[0.1111111111111111,\"#46039f\"],[0.2222222222222222,\"#7201a8\"],[0.3333333333333333,\"#9c179e\"],[0.4444444444444444,\"#bd3786\"],[0.5555555555555556,\"#d8576b\"],[0.6666666666666666,\"#ed7953\"],[0.7777777777777778,\"#fb9f3a\"],[0.8888888888888888,\"#fdca26\"],[1.0,\"#f0f921\"]],\"sequentialminus\":[[0.0,\"#0d0887\"],[0.1111111111111111,\"#46039f\"],[0.2222222222222222,\"#7201a8\"],[0.3333333333333333,\"#9c179e\"],[0.4444444444444444,\"#bd3786\"],[0.5555555555555556,\"#d8576b\"],[0.6666666666666666,\"#ed7953\"],[0.7777777777777778,\"#fb9f3a\"],[0.8888888888888888,\"#fdca26\"],[1.0,\"#f0f921\"]]},\"colorway\":[\"#636efa\",\"#EF553B\",\"#00cc96\",\"#ab63fa\",\"#FFA15A\",\"#19d3f3\",\"#FF6692\",\"#B6E880\",\"#FF97FF\",\"#FECB52\"],\"font\":{\"color\":\"#f2f5fa\"},\"geo\":{\"bgcolor\":\"rgb(17,17,17)\",\"lakecolor\":\"rgb(17,17,17)\",\"landcolor\":\"rgb(17,17,17)\",\"showlakes\":true,\"showland\":true,\"subunitcolor\":\"#506784\"},\"hoverlabel\":{\"align\":\"left\"},\"hovermode\":\"closest\",\"mapbox\":{\"style\":\"dark\"},\"paper_bgcolor\":\"rgb(17,17,17)\",\"plot_bgcolor\":\"rgb(17,17,17)\",\"polar\":{\"angularaxis\":{\"gridcolor\":\"#506784\",\"linecolor\":\"#506784\",\"ticks\":\"\"},\"bgcolor\":\"rgb(17,17,17)\",\"radialaxis\":{\"gridcolor\":\"#506784\",\"linecolor\":\"#506784\",\"ticks\":\"\"}},\"scene\":{\"xaxis\":{\"backgroundcolor\":\"rgb(17,17,17)\",\"gridcolor\":\"#506784\",\"gridwidth\":2,\"linecolor\":\"#506784\",\"showbackground\":true,\"ticks\":\"\",\"zerolinecolor\":\"#C8D4E3\"},\"yaxis\":{\"backgroundcolor\":\"rgb(17,17,17)\",\"gridcolor\":\"#506784\",\"gridwidth\":2,\"linecolor\":\"#506784\",\"showbackground\":true,\"ticks\":\"\",\"zerolinecolor\":\"#C8D4E3\"},\"zaxis\":{\"backgroundcolor\":\"rgb(17,17,17)\",\"gridcolor\":\"#506784\",\"gridwidth\":2,\"linecolor\":\"#506784\",\"showbackground\":true,\"ticks\":\"\",\"zerolinecolor\":\"#C8D4E3\"}},\"shapedefaults\":{\"line\":{\"color\":\"#f2f5fa\"}},\"sliderdefaults\":{\"bgcolor\":\"#C8D4E3\",\"bordercolor\":\"rgb(17,17,17)\",\"borderwidth\":1,\"tickwidth\":0},\"ternary\":{\"aaxis\":{\"gridcolor\":\"#506784\",\"linecolor\":\"#506784\",\"ticks\":\"\"},\"baxis\":{\"gridcolor\":\"#506784\",\"linecolor\":\"#506784\",\"ticks\":\"\"},\"bgcolor\":\"rgb(17,17,17)\",\"caxis\":{\"gridcolor\":\"#506784\",\"linecolor\":\"#506784\",\"ticks\":\"\"}},\"title\":{\"x\":0.05},\"updatemenudefaults\":{\"bgcolor\":\"#506784\",\"borderwidth\":0},\"xaxis\":{\"automargin\":true,\"gridcolor\":\"#283442\",\"linecolor\":\"#506784\",\"ticks\":\"\",\"title\":{\"standoff\":15},\"zerolinecolor\":\"#283442\",\"zerolinewidth\":2},\"yaxis\":{\"automargin\":true,\"gridcolor\":\"#283442\",\"linecolor\":\"#506784\",\"ticks\":\"\",\"title\":{\"standoff\":15},\"zerolinecolor\":\"#283442\",\"zerolinewidth\":2}}},\"xaxis\":{\"anchor\":\"y\",\"domain\":[0.0,1.0],\"title\":{\"text\":\"Experiment 1 Score\"}},\"yaxis\":{\"anchor\":\"x\",\"domain\":[0.0,1.0],\"title\":{\"text\":\"Count\"}},\"title\":{\"text\":\"Histogram for each experiments\"}},                        {\"responsive\": true}                    ).then(function(){\n",
              "                            \n",
              "var gd = document.getElementById('37cf2f29-4995-4384-82b9-d164b093658e');\n",
              "var x = new MutationObserver(function (mutations, observer) {{\n",
              "        var display = window.getComputedStyle(gd).display;\n",
              "        if (!display || display === 'none') {{\n",
              "            console.log([gd, 'removed!']);\n",
              "            Plotly.purge(gd);\n",
              "            observer.disconnect();\n",
              "        }}\n",
              "}});\n",
              "\n",
              "// Listen for the removal of the full notebook cells\n",
              "var notebookContainer = gd.closest('#notebook-container');\n",
              "if (notebookContainer) {{\n",
              "    x.observe(notebookContainer, {childList: true});\n",
              "}}\n",
              "\n",
              "// Listen for the clearing of the current output cell\n",
              "var outputEl = gd.closest('.output');\n",
              "if (outputEl) {{\n",
              "    x.observe(outputEl, {childList: true});\n",
              "}}\n",
              "\n",
              "                        })                };                            </script>        </div>\n",
              "</body>\n",
              "</html>"
            ]
          },
          "metadata": {}
        }
      ]
    }
  ]
}