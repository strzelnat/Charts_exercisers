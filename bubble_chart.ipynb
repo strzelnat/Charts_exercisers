{
  "nbformat": 4,
  "nbformat_minor": 0,
  "metadata": {
    "colab": {
      "provenance": [],
      "authorship_tag": "ABX9TyOt4KL//kP42E5gfq3Qywe3",
      "include_colab_link": true
    },
    "kernelspec": {
      "name": "python3",
      "display_name": "Python 3"
    },
    "language_info": {
      "name": "python"
    }
  },
  "cells": [
    {
      "cell_type": "markdown",
      "metadata": {
        "id": "view-in-github",
        "colab_type": "text"
      },
      "source": [
        "<a href=\"https://colab.research.google.com/github/strzelnat/Charts_exercisers/blob/main/bubble_chart.ipynb\" target=\"_parent\"><img src=\"https://colab.research.google.com/assets/colab-badge.svg\" alt=\"Open In Colab\"/></a>"
      ]
    },
    {
      "cell_type": "code",
      "execution_count": null,
      "metadata": {
        "colab": {
          "base_uri": "https://localhost:8080/"
        },
        "id": "ZLclm-9RaywF",
        "outputId": "cf9a0d21-05f9-457b-fd10-3a43b7482f24"
      },
      "outputs": [
        {
          "output_type": "stream",
          "name": "stdout",
          "text": [
            "Requirement already satisfied: plotly in /usr/local/lib/python3.11/dist-packages (5.24.1)\n",
            "Requirement already satisfied: tenacity>=6.2.0 in /usr/local/lib/python3.11/dist-packages (from plotly) (8.5.0)\n",
            "Requirement already satisfied: packaging in /usr/local/lib/python3.11/dist-packages (from plotly) (24.2)\n"
          ]
        }
      ],
      "source": [
        "!pip install plotly"
      ]
    },
    {
      "cell_type": "code",
      "source": [
        "import plotly as plt\n",
        "import pandas as pd\n",
        "import numpy as np\n",
        "import math\n",
        "import plotly.express as px\n",
        "\n",
        "plt.__version__"
      ],
      "metadata": {
        "colab": {
          "base_uri": "https://localhost:8080/",
          "height": 36
        },
        "id": "kIajFEQvbZ_0",
        "outputId": "780a0e61-8d6c-4a43-b410-d434cefbf6bd"
      },
      "execution_count": null,
      "outputs": [
        {
          "output_type": "execute_result",
          "data": {
            "text/plain": [
              "'5.24.1'"
            ],
            "application/vnd.google.colaboratory.intrinsic+json": {
              "type": "string"
            }
          },
          "metadata": {},
          "execution_count": 15
        }
      ]
    },
    {
      "cell_type": "code",
      "source": [
        "pd.__version__"
      ],
      "metadata": {
        "colab": {
          "base_uri": "https://localhost:8080/",
          "height": 36
        },
        "id": "lmezJtbbbsbm",
        "outputId": "2ec8ae9b-9fb9-4eea-a649-ffd62d8256a3"
      },
      "execution_count": null,
      "outputs": [
        {
          "output_type": "execute_result",
          "data": {
            "text/plain": [
              "'2.2.2'"
            ],
            "application/vnd.google.colaboratory.intrinsic+json": {
              "type": "string"
            }
          },
          "metadata": {},
          "execution_count": 5
        }
      ]
    },
    {
      "cell_type": "code",
      "source": [
        "np.__version__"
      ],
      "metadata": {
        "colab": {
          "base_uri": "https://localhost:8080/",
          "height": 36
        },
        "id": "2X5EneQub46j",
        "outputId": "0578d0b4-adde-459f-ae4a-ee78f03080a8"
      },
      "execution_count": null,
      "outputs": [
        {
          "output_type": "execute_result",
          "data": {
            "text/plain": [
              "'2.0.2'"
            ],
            "application/vnd.google.colaboratory.intrinsic+json": {
              "type": "string"
            }
          },
          "metadata": {},
          "execution_count": 6
        }
      ]
    },
    {
      "cell_type": "code",
      "source": [
        "import plotly.graph_objects as go"
      ],
      "metadata": {
        "id": "nlCfmtbwccXT"
      },
      "execution_count": null,
      "outputs": []
    },
    {
      "cell_type": "code",
      "source": [
        " x = [1.3, 2.4, 1.2, 6.7, 3.4, 2, 2.22, 1.4, 2.6]"
      ],
      "metadata": {
        "id": "WZgLgGNWgf3i"
      },
      "execution_count": null,
      "outputs": []
    },
    {
      "cell_type": "code",
      "source": [
        "\n",
        "fig = go.Figure(\n",
        "    data = [\n",
        "        go.Scatter(\n",
        "            x.sort(),\n",
        "            y = [1.2, 2.3, 4.1, 6, 3.4, 2, 2.22, 1.41, 2.1],\n",
        "            mode = 'markers',\n",
        "            marker =  dict(\n",
        "                color = [190, 200, 210, 220, 230, 240, 250, 260, 270],\n",
        "                size = [5, 10, 15, 20, 25, 30, 35],\n",
        "                showscale = True\n",
        "            )\n",
        "        )\n",
        "    ]\n",
        ")\n",
        "fig.show()"
      ],
      "metadata": {
        "colab": {
          "base_uri": "https://localhost:8080/",
          "height": 542
        },
        "id": "i3IAoTr2ceVi",
        "outputId": "8b9d8980-0791-433a-ebb9-6627764b7450"
      },
      "execution_count": null,
      "outputs": [
        {
          "output_type": "display_data",
          "data": {
            "text/html": [
              "<html>\n",
              "<head><meta charset=\"utf-8\" /></head>\n",
              "<body>\n",
              "    <div>            <script src=\"https://cdnjs.cloudflare.com/ajax/libs/mathjax/2.7.5/MathJax.js?config=TeX-AMS-MML_SVG\"></script><script type=\"text/javascript\">if (window.MathJax && window.MathJax.Hub && window.MathJax.Hub.Config) {window.MathJax.Hub.Config({SVG: {font: \"STIX-Web\"}});}</script>                <script type=\"text/javascript\">window.PlotlyConfig = {MathJaxConfig: 'local'};</script>\n",
              "        <script charset=\"utf-8\" src=\"https://cdn.plot.ly/plotly-2.35.2.min.js\"></script>                <div id=\"75b07d99-c1f9-41e7-b890-e45d42622f29\" class=\"plotly-graph-div\" style=\"height:525px; width:100%;\"></div>            <script type=\"text/javascript\">                                    window.PLOTLYENV=window.PLOTLYENV || {};                                    if (document.getElementById(\"75b07d99-c1f9-41e7-b890-e45d42622f29\")) {                    Plotly.newPlot(                        \"75b07d99-c1f9-41e7-b890-e45d42622f29\",                        [{\"marker\":{\"color\":[190,200,210,220,230,240,250,260,270],\"showscale\":true,\"size\":[5,10,15,20,25,30,35]},\"mode\":\"markers\",\"y\":[1.2,2.3,4.1,6,3.4,2,2.22,1.41,2.1],\"type\":\"scatter\"}],                        {\"template\":{\"data\":{\"histogram2dcontour\":[{\"type\":\"histogram2dcontour\",\"colorbar\":{\"outlinewidth\":0,\"ticks\":\"\"},\"colorscale\":[[0.0,\"#0d0887\"],[0.1111111111111111,\"#46039f\"],[0.2222222222222222,\"#7201a8\"],[0.3333333333333333,\"#9c179e\"],[0.4444444444444444,\"#bd3786\"],[0.5555555555555556,\"#d8576b\"],[0.6666666666666666,\"#ed7953\"],[0.7777777777777778,\"#fb9f3a\"],[0.8888888888888888,\"#fdca26\"],[1.0,\"#f0f921\"]]}],\"choropleth\":[{\"type\":\"choropleth\",\"colorbar\":{\"outlinewidth\":0,\"ticks\":\"\"}}],\"histogram2d\":[{\"type\":\"histogram2d\",\"colorbar\":{\"outlinewidth\":0,\"ticks\":\"\"},\"colorscale\":[[0.0,\"#0d0887\"],[0.1111111111111111,\"#46039f\"],[0.2222222222222222,\"#7201a8\"],[0.3333333333333333,\"#9c179e\"],[0.4444444444444444,\"#bd3786\"],[0.5555555555555556,\"#d8576b\"],[0.6666666666666666,\"#ed7953\"],[0.7777777777777778,\"#fb9f3a\"],[0.8888888888888888,\"#fdca26\"],[1.0,\"#f0f921\"]]}],\"heatmap\":[{\"type\":\"heatmap\",\"colorbar\":{\"outlinewidth\":0,\"ticks\":\"\"},\"colorscale\":[[0.0,\"#0d0887\"],[0.1111111111111111,\"#46039f\"],[0.2222222222222222,\"#7201a8\"],[0.3333333333333333,\"#9c179e\"],[0.4444444444444444,\"#bd3786\"],[0.5555555555555556,\"#d8576b\"],[0.6666666666666666,\"#ed7953\"],[0.7777777777777778,\"#fb9f3a\"],[0.8888888888888888,\"#fdca26\"],[1.0,\"#f0f921\"]]}],\"heatmapgl\":[{\"type\":\"heatmapgl\",\"colorbar\":{\"outlinewidth\":0,\"ticks\":\"\"},\"colorscale\":[[0.0,\"#0d0887\"],[0.1111111111111111,\"#46039f\"],[0.2222222222222222,\"#7201a8\"],[0.3333333333333333,\"#9c179e\"],[0.4444444444444444,\"#bd3786\"],[0.5555555555555556,\"#d8576b\"],[0.6666666666666666,\"#ed7953\"],[0.7777777777777778,\"#fb9f3a\"],[0.8888888888888888,\"#fdca26\"],[1.0,\"#f0f921\"]]}],\"contourcarpet\":[{\"type\":\"contourcarpet\",\"colorbar\":{\"outlinewidth\":0,\"ticks\":\"\"}}],\"contour\":[{\"type\":\"contour\",\"colorbar\":{\"outlinewidth\":0,\"ticks\":\"\"},\"colorscale\":[[0.0,\"#0d0887\"],[0.1111111111111111,\"#46039f\"],[0.2222222222222222,\"#7201a8\"],[0.3333333333333333,\"#9c179e\"],[0.4444444444444444,\"#bd3786\"],[0.5555555555555556,\"#d8576b\"],[0.6666666666666666,\"#ed7953\"],[0.7777777777777778,\"#fb9f3a\"],[0.8888888888888888,\"#fdca26\"],[1.0,\"#f0f921\"]]}],\"surface\":[{\"type\":\"surface\",\"colorbar\":{\"outlinewidth\":0,\"ticks\":\"\"},\"colorscale\":[[0.0,\"#0d0887\"],[0.1111111111111111,\"#46039f\"],[0.2222222222222222,\"#7201a8\"],[0.3333333333333333,\"#9c179e\"],[0.4444444444444444,\"#bd3786\"],[0.5555555555555556,\"#d8576b\"],[0.6666666666666666,\"#ed7953\"],[0.7777777777777778,\"#fb9f3a\"],[0.8888888888888888,\"#fdca26\"],[1.0,\"#f0f921\"]]}],\"mesh3d\":[{\"type\":\"mesh3d\",\"colorbar\":{\"outlinewidth\":0,\"ticks\":\"\"}}],\"scatter\":[{\"fillpattern\":{\"fillmode\":\"overlay\",\"size\":10,\"solidity\":0.2},\"type\":\"scatter\"}],\"parcoords\":[{\"type\":\"parcoords\",\"line\":{\"colorbar\":{\"outlinewidth\":0,\"ticks\":\"\"}}}],\"scatterpolargl\":[{\"type\":\"scatterpolargl\",\"marker\":{\"colorbar\":{\"outlinewidth\":0,\"ticks\":\"\"}}}],\"bar\":[{\"error_x\":{\"color\":\"#2a3f5f\"},\"error_y\":{\"color\":\"#2a3f5f\"},\"marker\":{\"line\":{\"color\":\"#E5ECF6\",\"width\":0.5},\"pattern\":{\"fillmode\":\"overlay\",\"size\":10,\"solidity\":0.2}},\"type\":\"bar\"}],\"scattergeo\":[{\"type\":\"scattergeo\",\"marker\":{\"colorbar\":{\"outlinewidth\":0,\"ticks\":\"\"}}}],\"scatterpolar\":[{\"type\":\"scatterpolar\",\"marker\":{\"colorbar\":{\"outlinewidth\":0,\"ticks\":\"\"}}}],\"histogram\":[{\"marker\":{\"pattern\":{\"fillmode\":\"overlay\",\"size\":10,\"solidity\":0.2}},\"type\":\"histogram\"}],\"scattergl\":[{\"type\":\"scattergl\",\"marker\":{\"colorbar\":{\"outlinewidth\":0,\"ticks\":\"\"}}}],\"scatter3d\":[{\"type\":\"scatter3d\",\"line\":{\"colorbar\":{\"outlinewidth\":0,\"ticks\":\"\"}},\"marker\":{\"colorbar\":{\"outlinewidth\":0,\"ticks\":\"\"}}}],\"scattermapbox\":[{\"type\":\"scattermapbox\",\"marker\":{\"colorbar\":{\"outlinewidth\":0,\"ticks\":\"\"}}}],\"scatterternary\":[{\"type\":\"scatterternary\",\"marker\":{\"colorbar\":{\"outlinewidth\":0,\"ticks\":\"\"}}}],\"scattercarpet\":[{\"type\":\"scattercarpet\",\"marker\":{\"colorbar\":{\"outlinewidth\":0,\"ticks\":\"\"}}}],\"carpet\":[{\"aaxis\":{\"endlinecolor\":\"#2a3f5f\",\"gridcolor\":\"white\",\"linecolor\":\"white\",\"minorgridcolor\":\"white\",\"startlinecolor\":\"#2a3f5f\"},\"baxis\":{\"endlinecolor\":\"#2a3f5f\",\"gridcolor\":\"white\",\"linecolor\":\"white\",\"minorgridcolor\":\"white\",\"startlinecolor\":\"#2a3f5f\"},\"type\":\"carpet\"}],\"table\":[{\"cells\":{\"fill\":{\"color\":\"#EBF0F8\"},\"line\":{\"color\":\"white\"}},\"header\":{\"fill\":{\"color\":\"#C8D4E3\"},\"line\":{\"color\":\"white\"}},\"type\":\"table\"}],\"barpolar\":[{\"marker\":{\"line\":{\"color\":\"#E5ECF6\",\"width\":0.5},\"pattern\":{\"fillmode\":\"overlay\",\"size\":10,\"solidity\":0.2}},\"type\":\"barpolar\"}],\"pie\":[{\"automargin\":true,\"type\":\"pie\"}]},\"layout\":{\"autotypenumbers\":\"strict\",\"colorway\":[\"#636efa\",\"#EF553B\",\"#00cc96\",\"#ab63fa\",\"#FFA15A\",\"#19d3f3\",\"#FF6692\",\"#B6E880\",\"#FF97FF\",\"#FECB52\"],\"font\":{\"color\":\"#2a3f5f\"},\"hovermode\":\"closest\",\"hoverlabel\":{\"align\":\"left\"},\"paper_bgcolor\":\"white\",\"plot_bgcolor\":\"#E5ECF6\",\"polar\":{\"bgcolor\":\"#E5ECF6\",\"angularaxis\":{\"gridcolor\":\"white\",\"linecolor\":\"white\",\"ticks\":\"\"},\"radialaxis\":{\"gridcolor\":\"white\",\"linecolor\":\"white\",\"ticks\":\"\"}},\"ternary\":{\"bgcolor\":\"#E5ECF6\",\"aaxis\":{\"gridcolor\":\"white\",\"linecolor\":\"white\",\"ticks\":\"\"},\"baxis\":{\"gridcolor\":\"white\",\"linecolor\":\"white\",\"ticks\":\"\"},\"caxis\":{\"gridcolor\":\"white\",\"linecolor\":\"white\",\"ticks\":\"\"}},\"coloraxis\":{\"colorbar\":{\"outlinewidth\":0,\"ticks\":\"\"}},\"colorscale\":{\"sequential\":[[0.0,\"#0d0887\"],[0.1111111111111111,\"#46039f\"],[0.2222222222222222,\"#7201a8\"],[0.3333333333333333,\"#9c179e\"],[0.4444444444444444,\"#bd3786\"],[0.5555555555555556,\"#d8576b\"],[0.6666666666666666,\"#ed7953\"],[0.7777777777777778,\"#fb9f3a\"],[0.8888888888888888,\"#fdca26\"],[1.0,\"#f0f921\"]],\"sequentialminus\":[[0.0,\"#0d0887\"],[0.1111111111111111,\"#46039f\"],[0.2222222222222222,\"#7201a8\"],[0.3333333333333333,\"#9c179e\"],[0.4444444444444444,\"#bd3786\"],[0.5555555555555556,\"#d8576b\"],[0.6666666666666666,\"#ed7953\"],[0.7777777777777778,\"#fb9f3a\"],[0.8888888888888888,\"#fdca26\"],[1.0,\"#f0f921\"]],\"diverging\":[[0,\"#8e0152\"],[0.1,\"#c51b7d\"],[0.2,\"#de77ae\"],[0.3,\"#f1b6da\"],[0.4,\"#fde0ef\"],[0.5,\"#f7f7f7\"],[0.6,\"#e6f5d0\"],[0.7,\"#b8e186\"],[0.8,\"#7fbc41\"],[0.9,\"#4d9221\"],[1,\"#276419\"]]},\"xaxis\":{\"gridcolor\":\"white\",\"linecolor\":\"white\",\"ticks\":\"\",\"title\":{\"standoff\":15},\"zerolinecolor\":\"white\",\"automargin\":true,\"zerolinewidth\":2},\"yaxis\":{\"gridcolor\":\"white\",\"linecolor\":\"white\",\"ticks\":\"\",\"title\":{\"standoff\":15},\"zerolinecolor\":\"white\",\"automargin\":true,\"zerolinewidth\":2},\"scene\":{\"xaxis\":{\"backgroundcolor\":\"#E5ECF6\",\"gridcolor\":\"white\",\"linecolor\":\"white\",\"showbackground\":true,\"ticks\":\"\",\"zerolinecolor\":\"white\",\"gridwidth\":2},\"yaxis\":{\"backgroundcolor\":\"#E5ECF6\",\"gridcolor\":\"white\",\"linecolor\":\"white\",\"showbackground\":true,\"ticks\":\"\",\"zerolinecolor\":\"white\",\"gridwidth\":2},\"zaxis\":{\"backgroundcolor\":\"#E5ECF6\",\"gridcolor\":\"white\",\"linecolor\":\"white\",\"showbackground\":true,\"ticks\":\"\",\"zerolinecolor\":\"white\",\"gridwidth\":2}},\"shapedefaults\":{\"line\":{\"color\":\"#2a3f5f\"}},\"annotationdefaults\":{\"arrowcolor\":\"#2a3f5f\",\"arrowhead\":0,\"arrowwidth\":1},\"geo\":{\"bgcolor\":\"white\",\"landcolor\":\"#E5ECF6\",\"subunitcolor\":\"white\",\"showland\":true,\"showlakes\":true,\"lakecolor\":\"white\"},\"title\":{\"x\":0.05},\"mapbox\":{\"style\":\"light\"}}}},                        {\"responsive\": true}                    ).then(function(){\n",
              "                            \n",
              "var gd = document.getElementById('75b07d99-c1f9-41e7-b890-e45d42622f29');\n",
              "var x = new MutationObserver(function (mutations, observer) {{\n",
              "        var display = window.getComputedStyle(gd).display;\n",
              "        if (!display || display === 'none') {{\n",
              "            console.log([gd, 'removed!']);\n",
              "            Plotly.purge(gd);\n",
              "            observer.disconnect();\n",
              "        }}\n",
              "}});\n",
              "\n",
              "// Listen for the removal of the full notebook cells\n",
              "var notebookContainer = gd.closest('#notebook-container');\n",
              "if (notebookContainer) {{\n",
              "    x.observe(notebookContainer, {childList: true});\n",
              "}}\n",
              "\n",
              "// Listen for the clearing of the current output cell\n",
              "var outputEl = gd.closest('.output');\n",
              "if (outputEl) {{\n",
              "    x.observe(outputEl, {childList: true});\n",
              "}}\n",
              "\n",
              "                        })                };                            </script>        </div>\n",
              "</body>\n",
              "</html>"
            ]
          },
          "metadata": {}
        }
      ]
    },
    {
      "cell_type": "code",
      "source": [
        "data = px.data.gapminder()\n",
        "data.head()\n",
        "\n",
        "data2007 = data.query('year == 2007')\n",
        "data2007 = data2007.sort_values(['continent','country'])\n",
        "data2007.tail()\n",
        "\n",
        "hover = []\n",
        "bubble = []\n",
        "\n",
        "\n",
        "for index, row in data2007.iterrows():\n",
        "    hover.append(('Country: {country}<br>'+\n",
        "                      'Life Expectancy: {lifeExp}<br>'+\n",
        "                      'GDP per capita: {gdp}<br>'+\n",
        "                      'Population: {pop}<br>'+\n",
        "                      'Year: {year}').format(country=row['country'],\n",
        "                                            lifeExp=row['lifeExp'],\n",
        "                                            gdp=row['gdpPercap'],\n",
        "                                            pop=row['pop'],\n",
        "                                            year=row['year']))\n",
        "    bubble.append(math.sqrt(row['pop']))\n",
        "\n",
        "\n",
        "data2007['text'] = hover\n",
        "data2007['size'] = bubble\n",
        "sizeref = 2.*max(data2007['size'])/(100**2)\n",
        "\n",
        "# Dictionary with dataframes for each elements\n",
        "continent_names = [ 'Asia', 'Europe', 'Oceania','Africa', 'Americas']\n",
        "\n",
        "continent_data = {con:data2007.query(\"continent == '%s'\" %con)\n",
        "                              for con in continent_names}\n",
        "\n",
        "\n",
        "fig = go.Figure()\n",
        "for nc, info in continent_data.items():\n",
        "  fig.add_trace(\n",
        "      go.Scatter(\n",
        "          x = info['gdpPercap'],\n",
        "          y = info['lifeExp'],\n",
        "          name = nc,\n",
        "          text = info['text'],\n",
        "          marker_size = info['size']\n",
        "      )\n",
        "  )\n",
        "fig.update_traces(mode='markers', marker=dict(sizemode='area',\n",
        "                                              sizeref=sizeref, line_width=2))\n",
        "\n",
        "fig.update_layout(\n",
        "    title=dict(text='Life Expectancy v. Per Capita GDP, 2007'),\n",
        "    xaxis=dict(\n",
        "        title=dict(text='GDP per capita (2000 dollars)'),\n",
        "        gridcolor='white',\n",
        "        type='log',\n",
        "        gridwidth=2,\n",
        "    ),\n",
        "    yaxis=dict(\n",
        "        title=dict(text='Life Expectancy (years)'),\n",
        "        gridcolor='white',\n",
        "        gridwidth=2,\n",
        "    ),\n",
        "    paper_bgcolor='rgb(243, 243, 243)',\n",
        "    plot_bgcolor='rgb(243, 243, 243)',\n",
        ")\n",
        "fig.show()"
      ],
      "metadata": {
        "colab": {
          "base_uri": "https://localhost:8080/",
          "height": 542
        },
        "id": "oX-FZdOpgSHc",
        "outputId": "6522859a-c246-4395-8f37-085f1ddeb432"
      },
      "execution_count": null,
      "outputs": [
        {
          "output_type": "display_data",
          "data": {
            "text/html": [
              "<html>\n",
              "<head><meta charset=\"utf-8\" /></head>\n",
              "<body>\n",
              "    <div>            <script src=\"https://cdnjs.cloudflare.com/ajax/libs/mathjax/2.7.5/MathJax.js?config=TeX-AMS-MML_SVG\"></script><script type=\"text/javascript\">if (window.MathJax && window.MathJax.Hub && window.MathJax.Hub.Config) {window.MathJax.Hub.Config({SVG: {font: \"STIX-Web\"}});}</script>                <script type=\"text/javascript\">window.PlotlyConfig = {MathJaxConfig: 'local'};</script>\n",
              "        <script charset=\"utf-8\" src=\"https://cdn.plot.ly/plotly-2.35.2.min.js\"></script>                <div id=\"0ffc214a-7946-4c30-832f-2efbcf818f7f\" class=\"plotly-graph-div\" style=\"height:525px; width:100%;\"></div>            <script type=\"text/javascript\">                                    window.PLOTLYENV=window.PLOTLYENV || {};                                    if (document.getElementById(\"0ffc214a-7946-4c30-832f-2efbcf818f7f\")) {                    Plotly.newPlot(                        \"0ffc214a-7946-4c30-832f-2efbcf818f7f\",                        [{\"marker\":{\"size\":[5647.116343763426,841.7677827049453,12265.738420494707,3759.236358623916,36313.67643188996,2642.046933723926,33322.609906788515,14951.48822024082,8333.880848680283,5244.009725391439,2535.089544769573,11290.171477882875,2460.323759182925,4827.186033291031,7003.1985549461615,1582.8957640981923,1980.2217047593433,4982.096546635764,1695.3250425803308,6911.004268556054,5376.038504326397,1790.2226118558551,13010.404182806928,9543.442093919783,5253.6690036583,2133.778104677241,4514.226290296046,4394.854605103564,4813.968633051113,8066.483062648802,9233.761746980479,2004.5777610259972,4712.933587480307],\"line\":{\"width\":2},\"sizemode\":\"area\",\"sizeref\":7.262735286377992},\"name\":\"Asia\",\"text\":[\"Country: Afghanistan\\u003cbr\\u003eLife Expectancy: 43.828\\u003cbr\\u003eGDP per capita: 974.5803384\\u003cbr\\u003ePopulation: 31889923\\u003cbr\\u003eYear: 2007\",\"Country: Bahrain\\u003cbr\\u003eLife Expectancy: 75.635\\u003cbr\\u003eGDP per capita: 29796.04834\\u003cbr\\u003ePopulation: 708573\\u003cbr\\u003eYear: 2007\",\"Country: Bangladesh\\u003cbr\\u003eLife Expectancy: 64.062\\u003cbr\\u003eGDP per capita: 1391.253792\\u003cbr\\u003ePopulation: 150448339\\u003cbr\\u003eYear: 2007\",\"Country: Cambodia\\u003cbr\\u003eLife Expectancy: 59.723\\u003cbr\\u003eGDP per capita: 1713.778686\\u003cbr\\u003ePopulation: 14131858\\u003cbr\\u003eYear: 2007\",\"Country: China\\u003cbr\\u003eLife Expectancy: 72.961\\u003cbr\\u003eGDP per capita: 4959.114854\\u003cbr\\u003ePopulation: 1318683096\\u003cbr\\u003eYear: 2007\",\"Country: Hong Kong, China\\u003cbr\\u003eLife Expectancy: 82.208\\u003cbr\\u003eGDP per capita: 39724.97867\\u003cbr\\u003ePopulation: 6980412\\u003cbr\\u003eYear: 2007\",\"Country: India\\u003cbr\\u003eLife Expectancy: 64.69800000000001\\u003cbr\\u003eGDP per capita: 2452.210407\\u003cbr\\u003ePopulation: 1110396331\\u003cbr\\u003eYear: 2007\",\"Country: Indonesia\\u003cbr\\u003eLife Expectancy: 70.65\\u003cbr\\u003eGDP per capita: 3540.651564\\u003cbr\\u003ePopulation: 223547000\\u003cbr\\u003eYear: 2007\",\"Country: Iran\\u003cbr\\u003eLife Expectancy: 70.964\\u003cbr\\u003eGDP per capita: 11605.71449\\u003cbr\\u003ePopulation: 69453570\\u003cbr\\u003eYear: 2007\",\"Country: Iraq\\u003cbr\\u003eLife Expectancy: 59.545\\u003cbr\\u003eGDP per capita: 4471.061906\\u003cbr\\u003ePopulation: 27499638\\u003cbr\\u003eYear: 2007\",\"Country: Israel\\u003cbr\\u003eLife Expectancy: 80.745\\u003cbr\\u003eGDP per capita: 25523.2771\\u003cbr\\u003ePopulation: 6426679\\u003cbr\\u003eYear: 2007\",\"Country: Japan\\u003cbr\\u003eLife Expectancy: 82.603\\u003cbr\\u003eGDP per capita: 31656.06806\\u003cbr\\u003ePopulation: 127467972\\u003cbr\\u003eYear: 2007\",\"Country: Jordan\\u003cbr\\u003eLife Expectancy: 72.535\\u003cbr\\u003eGDP per capita: 4519.461171\\u003cbr\\u003ePopulation: 6053193\\u003cbr\\u003eYear: 2007\",\"Country: Korea, Dem. Rep.\\u003cbr\\u003eLife Expectancy: 67.297\\u003cbr\\u003eGDP per capita: 1593.06548\\u003cbr\\u003ePopulation: 23301725\\u003cbr\\u003eYear: 2007\",\"Country: Korea, Rep.\\u003cbr\\u003eLife Expectancy: 78.623\\u003cbr\\u003eGDP per capita: 23348.139730000006\\u003cbr\\u003ePopulation: 49044790\\u003cbr\\u003eYear: 2007\",\"Country: Kuwait\\u003cbr\\u003eLife Expectancy: 77.58800000000002\\u003cbr\\u003eGDP per capita: 47306.98978\\u003cbr\\u003ePopulation: 2505559\\u003cbr\\u003eYear: 2007\",\"Country: Lebanon\\u003cbr\\u003eLife Expectancy: 71.993\\u003cbr\\u003eGDP per capita: 10461.05868\\u003cbr\\u003ePopulation: 3921278\\u003cbr\\u003eYear: 2007\",\"Country: Malaysia\\u003cbr\\u003eLife Expectancy: 74.241\\u003cbr\\u003eGDP per capita: 12451.6558\\u003cbr\\u003ePopulation: 24821286\\u003cbr\\u003eYear: 2007\",\"Country: Mongolia\\u003cbr\\u003eLife Expectancy: 66.803\\u003cbr\\u003eGDP per capita: 3095.7722710000007\\u003cbr\\u003ePopulation: 2874127\\u003cbr\\u003eYear: 2007\",\"Country: Myanmar\\u003cbr\\u003eLife Expectancy: 62.069\\u003cbr\\u003eGDP per capita: 944.0\\u003cbr\\u003ePopulation: 47761980\\u003cbr\\u003eYear: 2007\",\"Country: Nepal\\u003cbr\\u003eLife Expectancy: 63.785\\u003cbr\\u003eGDP per capita: 1091.359778\\u003cbr\\u003ePopulation: 28901790\\u003cbr\\u003eYear: 2007\",\"Country: Oman\\u003cbr\\u003eLife Expectancy: 75.64\\u003cbr\\u003eGDP per capita: 22316.19287\\u003cbr\\u003ePopulation: 3204897\\u003cbr\\u003eYear: 2007\",\"Country: Pakistan\\u003cbr\\u003eLife Expectancy: 65.483\\u003cbr\\u003eGDP per capita: 2605.94758\\u003cbr\\u003ePopulation: 169270617\\u003cbr\\u003eYear: 2007\",\"Country: Philippines\\u003cbr\\u003eLife Expectancy: 71.688\\u003cbr\\u003eGDP per capita: 3190.481016\\u003cbr\\u003ePopulation: 91077287\\u003cbr\\u003eYear: 2007\",\"Country: Saudi Arabia\\u003cbr\\u003eLife Expectancy: 72.777\\u003cbr\\u003eGDP per capita: 21654.83194\\u003cbr\\u003ePopulation: 27601038\\u003cbr\\u003eYear: 2007\",\"Country: Singapore\\u003cbr\\u003eLife Expectancy: 79.972\\u003cbr\\u003eGDP per capita: 47143.17964\\u003cbr\\u003ePopulation: 4553009\\u003cbr\\u003eYear: 2007\",\"Country: Sri Lanka\\u003cbr\\u003eLife Expectancy: 72.396\\u003cbr\\u003eGDP per capita: 3970.095407\\u003cbr\\u003ePopulation: 20378239\\u003cbr\\u003eYear: 2007\",\"Country: Syria\\u003cbr\\u003eLife Expectancy: 74.143\\u003cbr\\u003eGDP per capita: 4184.548089\\u003cbr\\u003ePopulation: 19314747\\u003cbr\\u003eYear: 2007\",\"Country: Taiwan\\u003cbr\\u003eLife Expectancy: 78.4\\u003cbr\\u003eGDP per capita: 28718.27684\\u003cbr\\u003ePopulation: 23174294\\u003cbr\\u003eYear: 2007\",\"Country: Thailand\\u003cbr\\u003eLife Expectancy: 70.616\\u003cbr\\u003eGDP per capita: 7458.396326999998\\u003cbr\\u003ePopulation: 65068149\\u003cbr\\u003eYear: 2007\",\"Country: Vietnam\\u003cbr\\u003eLife Expectancy: 74.249\\u003cbr\\u003eGDP per capita: 2441.576404\\u003cbr\\u003ePopulation: 85262356\\u003cbr\\u003eYear: 2007\",\"Country: West Bank and Gaza\\u003cbr\\u003eLife Expectancy: 73.422\\u003cbr\\u003eGDP per capita: 3025.349798\\u003cbr\\u003ePopulation: 4018332\\u003cbr\\u003eYear: 2007\",\"Country: Yemen, Rep.\\u003cbr\\u003eLife Expectancy: 62.698\\u003cbr\\u003eGDP per capita: 2280.769906\\u003cbr\\u003ePopulation: 22211743\\u003cbr\\u003eYear: 2007\"],\"x\":[974.5803384,29796.04834,1391.253792,1713.778686,4959.114854,39724.97867,2452.210407,3540.651564,11605.71449,4471.061906,25523.2771,31656.06806,4519.461171,1593.06548,23348.139730000006,47306.98978,10461.05868,12451.6558,3095.7722710000007,944.0,1091.359778,22316.19287,2605.94758,3190.481016,21654.83194,47143.17964,3970.095407,4184.548089,28718.27684,7458.396326999998,2441.576404,3025.349798,2280.769906],\"y\":[43.828,75.635,64.062,59.723,72.961,82.208,64.69800000000001,70.65,70.964,59.545,80.745,82.603,72.535,67.297,78.623,77.58800000000002,71.993,74.241,66.803,62.069,63.785,75.64,65.483,71.688,72.777,79.972,72.396,74.143,78.4,70.616,74.249,73.422,62.698],\"type\":\"scatter\",\"mode\":\"markers\"},{\"marker\":{\"size\":[1897.5044136971064,2863.5263225610483,3223.6975664599804,2133.5880577093603,2706.077973747246,2119.743380694937,3198.24076642144,2338.401163188216,2288.768227671819,7815.620000998001,9077.499435417223,3272.0467600570746,3155.330093666905,549.4824837972544,2027.0880592613632,7625.4660841157765,827.487764259992,4070.701782248363,2151.2614903818644,6206.30655059835,3262.3359728881387,4719.751688383617,3185.9480535627067,2333.9884318479385,1417.4783948970792,6359.8892285951015,3005.1768666752378,2748.574357735297,8435.55848773512,7795.911620843325],\"line\":{\"width\":2},\"sizemode\":\"area\",\"sizeref\":7.262735286377992},\"name\":\"Europe\",\"text\":[\"Country: Albania\\u003cbr\\u003eLife Expectancy: 76.423\\u003cbr\\u003eGDP per capita: 5937.029525999998\\u003cbr\\u003ePopulation: 3600523\\u003cbr\\u003eYear: 2007\",\"Country: Austria\\u003cbr\\u003eLife Expectancy: 79.829\\u003cbr\\u003eGDP per capita: 36126.4927\\u003cbr\\u003ePopulation: 8199783\\u003cbr\\u003eYear: 2007\",\"Country: Belgium\\u003cbr\\u003eLife Expectancy: 79.441\\u003cbr\\u003eGDP per capita: 33692.60508\\u003cbr\\u003ePopulation: 10392226\\u003cbr\\u003eYear: 2007\",\"Country: Bosnia and Herzegovina\\u003cbr\\u003eLife Expectancy: 74.852\\u003cbr\\u003eGDP per capita: 7446.298803\\u003cbr\\u003ePopulation: 4552198\\u003cbr\\u003eYear: 2007\",\"Country: Bulgaria\\u003cbr\\u003eLife Expectancy: 73.005\\u003cbr\\u003eGDP per capita: 10680.79282\\u003cbr\\u003ePopulation: 7322858\\u003cbr\\u003eYear: 2007\",\"Country: Croatia\\u003cbr\\u003eLife Expectancy: 75.748\\u003cbr\\u003eGDP per capita: 14619.222719999998\\u003cbr\\u003ePopulation: 4493312\\u003cbr\\u003eYear: 2007\",\"Country: Czech Republic\\u003cbr\\u003eLife Expectancy: 76.486\\u003cbr\\u003eGDP per capita: 22833.30851\\u003cbr\\u003ePopulation: 10228744\\u003cbr\\u003eYear: 2007\",\"Country: Denmark\\u003cbr\\u003eLife Expectancy: 78.332\\u003cbr\\u003eGDP per capita: 35278.41874\\u003cbr\\u003ePopulation: 5468120\\u003cbr\\u003eYear: 2007\",\"Country: Finland\\u003cbr\\u003eLife Expectancy: 79.313\\u003cbr\\u003eGDP per capita: 33207.0844\\u003cbr\\u003ePopulation: 5238460\\u003cbr\\u003eYear: 2007\",\"Country: France\\u003cbr\\u003eLife Expectancy: 80.657\\u003cbr\\u003eGDP per capita: 30470.0167\\u003cbr\\u003ePopulation: 61083916\\u003cbr\\u003eYear: 2007\",\"Country: Germany\\u003cbr\\u003eLife Expectancy: 79.406\\u003cbr\\u003eGDP per capita: 32170.37442\\u003cbr\\u003ePopulation: 82400996\\u003cbr\\u003eYear: 2007\",\"Country: Greece\\u003cbr\\u003eLife Expectancy: 79.483\\u003cbr\\u003eGDP per capita: 27538.41188\\u003cbr\\u003ePopulation: 10706290\\u003cbr\\u003eYear: 2007\",\"Country: Hungary\\u003cbr\\u003eLife Expectancy: 73.33800000000002\\u003cbr\\u003eGDP per capita: 18008.94444\\u003cbr\\u003ePopulation: 9956108\\u003cbr\\u003eYear: 2007\",\"Country: Iceland\\u003cbr\\u003eLife Expectancy: 81.757\\u003cbr\\u003eGDP per capita: 36180.78919\\u003cbr\\u003ePopulation: 301931\\u003cbr\\u003eYear: 2007\",\"Country: Ireland\\u003cbr\\u003eLife Expectancy: 78.885\\u003cbr\\u003eGDP per capita: 40675.99635\\u003cbr\\u003ePopulation: 4109086\\u003cbr\\u003eYear: 2007\",\"Country: Italy\\u003cbr\\u003eLife Expectancy: 80.546\\u003cbr\\u003eGDP per capita: 28569.7197\\u003cbr\\u003ePopulation: 58147733\\u003cbr\\u003eYear: 2007\",\"Country: Montenegro\\u003cbr\\u003eLife Expectancy: 74.543\\u003cbr\\u003eGDP per capita: 9253.896111\\u003cbr\\u003ePopulation: 684736\\u003cbr\\u003eYear: 2007\",\"Country: Netherlands\\u003cbr\\u003eLife Expectancy: 79.762\\u003cbr\\u003eGDP per capita: 36797.93332\\u003cbr\\u003ePopulation: 16570613\\u003cbr\\u003eYear: 2007\",\"Country: Norway\\u003cbr\\u003eLife Expectancy: 80.196\\u003cbr\\u003eGDP per capita: 49357.19017\\u003cbr\\u003ePopulation: 4627926\\u003cbr\\u003eYear: 2007\",\"Country: Poland\\u003cbr\\u003eLife Expectancy: 75.563\\u003cbr\\u003eGDP per capita: 15389.924680000002\\u003cbr\\u003ePopulation: 38518241\\u003cbr\\u003eYear: 2007\",\"Country: Portugal\\u003cbr\\u003eLife Expectancy: 78.098\\u003cbr\\u003eGDP per capita: 20509.64777\\u003cbr\\u003ePopulation: 10642836\\u003cbr\\u003eYear: 2007\",\"Country: Romania\\u003cbr\\u003eLife Expectancy: 72.476\\u003cbr\\u003eGDP per capita: 10808.47561\\u003cbr\\u003ePopulation: 22276056\\u003cbr\\u003eYear: 2007\",\"Country: Serbia\\u003cbr\\u003eLife Expectancy: 74.002\\u003cbr\\u003eGDP per capita: 9786.534714\\u003cbr\\u003ePopulation: 10150265\\u003cbr\\u003eYear: 2007\",\"Country: Slovak Republic\\u003cbr\\u003eLife Expectancy: 74.663\\u003cbr\\u003eGDP per capita: 18678.31435\\u003cbr\\u003ePopulation: 5447502\\u003cbr\\u003eYear: 2007\",\"Country: Slovenia\\u003cbr\\u003eLife Expectancy: 77.926\\u003cbr\\u003eGDP per capita: 25768.25759\\u003cbr\\u003ePopulation: 2009245\\u003cbr\\u003eYear: 2007\",\"Country: Spain\\u003cbr\\u003eLife Expectancy: 80.941\\u003cbr\\u003eGDP per capita: 28821.0637\\u003cbr\\u003ePopulation: 40448191\\u003cbr\\u003eYear: 2007\",\"Country: Sweden\\u003cbr\\u003eLife Expectancy: 80.884\\u003cbr\\u003eGDP per capita: 33859.74835\\u003cbr\\u003ePopulation: 9031088\\u003cbr\\u003eYear: 2007\",\"Country: Switzerland\\u003cbr\\u003eLife Expectancy: 81.70100000000002\\u003cbr\\u003eGDP per capita: 37506.41907\\u003cbr\\u003ePopulation: 7554661\\u003cbr\\u003eYear: 2007\",\"Country: Turkey\\u003cbr\\u003eLife Expectancy: 71.777\\u003cbr\\u003eGDP per capita: 8458.276384\\u003cbr\\u003ePopulation: 71158647\\u003cbr\\u003eYear: 2007\",\"Country: United Kingdom\\u003cbr\\u003eLife Expectancy: 79.425\\u003cbr\\u003eGDP per capita: 33203.26128\\u003cbr\\u003ePopulation: 60776238\\u003cbr\\u003eYear: 2007\"],\"x\":[5937.029525999998,36126.4927,33692.60508,7446.298803,10680.79282,14619.222719999998,22833.30851,35278.41874,33207.0844,30470.0167,32170.37442,27538.41188,18008.94444,36180.78919,40675.99635,28569.7197,9253.896111,36797.93332,49357.19017,15389.924680000002,20509.64777,10808.47561,9786.534714,18678.31435,25768.25759,28821.0637,33859.74835,37506.41907,8458.276384,33203.26128],\"y\":[76.423,79.829,79.441,74.852,73.005,75.748,76.486,78.332,79.313,80.657,79.406,79.483,73.33800000000002,81.757,78.885,80.546,74.543,79.762,80.196,75.563,78.098,72.476,74.002,74.663,77.926,80.941,80.884,81.70100000000002,71.777,79.425],\"type\":\"scatter\",\"mode\":\"markers\"},{\"marker\":{\"size\":[4520.417679816766,2028.7363061768278],\"line\":{\"width\":2},\"sizemode\":\"area\",\"sizeref\":7.262735286377992},\"name\":\"Oceania\",\"text\":[\"Country: Australia\\u003cbr\\u003eLife Expectancy: 81.235\\u003cbr\\u003eGDP per capita: 34435.367439999995\\u003cbr\\u003ePopulation: 20434176\\u003cbr\\u003eYear: 2007\",\"Country: New Zealand\\u003cbr\\u003eLife Expectancy: 80.204\\u003cbr\\u003eGDP per capita: 25185.00911\\u003cbr\\u003ePopulation: 4115771\\u003cbr\\u003eYear: 2007\"],\"x\":[34435.367439999995,25185.00911],\"y\":[81.235,80.204],\"type\":\"scatter\",\"mode\":\"markers\"},{\"marker\":{\"size\":[5773.492530522578,3524.269569712283,2842.237498873027,1280.2855150317057,3784.9970937901658,2896.6368429611607,4206.696209616282,2090.2243898682264,3199.8135883204195,843.1844400841372,8037.832979105749,1949.5153243819348,4244.2206587311175,704.5381465896648,8959.048107918608,742.429121196091,2215.0812626176944,8747.107350433056,1206.1786766478672,1299.3686928658856,4782.607866007833,3154.015535789258,1213.276967555224,5967.426329666751,1418.678610538694,1787.160317375025,2457.013227477622,4378.0879388153,3650.627206385226,3468.687792234983,1808.3321044542674,1118.428361586025,5810.092512172246,4466.727661275086,1433.5550216158429,3590.9420769486105,11620.291046269022,893.3610692211744,2976.673982820423,446.74265522781684,3502.498108493422,2478.822704430472,3019.730617124647,6633.085858030182,6503.301392369878,1064.4557294692909,6175.729916374258,2387.7979395250345,3205.644708947016,5400.962691965202,3427.248896710013,3508.7238420827593],\"line\":{\"width\":2},\"sizemode\":\"area\",\"sizeref\":7.262735286377992},\"name\":\"Africa\",\"text\":[\"Country: Algeria\\u003cbr\\u003eLife Expectancy: 72.301\\u003cbr\\u003eGDP per capita: 6223.367465\\u003cbr\\u003ePopulation: 33333216\\u003cbr\\u003eYear: 2007\",\"Country: Angola\\u003cbr\\u003eLife Expectancy: 42.731\\u003cbr\\u003eGDP per capita: 4797.231267\\u003cbr\\u003ePopulation: 12420476\\u003cbr\\u003eYear: 2007\",\"Country: Benin\\u003cbr\\u003eLife Expectancy: 56.728\\u003cbr\\u003eGDP per capita: 1441.284873\\u003cbr\\u003ePopulation: 8078314\\u003cbr\\u003eYear: 2007\",\"Country: Botswana\\u003cbr\\u003eLife Expectancy: 50.728\\u003cbr\\u003eGDP per capita: 12569.85177\\u003cbr\\u003ePopulation: 1639131\\u003cbr\\u003eYear: 2007\",\"Country: Burkina Faso\\u003cbr\\u003eLife Expectancy: 52.295\\u003cbr\\u003eGDP per capita: 1217.032994\\u003cbr\\u003ePopulation: 14326203\\u003cbr\\u003eYear: 2007\",\"Country: Burundi\\u003cbr\\u003eLife Expectancy: 49.58\\u003cbr\\u003eGDP per capita: 430.0706916\\u003cbr\\u003ePopulation: 8390505\\u003cbr\\u003eYear: 2007\",\"Country: Cameroon\\u003cbr\\u003eLife Expectancy: 50.43\\u003cbr\\u003eGDP per capita: 2042.09524\\u003cbr\\u003ePopulation: 17696293\\u003cbr\\u003eYear: 2007\",\"Country: Central African Republic\\u003cbr\\u003eLife Expectancy: 44.74100000000001\\u003cbr\\u003eGDP per capita: 706.016537\\u003cbr\\u003ePopulation: 4369038\\u003cbr\\u003eYear: 2007\",\"Country: Chad\\u003cbr\\u003eLife Expectancy: 50.651\\u003cbr\\u003eGDP per capita: 1704.063724\\u003cbr\\u003ePopulation: 10238807\\u003cbr\\u003eYear: 2007\",\"Country: Comoros\\u003cbr\\u003eLife Expectancy: 65.152\\u003cbr\\u003eGDP per capita: 986.1478792\\u003cbr\\u003ePopulation: 710960\\u003cbr\\u003eYear: 2007\",\"Country: Congo, Dem. Rep.\\u003cbr\\u003eLife Expectancy: 46.462\\u003cbr\\u003eGDP per capita: 277.5518587\\u003cbr\\u003ePopulation: 64606759\\u003cbr\\u003eYear: 2007\",\"Country: Congo, Rep.\\u003cbr\\u003eLife Expectancy: 55.322\\u003cbr\\u003eGDP per capita: 3632.557798\\u003cbr\\u003ePopulation: 3800610\\u003cbr\\u003eYear: 2007\",\"Country: Cote d'Ivoire\\u003cbr\\u003eLife Expectancy: 48.328\\u003cbr\\u003eGDP per capita: 1544.750112\\u003cbr\\u003ePopulation: 18013409\\u003cbr\\u003eYear: 2007\",\"Country: Djibouti\\u003cbr\\u003eLife Expectancy: 54.791\\u003cbr\\u003eGDP per capita: 2082.4815670000007\\u003cbr\\u003ePopulation: 496374\\u003cbr\\u003eYear: 2007\",\"Country: Egypt\\u003cbr\\u003eLife Expectancy: 71.33800000000002\\u003cbr\\u003eGDP per capita: 5581.180998\\u003cbr\\u003ePopulation: 80264543\\u003cbr\\u003eYear: 2007\",\"Country: Equatorial Guinea\\u003cbr\\u003eLife Expectancy: 51.57899999999999\\u003cbr\\u003eGDP per capita: 12154.08975\\u003cbr\\u003ePopulation: 551201\\u003cbr\\u003eYear: 2007\",\"Country: Eritrea\\u003cbr\\u003eLife Expectancy: 58.04\\u003cbr\\u003eGDP per capita: 641.3695236000002\\u003cbr\\u003ePopulation: 4906585\\u003cbr\\u003eYear: 2007\",\"Country: Ethiopia\\u003cbr\\u003eLife Expectancy: 52.947\\u003cbr\\u003eGDP per capita: 690.8055759\\u003cbr\\u003ePopulation: 76511887\\u003cbr\\u003eYear: 2007\",\"Country: Gabon\\u003cbr\\u003eLife Expectancy: 56.735\\u003cbr\\u003eGDP per capita: 13206.48452\\u003cbr\\u003ePopulation: 1454867\\u003cbr\\u003eYear: 2007\",\"Country: Gambia\\u003cbr\\u003eLife Expectancy: 59.448\\u003cbr\\u003eGDP per capita: 752.7497265\\u003cbr\\u003ePopulation: 1688359\\u003cbr\\u003eYear: 2007\",\"Country: Ghana\\u003cbr\\u003eLife Expectancy: 60.022\\u003cbr\\u003eGDP per capita: 1327.60891\\u003cbr\\u003ePopulation: 22873338\\u003cbr\\u003eYear: 2007\",\"Country: Guinea\\u003cbr\\u003eLife Expectancy: 56.007\\u003cbr\\u003eGDP per capita: 942.6542111\\u003cbr\\u003ePopulation: 9947814\\u003cbr\\u003eYear: 2007\",\"Country: Guinea-Bissau\\u003cbr\\u003eLife Expectancy: 46.38800000000001\\u003cbr\\u003eGDP per capita: 579.2317429999998\\u003cbr\\u003ePopulation: 1472041\\u003cbr\\u003eYear: 2007\",\"Country: Kenya\\u003cbr\\u003eLife Expectancy: 54.11\\u003cbr\\u003eGDP per capita: 1463.249282\\u003cbr\\u003ePopulation: 35610177\\u003cbr\\u003eYear: 2007\",\"Country: Lesotho\\u003cbr\\u003eLife Expectancy: 42.592\\u003cbr\\u003eGDP per capita: 1569.331442\\u003cbr\\u003ePopulation: 2012649\\u003cbr\\u003eYear: 2007\",\"Country: Liberia\\u003cbr\\u003eLife Expectancy: 45.678\\u003cbr\\u003eGDP per capita: 414.5073415\\u003cbr\\u003ePopulation: 3193942\\u003cbr\\u003eYear: 2007\",\"Country: Libya\\u003cbr\\u003eLife Expectancy: 73.952\\u003cbr\\u003eGDP per capita: 12057.49928\\u003cbr\\u003ePopulation: 6036914\\u003cbr\\u003eYear: 2007\",\"Country: Madagascar\\u003cbr\\u003eLife Expectancy: 59.44300000000001\\u003cbr\\u003eGDP per capita: 1044.770126\\u003cbr\\u003ePopulation: 19167654\\u003cbr\\u003eYear: 2007\",\"Country: Malawi\\u003cbr\\u003eLife Expectancy: 48.303\\u003cbr\\u003eGDP per capita: 759.3499101\\u003cbr\\u003ePopulation: 13327079\\u003cbr\\u003eYear: 2007\",\"Country: Mali\\u003cbr\\u003eLife Expectancy: 54.467\\u003cbr\\u003eGDP per capita: 1042.581557\\u003cbr\\u003ePopulation: 12031795\\u003cbr\\u003eYear: 2007\",\"Country: Mauritania\\u003cbr\\u003eLife Expectancy: 64.164\\u003cbr\\u003eGDP per capita: 1803.151496\\u003cbr\\u003ePopulation: 3270065\\u003cbr\\u003eYear: 2007\",\"Country: Mauritius\\u003cbr\\u003eLife Expectancy: 72.801\\u003cbr\\u003eGDP per capita: 10956.99112\\u003cbr\\u003ePopulation: 1250882\\u003cbr\\u003eYear: 2007\",\"Country: Morocco\\u003cbr\\u003eLife Expectancy: 71.164\\u003cbr\\u003eGDP per capita: 3820.17523\\u003cbr\\u003ePopulation: 33757175\\u003cbr\\u003eYear: 2007\",\"Country: Mozambique\\u003cbr\\u003eLife Expectancy: 42.082\\u003cbr\\u003eGDP per capita: 823.6856205\\u003cbr\\u003ePopulation: 19951656\\u003cbr\\u003eYear: 2007\",\"Country: Namibia\\u003cbr\\u003eLife Expectancy: 52.90600000000001\\u003cbr\\u003eGDP per capita: 4811.060429\\u003cbr\\u003ePopulation: 2055080\\u003cbr\\u003eYear: 2007\",\"Country: Niger\\u003cbr\\u003eLife Expectancy: 56.867\\u003cbr\\u003eGDP per capita: 619.6768923999998\\u003cbr\\u003ePopulation: 12894865\\u003cbr\\u003eYear: 2007\",\"Country: Nigeria\\u003cbr\\u003eLife Expectancy: 46.859\\u003cbr\\u003eGDP per capita: 2013.977305\\u003cbr\\u003ePopulation: 135031164\\u003cbr\\u003eYear: 2007\",\"Country: Reunion\\u003cbr\\u003eLife Expectancy: 76.442\\u003cbr\\u003eGDP per capita: 7670.122558\\u003cbr\\u003ePopulation: 798094\\u003cbr\\u003eYear: 2007\",\"Country: Rwanda\\u003cbr\\u003eLife Expectancy: 46.242\\u003cbr\\u003eGDP per capita: 863.0884639000002\\u003cbr\\u003ePopulation: 8860588\\u003cbr\\u003eYear: 2007\",\"Country: Sao Tome and Principe\\u003cbr\\u003eLife Expectancy: 65.528\\u003cbr\\u003eGDP per capita: 1598.435089\\u003cbr\\u003ePopulation: 199579\\u003cbr\\u003eYear: 2007\",\"Country: Senegal\\u003cbr\\u003eLife Expectancy: 63.062\\u003cbr\\u003eGDP per capita: 1712.472136\\u003cbr\\u003ePopulation: 12267493\\u003cbr\\u003eYear: 2007\",\"Country: Sierra Leone\\u003cbr\\u003eLife Expectancy: 42.56800000000001\\u003cbr\\u003eGDP per capita: 862.5407561000002\\u003cbr\\u003ePopulation: 6144562\\u003cbr\\u003eYear: 2007\",\"Country: Somalia\\u003cbr\\u003eLife Expectancy: 48.159\\u003cbr\\u003eGDP per capita: 926.1410683\\u003cbr\\u003ePopulation: 9118773\\u003cbr\\u003eYear: 2007\",\"Country: South Africa\\u003cbr\\u003eLife Expectancy: 49.339\\u003cbr\\u003eGDP per capita: 9269.657808\\u003cbr\\u003ePopulation: 43997828\\u003cbr\\u003eYear: 2007\",\"Country: Sudan\\u003cbr\\u003eLife Expectancy: 58.556\\u003cbr\\u003eGDP per capita: 2602.394995\\u003cbr\\u003ePopulation: 42292929\\u003cbr\\u003eYear: 2007\",\"Country: Swaziland\\u003cbr\\u003eLife Expectancy: 39.613\\u003cbr\\u003eGDP per capita: 4513.480643\\u003cbr\\u003ePopulation: 1133066\\u003cbr\\u003eYear: 2007\",\"Country: Tanzania\\u003cbr\\u003eLife Expectancy: 52.517\\u003cbr\\u003eGDP per capita: 1107.482182\\u003cbr\\u003ePopulation: 38139640\\u003cbr\\u003eYear: 2007\",\"Country: Togo\\u003cbr\\u003eLife Expectancy: 58.42\\u003cbr\\u003eGDP per capita: 882.9699437999999\\u003cbr\\u003ePopulation: 5701579\\u003cbr\\u003eYear: 2007\",\"Country: Tunisia\\u003cbr\\u003eLife Expectancy: 73.923\\u003cbr\\u003eGDP per capita: 7092.923025\\u003cbr\\u003ePopulation: 10276158\\u003cbr\\u003eYear: 2007\",\"Country: Uganda\\u003cbr\\u003eLife Expectancy: 51.542\\u003cbr\\u003eGDP per capita: 1056.380121\\u003cbr\\u003ePopulation: 29170398\\u003cbr\\u003eYear: 2007\",\"Country: Zambia\\u003cbr\\u003eLife Expectancy: 42.38399999999999\\u003cbr\\u003eGDP per capita: 1271.211593\\u003cbr\\u003ePopulation: 11746035\\u003cbr\\u003eYear: 2007\",\"Country: Zimbabwe\\u003cbr\\u003eLife Expectancy: 43.487\\u003cbr\\u003eGDP per capita: 469.70929810000007\\u003cbr\\u003ePopulation: 12311143\\u003cbr\\u003eYear: 2007\"],\"x\":[6223.367465,4797.231267,1441.284873,12569.85177,1217.032994,430.0706916,2042.09524,706.016537,1704.063724,986.1478792,277.5518587,3632.557798,1544.750112,2082.4815670000007,5581.180998,12154.08975,641.3695236000002,690.8055759,13206.48452,752.7497265,1327.60891,942.6542111,579.2317429999998,1463.249282,1569.331442,414.5073415,12057.49928,1044.770126,759.3499101,1042.581557,1803.151496,10956.99112,3820.17523,823.6856205,4811.060429,619.6768923999998,2013.977305,7670.122558,863.0884639000002,1598.435089,1712.472136,862.5407561000002,926.1410683,9269.657808,2602.394995,4513.480643,1107.482182,882.9699437999999,7092.923025,1056.380121,1271.211593,469.70929810000007],\"y\":[72.301,42.731,56.728,50.728,52.295,49.58,50.43,44.74100000000001,50.651,65.152,46.462,55.322,48.328,54.791,71.33800000000002,51.57899999999999,58.04,52.947,56.735,59.448,60.022,56.007,46.38800000000001,54.11,42.592,45.678,73.952,59.44300000000001,48.303,54.467,64.164,72.801,71.164,42.082,52.90600000000001,56.867,46.859,76.442,46.242,65.528,63.062,42.56800000000001,48.159,49.339,58.556,39.613,52.517,58.42,73.923,51.542,42.38399999999999,43.487],\"type\":\"scatter\",\"mode\":\"markers\"},{\"marker\":{\"size\":[6348.379872061848,3019.793370414605,13784.43495396166,5778.4202858566805,4035.4356642127254,6650.379688408775,2033.1955144550168,3378.9032244206105,3052.8055948586048,3708.8650555122654,2634.32875700813,3545.8324833528163,2915.958504505851,2735.646724268322,1667.3727837529316,10425.97194509941,2382.3005687780037,1800.6035099377098,2582.0819119462494,5354.881604666904,1985.5706988168415,1027.9143933227124,17353.384309695903,1856.7433856082537,5107.314558552273],\"line\":{\"width\":2},\"sizemode\":\"area\",\"sizeref\":7.262735286377992},\"name\":\"Americas\",\"text\":[\"Country: Argentina\\u003cbr\\u003eLife Expectancy: 75.32\\u003cbr\\u003eGDP per capita: 12779.37964\\u003cbr\\u003ePopulation: 40301927\\u003cbr\\u003eYear: 2007\",\"Country: Bolivia\\u003cbr\\u003eLife Expectancy: 65.554\\u003cbr\\u003eGDP per capita: 3822.137084\\u003cbr\\u003ePopulation: 9119152\\u003cbr\\u003eYear: 2007\",\"Country: Brazil\\u003cbr\\u003eLife Expectancy: 72.39\\u003cbr\\u003eGDP per capita: 9065.800825\\u003cbr\\u003ePopulation: 190010647\\u003cbr\\u003eYear: 2007\",\"Country: Canada\\u003cbr\\u003eLife Expectancy: 80.653\\u003cbr\\u003eGDP per capita: 36319.23501\\u003cbr\\u003ePopulation: 33390141\\u003cbr\\u003eYear: 2007\",\"Country: Chile\\u003cbr\\u003eLife Expectancy: 78.553\\u003cbr\\u003eGDP per capita: 13171.63885\\u003cbr\\u003ePopulation: 16284741\\u003cbr\\u003eYear: 2007\",\"Country: Colombia\\u003cbr\\u003eLife Expectancy: 72.889\\u003cbr\\u003eGDP per capita: 7006.580419\\u003cbr\\u003ePopulation: 44227550\\u003cbr\\u003eYear: 2007\",\"Country: Costa Rica\\u003cbr\\u003eLife Expectancy: 78.782\\u003cbr\\u003eGDP per capita: 9645.06142\\u003cbr\\u003ePopulation: 4133884\\u003cbr\\u003eYear: 2007\",\"Country: Cuba\\u003cbr\\u003eLife Expectancy: 78.273\\u003cbr\\u003eGDP per capita: 8948.102923\\u003cbr\\u003ePopulation: 11416987\\u003cbr\\u003eYear: 2007\",\"Country: Dominican Republic\\u003cbr\\u003eLife Expectancy: 72.235\\u003cbr\\u003eGDP per capita: 6025.3747520000015\\u003cbr\\u003ePopulation: 9319622\\u003cbr\\u003eYear: 2007\",\"Country: Ecuador\\u003cbr\\u003eLife Expectancy: 74.994\\u003cbr\\u003eGDP per capita: 6873.262326000001\\u003cbr\\u003ePopulation: 13755680\\u003cbr\\u003eYear: 2007\",\"Country: El Salvador\\u003cbr\\u003eLife Expectancy: 71.878\\u003cbr\\u003eGDP per capita: 5728.353514\\u003cbr\\u003ePopulation: 6939688\\u003cbr\\u003eYear: 2007\",\"Country: Guatemala\\u003cbr\\u003eLife Expectancy: 70.259\\u003cbr\\u003eGDP per capita: 5186.050003\\u003cbr\\u003ePopulation: 12572928\\u003cbr\\u003eYear: 2007\",\"Country: Haiti\\u003cbr\\u003eLife Expectancy: 60.916\\u003cbr\\u003eGDP per capita: 1201.637154\\u003cbr\\u003ePopulation: 8502814\\u003cbr\\u003eYear: 2007\",\"Country: Honduras\\u003cbr\\u003eLife Expectancy: 70.19800000000001\\u003cbr\\u003eGDP per capita: 3548.3308460000007\\u003cbr\\u003ePopulation: 7483763\\u003cbr\\u003eYear: 2007\",\"Country: Jamaica\\u003cbr\\u003eLife Expectancy: 72.567\\u003cbr\\u003eGDP per capita: 7320.8802620000015\\u003cbr\\u003ePopulation: 2780132\\u003cbr\\u003eYear: 2007\",\"Country: Mexico\\u003cbr\\u003eLife Expectancy: 76.195\\u003cbr\\u003eGDP per capita: 11977.57496\\u003cbr\\u003ePopulation: 108700891\\u003cbr\\u003eYear: 2007\",\"Country: Nicaragua\\u003cbr\\u003eLife Expectancy: 72.899\\u003cbr\\u003eGDP per capita: 2749.320965\\u003cbr\\u003ePopulation: 5675356\\u003cbr\\u003eYear: 2007\",\"Country: Panama\\u003cbr\\u003eLife Expectancy: 75.53699999999998\\u003cbr\\u003eGDP per capita: 9809.185636\\u003cbr\\u003ePopulation: 3242173\\u003cbr\\u003eYear: 2007\",\"Country: Paraguay\\u003cbr\\u003eLife Expectancy: 71.752\\u003cbr\\u003eGDP per capita: 4172.838464\\u003cbr\\u003ePopulation: 6667147\\u003cbr\\u003eYear: 2007\",\"Country: Peru\\u003cbr\\u003eLife Expectancy: 71.421\\u003cbr\\u003eGDP per capita: 7408.905561\\u003cbr\\u003ePopulation: 28674757\\u003cbr\\u003eYear: 2007\",\"Country: Puerto Rico\\u003cbr\\u003eLife Expectancy: 78.74600000000002\\u003cbr\\u003eGDP per capita: 19328.70901\\u003cbr\\u003ePopulation: 3942491\\u003cbr\\u003eYear: 2007\",\"Country: Trinidad and Tobago\\u003cbr\\u003eLife Expectancy: 69.819\\u003cbr\\u003eGDP per capita: 18008.50924\\u003cbr\\u003ePopulation: 1056608\\u003cbr\\u003eYear: 2007\",\"Country: United States\\u003cbr\\u003eLife Expectancy: 78.242\\u003cbr\\u003eGDP per capita: 42951.65309\\u003cbr\\u003ePopulation: 301139947\\u003cbr\\u003eYear: 2007\",\"Country: Uruguay\\u003cbr\\u003eLife Expectancy: 76.384\\u003cbr\\u003eGDP per capita: 10611.46299\\u003cbr\\u003ePopulation: 3447496\\u003cbr\\u003eYear: 2007\",\"Country: Venezuela\\u003cbr\\u003eLife Expectancy: 73.747\\u003cbr\\u003eGDP per capita: 11415.80569\\u003cbr\\u003ePopulation: 26084662\\u003cbr\\u003eYear: 2007\"],\"x\":[12779.37964,3822.137084,9065.800825,36319.23501,13171.63885,7006.580419,9645.06142,8948.102923,6025.3747520000015,6873.262326000001,5728.353514,5186.050003,1201.637154,3548.3308460000007,7320.8802620000015,11977.57496,2749.320965,9809.185636,4172.838464,7408.905561,19328.70901,18008.50924,42951.65309,10611.46299,11415.80569],\"y\":[75.32,65.554,72.39,80.653,78.553,72.889,78.782,78.273,72.235,74.994,71.878,70.259,60.916,70.19800000000001,72.567,76.195,72.899,75.53699999999998,71.752,71.421,78.74600000000002,69.819,78.242,76.384,73.747],\"type\":\"scatter\",\"mode\":\"markers\"}],                        {\"template\":{\"data\":{\"histogram2dcontour\":[{\"type\":\"histogram2dcontour\",\"colorbar\":{\"outlinewidth\":0,\"ticks\":\"\"},\"colorscale\":[[0.0,\"#0d0887\"],[0.1111111111111111,\"#46039f\"],[0.2222222222222222,\"#7201a8\"],[0.3333333333333333,\"#9c179e\"],[0.4444444444444444,\"#bd3786\"],[0.5555555555555556,\"#d8576b\"],[0.6666666666666666,\"#ed7953\"],[0.7777777777777778,\"#fb9f3a\"],[0.8888888888888888,\"#fdca26\"],[1.0,\"#f0f921\"]]}],\"choropleth\":[{\"type\":\"choropleth\",\"colorbar\":{\"outlinewidth\":0,\"ticks\":\"\"}}],\"histogram2d\":[{\"type\":\"histogram2d\",\"colorbar\":{\"outlinewidth\":0,\"ticks\":\"\"},\"colorscale\":[[0.0,\"#0d0887\"],[0.1111111111111111,\"#46039f\"],[0.2222222222222222,\"#7201a8\"],[0.3333333333333333,\"#9c179e\"],[0.4444444444444444,\"#bd3786\"],[0.5555555555555556,\"#d8576b\"],[0.6666666666666666,\"#ed7953\"],[0.7777777777777778,\"#fb9f3a\"],[0.8888888888888888,\"#fdca26\"],[1.0,\"#f0f921\"]]}],\"heatmap\":[{\"type\":\"heatmap\",\"colorbar\":{\"outlinewidth\":0,\"ticks\":\"\"},\"colorscale\":[[0.0,\"#0d0887\"],[0.1111111111111111,\"#46039f\"],[0.2222222222222222,\"#7201a8\"],[0.3333333333333333,\"#9c179e\"],[0.4444444444444444,\"#bd3786\"],[0.5555555555555556,\"#d8576b\"],[0.6666666666666666,\"#ed7953\"],[0.7777777777777778,\"#fb9f3a\"],[0.8888888888888888,\"#fdca26\"],[1.0,\"#f0f921\"]]}],\"heatmapgl\":[{\"type\":\"heatmapgl\",\"colorbar\":{\"outlinewidth\":0,\"ticks\":\"\"},\"colorscale\":[[0.0,\"#0d0887\"],[0.1111111111111111,\"#46039f\"],[0.2222222222222222,\"#7201a8\"],[0.3333333333333333,\"#9c179e\"],[0.4444444444444444,\"#bd3786\"],[0.5555555555555556,\"#d8576b\"],[0.6666666666666666,\"#ed7953\"],[0.7777777777777778,\"#fb9f3a\"],[0.8888888888888888,\"#fdca26\"],[1.0,\"#f0f921\"]]}],\"contourcarpet\":[{\"type\":\"contourcarpet\",\"colorbar\":{\"outlinewidth\":0,\"ticks\":\"\"}}],\"contour\":[{\"type\":\"contour\",\"colorbar\":{\"outlinewidth\":0,\"ticks\":\"\"},\"colorscale\":[[0.0,\"#0d0887\"],[0.1111111111111111,\"#46039f\"],[0.2222222222222222,\"#7201a8\"],[0.3333333333333333,\"#9c179e\"],[0.4444444444444444,\"#bd3786\"],[0.5555555555555556,\"#d8576b\"],[0.6666666666666666,\"#ed7953\"],[0.7777777777777778,\"#fb9f3a\"],[0.8888888888888888,\"#fdca26\"],[1.0,\"#f0f921\"]]}],\"surface\":[{\"type\":\"surface\",\"colorbar\":{\"outlinewidth\":0,\"ticks\":\"\"},\"colorscale\":[[0.0,\"#0d0887\"],[0.1111111111111111,\"#46039f\"],[0.2222222222222222,\"#7201a8\"],[0.3333333333333333,\"#9c179e\"],[0.4444444444444444,\"#bd3786\"],[0.5555555555555556,\"#d8576b\"],[0.6666666666666666,\"#ed7953\"],[0.7777777777777778,\"#fb9f3a\"],[0.8888888888888888,\"#fdca26\"],[1.0,\"#f0f921\"]]}],\"mesh3d\":[{\"type\":\"mesh3d\",\"colorbar\":{\"outlinewidth\":0,\"ticks\":\"\"}}],\"scatter\":[{\"fillpattern\":{\"fillmode\":\"overlay\",\"size\":10,\"solidity\":0.2},\"type\":\"scatter\"}],\"parcoords\":[{\"type\":\"parcoords\",\"line\":{\"colorbar\":{\"outlinewidth\":0,\"ticks\":\"\"}}}],\"scatterpolargl\":[{\"type\":\"scatterpolargl\",\"marker\":{\"colorbar\":{\"outlinewidth\":0,\"ticks\":\"\"}}}],\"bar\":[{\"error_x\":{\"color\":\"#2a3f5f\"},\"error_y\":{\"color\":\"#2a3f5f\"},\"marker\":{\"line\":{\"color\":\"#E5ECF6\",\"width\":0.5},\"pattern\":{\"fillmode\":\"overlay\",\"size\":10,\"solidity\":0.2}},\"type\":\"bar\"}],\"scattergeo\":[{\"type\":\"scattergeo\",\"marker\":{\"colorbar\":{\"outlinewidth\":0,\"ticks\":\"\"}}}],\"scatterpolar\":[{\"type\":\"scatterpolar\",\"marker\":{\"colorbar\":{\"outlinewidth\":0,\"ticks\":\"\"}}}],\"histogram\":[{\"marker\":{\"pattern\":{\"fillmode\":\"overlay\",\"size\":10,\"solidity\":0.2}},\"type\":\"histogram\"}],\"scattergl\":[{\"type\":\"scattergl\",\"marker\":{\"colorbar\":{\"outlinewidth\":0,\"ticks\":\"\"}}}],\"scatter3d\":[{\"type\":\"scatter3d\",\"line\":{\"colorbar\":{\"outlinewidth\":0,\"ticks\":\"\"}},\"marker\":{\"colorbar\":{\"outlinewidth\":0,\"ticks\":\"\"}}}],\"scattermapbox\":[{\"type\":\"scattermapbox\",\"marker\":{\"colorbar\":{\"outlinewidth\":0,\"ticks\":\"\"}}}],\"scatterternary\":[{\"type\":\"scatterternary\",\"marker\":{\"colorbar\":{\"outlinewidth\":0,\"ticks\":\"\"}}}],\"scattercarpet\":[{\"type\":\"scattercarpet\",\"marker\":{\"colorbar\":{\"outlinewidth\":0,\"ticks\":\"\"}}}],\"carpet\":[{\"aaxis\":{\"endlinecolor\":\"#2a3f5f\",\"gridcolor\":\"white\",\"linecolor\":\"white\",\"minorgridcolor\":\"white\",\"startlinecolor\":\"#2a3f5f\"},\"baxis\":{\"endlinecolor\":\"#2a3f5f\",\"gridcolor\":\"white\",\"linecolor\":\"white\",\"minorgridcolor\":\"white\",\"startlinecolor\":\"#2a3f5f\"},\"type\":\"carpet\"}],\"table\":[{\"cells\":{\"fill\":{\"color\":\"#EBF0F8\"},\"line\":{\"color\":\"white\"}},\"header\":{\"fill\":{\"color\":\"#C8D4E3\"},\"line\":{\"color\":\"white\"}},\"type\":\"table\"}],\"barpolar\":[{\"marker\":{\"line\":{\"color\":\"#E5ECF6\",\"width\":0.5},\"pattern\":{\"fillmode\":\"overlay\",\"size\":10,\"solidity\":0.2}},\"type\":\"barpolar\"}],\"pie\":[{\"automargin\":true,\"type\":\"pie\"}]},\"layout\":{\"autotypenumbers\":\"strict\",\"colorway\":[\"#636efa\",\"#EF553B\",\"#00cc96\",\"#ab63fa\",\"#FFA15A\",\"#19d3f3\",\"#FF6692\",\"#B6E880\",\"#FF97FF\",\"#FECB52\"],\"font\":{\"color\":\"#2a3f5f\"},\"hovermode\":\"closest\",\"hoverlabel\":{\"align\":\"left\"},\"paper_bgcolor\":\"white\",\"plot_bgcolor\":\"#E5ECF6\",\"polar\":{\"bgcolor\":\"#E5ECF6\",\"angularaxis\":{\"gridcolor\":\"white\",\"linecolor\":\"white\",\"ticks\":\"\"},\"radialaxis\":{\"gridcolor\":\"white\",\"linecolor\":\"white\",\"ticks\":\"\"}},\"ternary\":{\"bgcolor\":\"#E5ECF6\",\"aaxis\":{\"gridcolor\":\"white\",\"linecolor\":\"white\",\"ticks\":\"\"},\"baxis\":{\"gridcolor\":\"white\",\"linecolor\":\"white\",\"ticks\":\"\"},\"caxis\":{\"gridcolor\":\"white\",\"linecolor\":\"white\",\"ticks\":\"\"}},\"coloraxis\":{\"colorbar\":{\"outlinewidth\":0,\"ticks\":\"\"}},\"colorscale\":{\"sequential\":[[0.0,\"#0d0887\"],[0.1111111111111111,\"#46039f\"],[0.2222222222222222,\"#7201a8\"],[0.3333333333333333,\"#9c179e\"],[0.4444444444444444,\"#bd3786\"],[0.5555555555555556,\"#d8576b\"],[0.6666666666666666,\"#ed7953\"],[0.7777777777777778,\"#fb9f3a\"],[0.8888888888888888,\"#fdca26\"],[1.0,\"#f0f921\"]],\"sequentialminus\":[[0.0,\"#0d0887\"],[0.1111111111111111,\"#46039f\"],[0.2222222222222222,\"#7201a8\"],[0.3333333333333333,\"#9c179e\"],[0.4444444444444444,\"#bd3786\"],[0.5555555555555556,\"#d8576b\"],[0.6666666666666666,\"#ed7953\"],[0.7777777777777778,\"#fb9f3a\"],[0.8888888888888888,\"#fdca26\"],[1.0,\"#f0f921\"]],\"diverging\":[[0,\"#8e0152\"],[0.1,\"#c51b7d\"],[0.2,\"#de77ae\"],[0.3,\"#f1b6da\"],[0.4,\"#fde0ef\"],[0.5,\"#f7f7f7\"],[0.6,\"#e6f5d0\"],[0.7,\"#b8e186\"],[0.8,\"#7fbc41\"],[0.9,\"#4d9221\"],[1,\"#276419\"]]},\"xaxis\":{\"gridcolor\":\"white\",\"linecolor\":\"white\",\"ticks\":\"\",\"title\":{\"standoff\":15},\"zerolinecolor\":\"white\",\"automargin\":true,\"zerolinewidth\":2},\"yaxis\":{\"gridcolor\":\"white\",\"linecolor\":\"white\",\"ticks\":\"\",\"title\":{\"standoff\":15},\"zerolinecolor\":\"white\",\"automargin\":true,\"zerolinewidth\":2},\"scene\":{\"xaxis\":{\"backgroundcolor\":\"#E5ECF6\",\"gridcolor\":\"white\",\"linecolor\":\"white\",\"showbackground\":true,\"ticks\":\"\",\"zerolinecolor\":\"white\",\"gridwidth\":2},\"yaxis\":{\"backgroundcolor\":\"#E5ECF6\",\"gridcolor\":\"white\",\"linecolor\":\"white\",\"showbackground\":true,\"ticks\":\"\",\"zerolinecolor\":\"white\",\"gridwidth\":2},\"zaxis\":{\"backgroundcolor\":\"#E5ECF6\",\"gridcolor\":\"white\",\"linecolor\":\"white\",\"showbackground\":true,\"ticks\":\"\",\"zerolinecolor\":\"white\",\"gridwidth\":2}},\"shapedefaults\":{\"line\":{\"color\":\"#2a3f5f\"}},\"annotationdefaults\":{\"arrowcolor\":\"#2a3f5f\",\"arrowhead\":0,\"arrowwidth\":1},\"geo\":{\"bgcolor\":\"white\",\"landcolor\":\"#E5ECF6\",\"subunitcolor\":\"white\",\"showland\":true,\"showlakes\":true,\"lakecolor\":\"white\"},\"title\":{\"x\":0.05},\"mapbox\":{\"style\":\"light\"}}},\"title\":{\"text\":\"Life Expectancy v. Per Capita GDP, 2007\"},\"xaxis\":{\"title\":{\"text\":\"GDP per capita (2000 dollars)\"},\"gridcolor\":\"white\",\"type\":\"log\",\"gridwidth\":2},\"yaxis\":{\"title\":{\"text\":\"Life Expectancy (years)\"},\"gridcolor\":\"white\",\"gridwidth\":2},\"paper_bgcolor\":\"rgb(243, 243, 243)\",\"plot_bgcolor\":\"rgb(243, 243, 243)\"},                        {\"responsive\": true}                    ).then(function(){\n",
              "                            \n",
              "var gd = document.getElementById('0ffc214a-7946-4c30-832f-2efbcf818f7f');\n",
              "var x = new MutationObserver(function (mutations, observer) {{\n",
              "        var display = window.getComputedStyle(gd).display;\n",
              "        if (!display || display === 'none') {{\n",
              "            console.log([gd, 'removed!']);\n",
              "            Plotly.purge(gd);\n",
              "            observer.disconnect();\n",
              "        }}\n",
              "}});\n",
              "\n",
              "// Listen for the removal of the full notebook cells\n",
              "var notebookContainer = gd.closest('#notebook-container');\n",
              "if (notebookContainer) {{\n",
              "    x.observe(notebookContainer, {childList: true});\n",
              "}}\n",
              "\n",
              "// Listen for the clearing of the current output cell\n",
              "var outputEl = gd.closest('.output');\n",
              "if (outputEl) {{\n",
              "    x.observe(outputEl, {childList: true});\n",
              "}}\n",
              "\n",
              "                        })                };                            </script>        </div>\n",
              "</body>\n",
              "</html>"
            ]
          },
          "metadata": {}
        }
      ]
    }
  ]
}